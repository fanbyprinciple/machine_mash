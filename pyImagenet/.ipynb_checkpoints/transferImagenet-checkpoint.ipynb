{
 "cells": [
  {
   "cell_type": "code",
   "execution_count": 36,
   "metadata": {},
   "outputs": [],
   "source": [
    "import keras\n",
    "from keras import backend as K\n",
    "from keras.layers.core import Dense, Activation\n",
    "from keras.optimizers import Adam\n",
    "from keras.metrics import categorical_crossentropy\n",
    "from keras.preprocessing.image import ImageDataGenerator\n",
    "from keras.preprocessing import image\n",
    "from keras.models import Model\n",
    "from keras.applications import imagenet_utils\n",
    "from keras.layers import Dense, GlobalAveragePooling2D\n",
    "from keras.applications import MobileNet\n",
    "from keras.applications.mobilenet import preprocess_input\n",
    "import numpy as np\n",
    "from IPython.display import Image\n",
    "from keras.optimizers import Adam"
   ]
  },
  {
   "cell_type": "code",
   "execution_count": 37,
   "metadata": {},
   "outputs": [],
   "source": [
    "def prepare_image(file):\n",
    "    img_path = ''\n",
    "    img = image.load_img(img_path + file, target_size=(224,224))\n",
    "    img_array = image.img_to_array(img)\n",
    "    img_array_expanded_dims = np.expand_dims(img_array,axis=0)\n",
    "    return preprocess_input(img_array_expanded_dims)"
   ]
  },
  {
   "cell_type": "code",
   "execution_count": 38,
   "metadata": {},
   "outputs": [],
   "source": [
    "def resultGiver(file):\n",
    "    preprocessed_image = prepare_image(file)\n",
    "    predictions = mobile.predict(preprocessed_image)\n",
    "    results = imagenet_utils.decode_predictions(predictions)\n",
    "    print(results)"
   ]
  },
  {
   "cell_type": "code",
   "execution_count": 4,
   "metadata": {},
   "outputs": [
    {
     "name": "stdout",
     "output_type": "stream",
     "text": [
      "Collecting google_images_download\n",
      "  Downloading https://files.pythonhosted.org/packages/18/ed/0319d30c48f3653802da8e6dcfefcea6370157d10d566ef6807cceb5ec4d/google_images_download-2.8.0.tar.gz\n",
      "Collecting selenium (from google_images_download)\n",
      "  Downloading https://files.pythonhosted.org/packages/80/d6/4294f0b4bce4de0abf13e17190289f9d0613b0a44e5dd6a7f5ca98459853/selenium-3.141.0-py2.py3-none-any.whl (904kB)\n",
      "Collecting urllib3 (from selenium->google_images_download)\n",
      "  Downloading https://files.pythonhosted.org/packages/e0/da/55f51ea951e1b7c63a579c09dd7db825bb730ec1fe9c0180fc77bfb31448/urllib3-1.25.6-py2.py3-none-any.whl (125kB)\n",
      "Building wheels for collected packages: google-images-download\n",
      "  Building wheel for google-images-download (setup.py): started\n",
      "  Building wheel for google-images-download (setup.py): finished with status 'done'\n",
      "  Created wheel for google-images-download: filename=google_images_download-2.8.0-py2.py3-none-any.whl size=14554 sha256=c52485497300f857d446fed92d0de4919e083fcbcc9763da376904f93d1888af\n",
      "  Stored in directory: C:\\Users\\aonno\\AppData\\Local\\pip\\Cache\\wheels\\1f\\28\\ad\\f56e7061e1d2a9a1affe2f9c649c2570cb9198dd24ede0bbab\n",
      "Successfully built google-images-download\n",
      "Installing collected packages: urllib3, selenium, google-images-download\n",
      "Successfully installed google-images-download-2.8.0 selenium-3.141.0 urllib3-1.25.6\n"
     ]
    }
   ],
   "source": [
    "!pip install google_images_download"
   ]
  },
  {
   "cell_type": "code",
   "execution_count": 7,
   "metadata": {},
   "outputs": [],
   "source": [
    "from google_images_download import google_images_download\n",
    "response = google_images_download.googleimagesdownload()"
   ]
  },
  {
   "cell_type": "code",
   "execution_count": 10,
   "metadata": {},
   "outputs": [
    {
     "name": "stdout",
     "output_type": "stream",
     "text": [
      "\n",
      "Item no.: 1 --> Item name = cargo ship\n",
      "Evaluating...\n",
      "Starting Download...\n",
      "Completed Image ====> 1.latraviata-501749698.jpg\n",
      "Wrong image format returned. Skipping...\n",
      "Completed Image ====> 2.1448593759520.jpg\n",
      "Completed Image ====> 3.shutterstock_679310377-800x533.jpg\n",
      "Completed Image ====> 4.Container_ships_President_Truman_%28IMO_8616283%29_and_President_Kennedy_%28IMO_8616295%29_at_San_Francisco.jpg\n",
      "Completed Image ====> 5.gettyimages-176619985-e1535488791582.jpg\n",
      "Completed Image ====> 6._108641470_p07mmt1g.jpg\n",
      "Completed Image ====> 7.1l-Maersk-Mc-Kinney.jpg\n",
      "Completed Image ====> 8.Evac-solutions-for-Cargo-vessels.jpg\n",
      "Completed Image ====> 9.file-20181214-185255-utuva1.jpg\n",
      "Completed Image ====> 10.cargo-ship_650x400_71498134806.jpg\n",
      "Completed Image ====> 11.Colombo.Express.wmt.jpg\n",
      "Completed Image ====> 12.1_Livb%C3%A5t_JueWang_0.jpg\n",
      "Completed Image ====> 13.HT_cma_cgm_cargo_cruises_mL-151029_12x5_608.jpg\n",
      "Completed Image ====> 14.cma-cgm-libra.JPG\n",
      "Completed Image ====> 15.ship22222.jpg\n",
      "Completed Image ====> 16.file-20181214-185255-utuva1.jpg\n",
      "URLError on an image...trying next one... Error: <urlopen error [SSL: CERTIFICATE_VERIFY_FAILED] certificate verify failed: unable to get local issuer certificate (_ssl.c:1076)>\n",
      "Completed Image ====> 17.5d76a0042e22af7c1559b8b2-750-375.jpg\n",
      "Completed Image ====> 18.maxresdefault.jpg\n",
      "Completed Image ====> 19.methode%2Ftimes%2Fprod%2Fweb%2Fbin%2F9c955cc4-b9bd-11e8-8fbe-1261885931e2.jpg\n",
      "Completed Image ====> 20.cosco-shipping-aries-container-ship.64b375.jpg\n",
      "Completed Image ====> 21.types-of-cargo-ships-1280x640.jpg\n",
      "Completed Image ====> 22.Container-ship-1280x720.jpg\n",
      "URLError on an image...trying next one... Error: <urlopen error [SSL: CERTIFICATE_VERIFY_FAILED] certificate verify failed: unable to get local issuer certificate (_ssl.c:1076)>\n",
      "Completed Image ====> 23.828540-cargo-ship-dna.jpg\n",
      "Completed Image ====> 24.lead_720_405.jpg\n",
      "Completed Image ====> 25.container-ship-from-noaa-site.jpg\n",
      "Completed Image ====> 26.Overturned-Georgia-Cargo-Ship_AP-580x381.jpg\n",
      "Completed Image ====> 27.39515837_303.jpg\n",
      "Completed Image ====> 28.88e9362cca695927ef42651987704d81.jpg\n",
      "Completed Image ====> 29.190908150709-05-golden-ray-ship.jpg\n",
      "Wrong image format returned. Skipping...\n",
      "Completed Image ====> 30.f4d13b1c248d5dbe68a9308deaa7d6aa.jpg\n",
      "Completed Image ====> 31.Grote-foto-min-e1554367729838.jpg\n",
      "Wrong image format returned. Skipping...\n",
      "URLError on an image...trying next one... Error: <urlopen error [SSL: CERTIFICATE_VERIFY_FAILED] certificate verify failed: unable to get local issuer certificate (_ssl.c:1076)>\n",
      "Completed Image ====> 32.ariana-cargo-vessel.jpg\n",
      "Completed Image ====> 33.cargoship-TA.jpg\n",
      "Wrong image format returned. Skipping...\n",
      "Completed Image ====> 34.r0_0_800_600_w1200_h678_fmax.jpg\n",
      "Completed Image ====> 35.theitalianca.jpg\n",
      "Completed Image ====> 36.maxresdefault.jpg\n",
      "Completed Image ====> 37._107100416_ship_craigduhamel.jpg\n",
      "Completed Image ====> 38.260115.jpg\n",
      "Completed Image ====> 39.119355-eight.jpg\n",
      "Completed Image ====> 40.82472.jpg\n",
      "URLError on an image...trying next one... Error: <urlopen error [SSL: CERTIFICATE_VERIFY_FAILED] certificate verify failed: unable to get local issuer certificate (_ssl.c:1076)>\n",
      "Completed Image ====> 41.190909_wabc_cargo_ship_hpMain_16x9_992.jpg\n",
      "Completed Image ====> 42.wind.jpg\n",
      "Wrong image format returned. Skipping...\n",
      "Completed Image ====> 43.db8cdaa9-daa9d8b4d8aadb8c-daa9d8a7d986d8aadb8cd986d8b1db8c-d8afd8b1-d8a8d986d8afd8b1-d8b4d987db8cd8af-d8b1d8acd8a7db8cdb8c-d8afda86d8a7.jpg\n",
      "Completed Image ====> 44.container-vessels1-1024x683.jpg\n",
      "Completed Image ====> 45.21d9547636d346cdf5a7cd65e3b57976.jpg\n",
      "Completed Image ====> 46.4-mysteryofthe.jpg\n",
      "Wrong image format returned. Skipping...\n",
      "Completed Image ====> 47.577a2ff3-ab2a-4f39-a829-0566ac788d3b-008_AP_Georgia_Cargo_Ship.5.JPG\n",
      "Wrong image format returned. Skipping...\n",
      "Completed Image ====> 48.694940094001_6084682596001_6084685722001-vs.jpg\n",
      "Completed Image ====> 49.ZI4K7GFISZDMFOEO5QOTXYQZ4Y.jpg\n",
      "Completed Image ====> 50.47904242_303.jpg\n",
      "Completed Image ====> 51.the-small-container-ship-a2b-energy-reaches-the-port-of-rotterdam-on-15-february-2019-RWDB74.jpg\n",
      "Completed Image ====> 52.f3d8be3b22664ce4a44715cb8fd50b1b.jpg\n",
      "Completed Image ====> 53.Sevmorputcroptight.jpg\n",
      "Completed Image ====> 54.fwn_rapide_wide-85598e67037f24b73f682142ec1d88ad6093a192-s800-c85.jpg\n",
      "URLError on an image...trying next one... Error: <urlopen error [SSL: CERTIFICATE_VERIFY_FAILED] certificate verify failed: unable to get local issuer certificate (_ssl.c:1076)>\n",
      "Completed Image ====> 55.4e005f20d3e6f2368ac8d3fda9382d128e6210b00ea6a9bcce77f97f09083175.jpg\n",
      "Completed Image ====> 56.as-ships-seek-comply-with-the-new-fuel.jpg\n",
      "Completed Image ====> 57.vietnam-650_010415071455.jpg\n",
      "Completed Image ====> 58.ONEBLUEJAY.jpg\n",
      "Completed Image ====> 59.Cargo%20ship%20capsized_1567979240223.jpg\n",
      "Completed Image ====> 60.capsized-ship02.jpg\n",
      "Completed Image ====> 61.container-GettyImages-94985747.jpg\n",
      "Completed Image ====> 62.apl-vancouver-e1549272206713.jpg\n",
      "Completed Image ====> 63.2018-07-31T152737Z_1251058091_RC14DAA56320_RTRMADP_3_GLOBAL-TRADE.jpg\n",
      "Completed Image ====> 64.container-ship%20%281%29.jpg\n",
      "Completed Image ====> 65.BN_UF539_crewle_TOP_20170711105139.0.jpg\n",
      "Completed Image ====> 66.image.jpg\n",
      "Completed Image ====> 67.skynews-grimaldi-lines-ship_4526421.jpg\n",
      "Wrong image format returned. Skipping...\n",
      "Completed Image ====> 68.1_TugboatMission_Bj%C3%B6rnSk%C3%A4rstr%C3%B6m.jpg\n",
      "Completed Image ====> 69.tanker-cargoship-accidents.jpg\n",
      "Completed Image ====> 70.speed-1280x720.jpg\n",
      "Completed Image ====> 71.maxresdefault.jpg\n",
      "Wrong image format returned. Skipping...\n",
      "Completed Image ====> 72.p06llg0p.jpg\n",
      "Completed Image ====> 73.612b3d75f3a73f7ceb7d470986f2f3d3.jpg\n",
      "Completed Image ====> 74.A-cargo-ship-001.jpg\n",
      "Completed Image ====> 75.AP_19251616442232.jpg\n",
      "Completed Image ====> 76.171112-N-MJ135-1129.jpg\n",
      "Wrong image format returned. Skipping...\n",
      "Completed Image ====> 77.cfff2b4df9a22785b244b0777496f632179750a0328fbf1ce38b85b9d6697298.jpg\n",
      "Completed Image ====> 78.SEI_45204744-c5ca.jpg\n",
      "Completed Image ====> 79.FHLZ3uHbUAZSmmVRXG2shX.jpg\n",
      "Completed Image ====> 80.image.jpg\n",
      "Completed Image ====> 81.2019-05-27_superstructures_cargo_ship_webclip.jpg\n",
      "Completed Image ====> 82.vizag-bound-malaysian-cargo-ship-drifts-to-odisha-coast-sparks-security-concern.jpg\n",
      "Completed Image ====> 83.n-collision-a-20190527-870x576.jpg\n",
      "Completed Image ====> 84.georgia-cargo-ship-capsized-crew.jpg\n",
      "Completed Image ====> 85.602x338_cmsv2_6349ae96-0cf3-5473-8a1e-15710ac37aba-3725016.jpg\n",
      "\n",
      "\n",
      "Unfortunately all 100 could not be downloaded because some images were not downloadable. 85 is all we got for this search filter!\n",
      "\n",
      "Errors: 15\n",
      "\n",
      "\n",
      "Item no.: 1 --> Item name = navy battleship\n",
      "Evaluating...\n",
      "Starting Download...\n",
      "Completed Image ====> 1.BB61_USS_Iowa_BB61_broadside_USN.jpg\n",
      "Completed Image ====> 2.USS_Washington_%28BB-56%29_in_Puget_Sound%2C_10_September_1945_0.jpg\n",
      "Completed Image ====> 3.1024px-uss_new_jersey_bb-62_underway_in_1983_0.jpg\n",
      "Completed Image ====> 4.uss_new_jersey_6219214852_0.jpg\n",
      "Completed Image ====> 5.The_British_Battleship_HMS_Queen_Elizabeth_3500o_Ton_Battleship._A16385-750x350.jpg\n",
      "Completed Image ====> 6.uss-iowa-bb61-battleship-united-states-navy.jpg\n",
      "Completed Image ====> 7.New_Jersey_Sails.jpg\n",
      "Completed Image ====> 8.iixjog7i9vyxkx52ilfy.jpg\n",
      "Completed Image ====> 9.1280px-Defense.gov_News_Photo_001207-N-2781V-501_0_0_0.jpg\n",
      "Completed Image ====> 10.5a539d283225de2b1a8b4cee-750-375.jpg\n",
      "Completed Image ====> 11.A6LGXWCHT2X4IPPB5Q7I4AN75I.jpg\n",
      "Completed Image ====> 12.ROYAL-NAVY-FRIGATE-ESCORTS-RUSSIAN-SHIP-THROUGH-ENGLISH-CHANNEL.jpg\n",
      "Completed Image ====> 13.USS-Missouri-Korea-1080x675.jpg\n",
      "Wrong image format returned. Skipping...\n",
      "Completed Image ====> 14.1425400992428.jpg\n",
      "Completed Image ====> 15.t1yan3k3kibfowdh6jgb.jpg\n",
      "Completed Image ====> 16.41SX0TT3QGL.jpg\n",
      "Wrong image format returned. Skipping...\n",
      "Completed Image ====> 17.DN-ST-94-00424_%2817258233731%29.jpg\n",
      "Completed Image ====> 18.martin-zumwalt-transfer.jpg\n",
      "Completed Image ====> 19.USS_Texas2.jpg\n",
      "Completed Image ====> 20.67ec5734bfd8c9d3e33455664b8e08eb.jpg\n",
      "Completed Image ====> 21.w460.jpg\n",
      "Completed Image ====> 22.maxresdefault.jpg\n",
      "Completed Image ====> 23.61u-3BucTgL._SX425_.jpg\n"
     ]
    },
    {
     "name": "stdout",
     "output_type": "stream",
     "text": [
      "Completed Image ====> 24.1512577993093.jpg\n",
      "Completed Image ====> 25.Ise-trials1943-BG-2000x683.jpg\n",
      "Completed Image ====> 26.hqdefault.jpg\n",
      "Completed Image ====> 27.1485188100107.jpg\n",
      "Completed Image ====> 28.1501713748648.jpg\n",
      "Completed Image ====> 29.HMS-King-George-V-pennant-number-41-was-the-lead-ship-of-the-five-British-King-George-V-class-battleships-of-the-Royal-Navy..jpg\n",
      "Completed Image ====> 30.31620613005_97d4044481_o.jpg\n",
      "Completed Image ====> 31.gallery-1495140565-gettyimages-78402598.jpg\n",
      "Completed Image ====> 32.u-s-s-harry-truman.jpg\n",
      "Completed Image ====> 33.43GGIB6GHJGLXHP52KXFMMTYW4.jpg\n",
      "Completed Image ====> 34.NINTCHDBPICT000512079447.jpg\n",
      "Completed Image ====> 35.145276_California_Los%20Angeles_BattleshipIOWA%20USNavyTurretBarrelsControlTower_shutterstock_33403663.jpg\n",
      "Completed Image ====> 36.Battleship-2012.jpg\n",
      "Completed Image ====> 37.supercarrier-16-wiki-19086.jpg\n",
      "Completed Image ====> 38.5a7738abaf61d81e008b4de0-750-375.jpg\n",
      "Completed Image ====> 39.zd3v4uagfva1n6a2pcjz.jpg\n",
      "Completed Image ====> 40.2641.jpg\n",
      "Completed Image ====> 41.battleship-wisconsin.jpg\n",
      "Completed Image ====> 42.HMS-Vanguard-at-anchor-1080x675.jpg\n",
      "Completed Image ====> 43.us-navy-battleship-missouri-31613-32826.jpg\n",
      "URLError on an image...trying next one... Error: HTTP Error 403: Forbidden\n",
      "Completed Image ====> 44.12273701_H25114790-720x445.jpg\n",
      "Completed Image ====> 45.VL3B6TC4AVGIVHCZ5ZY3ZC3OKE.JPG\n",
      "Completed Image ====> 46.gallery-1496258385-gettyimages-517812552.jpg\n",
      "Completed Image ====> 47.maxresdefault.jpg\n",
      "Completed Image ====> 48.gettyimages-696843900.jpg\n",
      "Completed Image ====> 49.1200px-The_Royal_Navy_during_the_Second_World_War_A11792.jpg\n",
      "Wrong image format returned. Skipping...\n",
      "Completed Image ====> 50.type-26-cgi-stock-image-3.jpg\n",
      "Completed Image ====> 51.USSBattleshipMissouri.jpg\n",
      "Completed Image ====> 52.Battleships.jpg\n",
      "Completed Image ====> 53.worldofwarships.jpg\n",
      "Completed Image ====> 54.Maxine-Davies-Duke.jpg\n",
      "Completed Image ====> 55.uss-san-diego_us-naval-history-and-heritage-command_nh-55013.jpg\n",
      "Completed Image ====> 56.69eebec85bf643fda28f10ae8b6b39af-articleLarge.jpg\n",
      "Completed Image ====> 57.BSNJ-in-Blue-Water-1980s-web-carousel.jpg\n",
      "Completed Image ====> 58.title-1080x675.jpg\n",
      "Completed Image ====> 59.MNVFCYIG6BA3HNWMHPZE2YTTJA.jpg\n",
      "Completed Image ====> 60.FriedmanF0blnJF10.jpg\n",
      "Completed Image ====> 61.1485536892948.jpg\n",
      "Completed Image ====> 62.ussiowaGettyImages-1667778042.jpg\n",
      "Wrong image format returned. Skipping...\n",
      "Completed Image ====> 63.HMS_Dreadnought-inline1.jpg\n",
      "Completed Image ====> 64.61iZ1Lue8jL._SL1100_.jpg\n",
      "Completed Image ====> 65.AH140-06-02.jpg\n",
      "Completed Image ====> 66.LVYSPWHGBZCE5AIQ3VJ6OVLNKQ.jpg\n",
      "Completed Image ====> 67.41492624564_84137870b0_k-5c2d72e146e0fb00017ff534.jpg\n",
      "Completed Image ====> 68.Battleship_Bismarck.jpg\n",
      "Wrong image format returned. Skipping...\n",
      "Completed Image ====> 69.SovietskySoyuz-2000x600.jpg\n",
      "Completed Image ====> 70.5a30961ab0bcd51e008b45bb-750-375.jpg\n",
      "Completed Image ====> 71.hqdefault.jpg\n",
      "Completed Image ====> 72.USS-Decatur-incident-800x475.jpg\n",
      "Completed Image ====> 73.INS-Kukhri-750x500.jpg\n",
      "Completed Image ====> 74.ddg-51-is-us-navy.jpg\n",
      "Completed Image ====> 75.image-placeholder-title.jpg\n",
      "Completed Image ====> 76.151031175048-navy-combat-ship-uss-milwaukee-vstan-orig-cws-00002415.jpg\n",
      "Completed Image ====> 77.ohio1907.jpg\n",
      "Completed Image ====> 78.RTXI80W.jpg\n",
      "Completed Image ====> 79.wo03-SEP-hms-montrose.JPG\n",
      "Wrong image format returned. Skipping...\n",
      "Completed Image ====> 80.uss-decatur-file-ht-jef-181001_hpMain_16x9_992.jpg\n",
      "Completed Image ====> 81.19849282.jpg\n",
      "Completed Image ====> 82.Italian_battleship_Vittorio_Veneto-960x640-800x0-c-default.jpg\n",
      "Completed Image ====> 83.HMS_Dreadnought-ft.jpg\n",
      "Completed Image ====> 84.780160250049452720.jpg\n",
      "Completed Image ====> 85.montana-class-1-56a61b133df78cf7728b5d25.jpg\n",
      "Completed Image ====> 86.stream_img.jpg\n",
      "Completed Image ====> 87.Iowa-Anchor-chain-on-bow-focsle-forward-16-inch-gun-turrets.jpg\n",
      "Completed Image ====> 88.icyahbraggs21.jpg\n",
      "Completed Image ====> 89.097707_3af4907fe5454acca71b490c32f1ec3a~mv2_d_1800_1200_s_2.jpg\n",
      "Completed Image ====> 90.14095f4dbeae7335f7ff8ea568c619ce.jpg\n",
      "Completed Image ====> 91.HMS-Malaya-was-a-Royal-Navy-Queen-Elizabeth-class-battleship-ordered-in-1913-and-commissioned-in-1916.-Shortly-after-commissioning-she-fought-in-the-Battle-of-Jutl.jpg\n",
      "Completed Image ====> 92.95cd7c70-d463-11e9-a556-d14d94601503_image_hires_152827.jpg\n",
      "Completed Image ====> 93.USS-Nevada.jpg\n",
      "\n",
      "\n",
      "Unfortunately all 100 could not be downloaded because some images were not downloadable. 93 is all we got for this search filter!\n",
      "\n",
      "Errors: 7\n",
      "\n"
     ]
    }
   ],
   "source": [
    "arguments = {\"keywords\" : \"cargo ship\", \"limit\":100, \"print_urls\": False, \"format\": \"jpg\", \"size\":\">400*300\"}\n",
    "paths = response.download(arguments)\n",
    "arguments = {\"keywords\" : \"navy battleship\", \"limit\":100, \"print_urls\": False, \"format\":\"jpg\",\"size\":\">400*300\"}\n",
    "paths = response.download(arguments)"
   ]
  },
  {
   "cell_type": "code",
   "execution_count": 39,
   "metadata": {},
   "outputs": [
    {
     "name": "stderr",
     "output_type": "stream",
     "text": [
      "C:\\installs\\Anaconda\\envs\\tf_gpu\\lib\\site-packages\\keras_applications\\mobilenet.py:207: UserWarning: `input_shape` is undefined or non-square, or `rows` is not in [128, 160, 192, 224]. Weights for input shape (224, 224) will be loaded as the default.\n",
      "  warnings.warn('`input_shape` is undefined or non-square, '\n"
     ]
    }
   ],
   "source": [
    "base_model = MobileNet(weights='imagenet',include_top=False)"
   ]
  },
  {
   "cell_type": "code",
   "execution_count": 40,
   "metadata": {},
   "outputs": [],
   "source": [
    "x = base_model.output\n",
    "x = GlobalAveragePooling2D()(x)\n",
    "x = Dense(1024,activation='relu')(x)\n",
    "x = Dense(1024,activation='relu')(x)\n",
    "x = Dense(512,activation='relu')(x)\n",
    "preds = Dense(4,activation='softmax')(x)"
   ]
  },
  {
   "cell_type": "code",
   "execution_count": 41,
   "metadata": {},
   "outputs": [],
   "source": [
    "model=Model(inputs=base_model.input,outputs=preds)\n"
   ]
  },
  {
   "cell_type": "code",
   "execution_count": 42,
   "metadata": {},
   "outputs": [
    {
     "name": "stdout",
     "output_type": "stream",
     "text": [
      "0 input_3\n",
      "1 conv1_pad\n",
      "2 conv1\n",
      "3 conv1_bn\n",
      "4 conv1_relu\n",
      "5 conv_dw_1\n",
      "6 conv_dw_1_bn\n",
      "7 conv_dw_1_relu\n",
      "8 conv_pw_1\n",
      "9 conv_pw_1_bn\n",
      "10 conv_pw_1_relu\n",
      "11 conv_pad_2\n",
      "12 conv_dw_2\n",
      "13 conv_dw_2_bn\n",
      "14 conv_dw_2_relu\n",
      "15 conv_pw_2\n",
      "16 conv_pw_2_bn\n",
      "17 conv_pw_2_relu\n",
      "18 conv_dw_3\n",
      "19 conv_dw_3_bn\n",
      "20 conv_dw_3_relu\n",
      "21 conv_pw_3\n",
      "22 conv_pw_3_bn\n",
      "23 conv_pw_3_relu\n",
      "24 conv_pad_4\n",
      "25 conv_dw_4\n",
      "26 conv_dw_4_bn\n",
      "27 conv_dw_4_relu\n",
      "28 conv_pw_4\n",
      "29 conv_pw_4_bn\n",
      "30 conv_pw_4_relu\n",
      "31 conv_dw_5\n",
      "32 conv_dw_5_bn\n",
      "33 conv_dw_5_relu\n",
      "34 conv_pw_5\n",
      "35 conv_pw_5_bn\n",
      "36 conv_pw_5_relu\n",
      "37 conv_pad_6\n",
      "38 conv_dw_6\n",
      "39 conv_dw_6_bn\n",
      "40 conv_dw_6_relu\n",
      "41 conv_pw_6\n",
      "42 conv_pw_6_bn\n",
      "43 conv_pw_6_relu\n",
      "44 conv_dw_7\n",
      "45 conv_dw_7_bn\n",
      "46 conv_dw_7_relu\n",
      "47 conv_pw_7\n",
      "48 conv_pw_7_bn\n",
      "49 conv_pw_7_relu\n",
      "50 conv_dw_8\n",
      "51 conv_dw_8_bn\n",
      "52 conv_dw_8_relu\n",
      "53 conv_pw_8\n",
      "54 conv_pw_8_bn\n",
      "55 conv_pw_8_relu\n",
      "56 conv_dw_9\n",
      "57 conv_dw_9_bn\n",
      "58 conv_dw_9_relu\n",
      "59 conv_pw_9\n",
      "60 conv_pw_9_bn\n",
      "61 conv_pw_9_relu\n",
      "62 conv_dw_10\n",
      "63 conv_dw_10_bn\n",
      "64 conv_dw_10_relu\n",
      "65 conv_pw_10\n",
      "66 conv_pw_10_bn\n",
      "67 conv_pw_10_relu\n",
      "68 conv_dw_11\n",
      "69 conv_dw_11_bn\n",
      "70 conv_dw_11_relu\n",
      "71 conv_pw_11\n",
      "72 conv_pw_11_bn\n",
      "73 conv_pw_11_relu\n",
      "74 conv_pad_12\n",
      "75 conv_dw_12\n",
      "76 conv_dw_12_bn\n",
      "77 conv_dw_12_relu\n",
      "78 conv_pw_12\n",
      "79 conv_pw_12_bn\n",
      "80 conv_pw_12_relu\n",
      "81 conv_dw_13\n",
      "82 conv_dw_13_bn\n",
      "83 conv_dw_13_relu\n",
      "84 conv_pw_13\n",
      "85 conv_pw_13_bn\n",
      "86 conv_pw_13_relu\n",
      "87 global_average_pooling2d_3\n",
      "88 dense_9\n",
      "89 dense_10\n",
      "90 dense_11\n",
      "91 dense_12\n"
     ]
    }
   ],
   "source": [
    "for i,layer in enumerate(model.layers):\n",
    "  print(i,layer.name)\n"
   ]
  },
  {
   "cell_type": "code",
   "execution_count": 43,
   "metadata": {},
   "outputs": [],
   "source": [
    "for layer in model.layers:\n",
    "    layer.trainable=False\n",
    "# or if we want to set the first 20 layers of the network to be non-trainable\n",
    "for layer in model.layers[:20]:\n",
    "    layer.trainable=False\n",
    "for layer in model.layers[20:]:\n",
    "    layer.trainable=True\n"
   ]
  },
  {
   "cell_type": "code",
   "execution_count": 44,
   "metadata": {},
   "outputs": [
    {
     "name": "stdout",
     "output_type": "stream",
     "text": [
      "Found 520 images belonging to 4 classes.\n"
     ]
    }
   ],
   "source": [
    "train_datagen=ImageDataGenerator(preprocessing_function=preprocess_input) #included in our dependencies\n",
    "\n",
    "train_generator=train_datagen.flow_from_directory('Z:\\codeplay\\machine_mash\\machine_mash\\pyImagenet\\downloads',\n",
    "                                                 target_size=(224,224),\n",
    "                                                 color_mode='rgb',\n",
    "                                                 batch_size=32,\n",
    "                                                 class_mode='categorical',\n",
    "                                                 shuffle=True)\n"
   ]
  },
  {
   "cell_type": "code",
   "execution_count": 45,
   "metadata": {},
   "outputs": [
    {
     "name": "stdout",
     "output_type": "stream",
     "text": [
      "Epoch 1/10\n",
      "16/16 [==============================] - 7s 415ms/step - loss: 0.8966 - accuracy: 0.7213\n",
      "Epoch 2/10\n",
      "16/16 [==============================] - 6s 348ms/step - loss: 0.3614 - accuracy: 0.9098\n",
      "Epoch 3/10\n",
      "16/16 [==============================] - 6s 366ms/step - loss: 0.1539 - accuracy: 0.9549\n",
      "Epoch 4/10\n",
      "16/16 [==============================] - 5s 298ms/step - loss: 0.0959 - accuracy: 0.9707\n",
      "Epoch 5/10\n",
      "16/16 [==============================] - 6s 385ms/step - loss: 0.0535 - accuracy: 0.9857\n",
      "Epoch 6/10\n",
      "16/16 [==============================] - 5s 325ms/step - loss: 0.0300 - accuracy: 0.9892\n",
      "Epoch 7/10\n",
      "16/16 [==============================] - 6s 344ms/step - loss: 0.0970 - accuracy: 0.9766\n",
      "Epoch 8/10\n",
      "16/16 [==============================] - 6s 364ms/step - loss: 0.0640 - accuracy: 0.9734\n",
      "Epoch 9/10\n",
      "16/16 [==============================] - 5s 338ms/step - loss: 0.0743 - accuracy: 0.9877\n",
      "Epoch 10/10\n",
      "16/16 [==============================] - 7s 412ms/step - loss: 0.0183 - accuracy: 0.9957\n"
     ]
    },
    {
     "data": {
      "text/plain": [
       "<keras.callbacks.callbacks.History at 0x17bb7cd5c88>"
      ]
     },
     "execution_count": 45,
     "metadata": {},
     "output_type": "execute_result"
    }
   ],
   "source": [
    "model.compile(optimizer='Adam',loss='categorical_crossentropy',metrics=['accuracy'])\n",
    "# Adam optimizer\n",
    "# loss function will be categorical cross entropy\n",
    "# evaluation metric will be accuracy\n",
    "\n",
    "step_size_train=train_generator.n//train_generator.batch_size\n",
    "model.fit_generator(generator=train_generator,\n",
    "                   steps_per_epoch=step_size_train,\n",
    "                   epochs=10)"
   ]
  },
  {
   "cell_type": "code",
   "execution_count": 46,
   "metadata": {},
   "outputs": [],
   "source": [
    "def load_image(img_path, show=False):\n",
    "\n",
    "    img = image.load_img(img_path, target_size=(150, 150))\n",
    "    img_tensor = image.img_to_array(img)                    # (height, width, channels)\n",
    "    img_tensor = np.expand_dims(img_tensor, axis=0)         # (1, height, width, channels), add a dimension because the model expects this shape: (batch_size, height, width, channels)\n",
    "    img_tensor /= 255.                                      # imshow expects values in the range [0, 1]\n",
    "\n",
    "    if show:\n",
    "        plt.imshow(img_tensor[0])                           \n",
    "        plt.axis('off')\n",
    "        plt.show()\n",
    "\n",
    "    return img_tensor\n",
    "  "
   ]
  },
  {
   "cell_type": "code",
   "execution_count": null,
   "metadata": {},
   "outputs": [],
   "source": [
    "# code to store model in a pickle"
   ]
  },
  {
   "cell_type": "code",
   "execution_count": null,
   "metadata": {},
   "outputs": [],
   "source": [
    "# run uptil here"
   ]
  },
  {
   "cell_type": "code",
   "execution_count": 27,
   "metadata": {},
   "outputs": [
    {
     "data": {
      "text/plain": [
       "array([[1., 0.]], dtype=float32)"
      ]
     },
     "execution_count": 27,
     "metadata": {},
     "output_type": "execute_result"
    }
   ],
   "source": [
    "#img_path = 'C:/Users/Ferhat/Python Code/Workshop/Tensoorflow transfer learning/blue_tit.jpg'\n",
    "img_path = 'Z:\\codeplay\\machine_mash\\machine_mash\\pyImagenet\\\\test.jpeg'\n",
    "new_image = load_image(img_path)\n",
    "\n",
    "pred = model.predict(new_image)\n",
    "\n",
    "pred"
   ]
  },
  {
   "cell_type": "code",
   "execution_count": 28,
   "metadata": {},
   "outputs": [
    {
     "name": "stdout",
     "output_type": "stream",
     "text": [
      "cargo\n"
     ]
    }
   ],
   "source": [
    "if (pred[0][1] ==  1):\n",
    "    print('strike image')\n",
    "else:\n",
    "    print('cargo')"
   ]
  }
 ],
 "metadata": {
  "kernelspec": {
   "display_name": "Python (tf_gpu)",
   "language": "python",
   "name": "tf_gpu"
  },
  "language_info": {
   "codemirror_mode": {
    "name": "ipython",
    "version": 3
   },
   "file_extension": ".py",
   "mimetype": "text/x-python",
   "name": "python",
   "nbconvert_exporter": "python",
   "pygments_lexer": "ipython3",
   "version": "3.7.4"
  }
 },
 "nbformat": 4,
 "nbformat_minor": 2
}
