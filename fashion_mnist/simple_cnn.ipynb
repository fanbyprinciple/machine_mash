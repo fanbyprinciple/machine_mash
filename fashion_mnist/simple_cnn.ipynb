{
 "cells": [
  {
   "cell_type": "code",
   "execution_count": 1,
   "metadata": {},
   "outputs": [],
   "source": [
    "import tensorflow as tf"
   ]
  },
  {
   "cell_type": "code",
   "execution_count": 2,
   "metadata": {},
   "outputs": [],
   "source": [
    "import numpy as np\n",
    "import matplotlib.pyplot as plt"
   ]
  },
  {
   "cell_type": "code",
   "execution_count": 4,
   "metadata": {},
   "outputs": [
    {
     "name": "stdout",
     "output_type": "stream",
     "text": [
      "x_train and y_train shape:  (60000, 28, 28) (60000,)\n"
     ]
    }
   ],
   "source": [
    "(x_train,y_train),(x_test,y_test) = tf.keras.datasets.fashion_mnist.load_data()\n",
    "print(\"x_train and y_train shape: \",x_train.shape, y_train.shape)"
   ]
  },
  {
   "cell_type": "code",
   "execution_count": 7,
   "metadata": {},
   "outputs": [
    {
     "name": "stdout",
     "output_type": "stream",
     "text": [
      "(60000, 28, 28) (10000, 28, 28)\n"
     ]
    }
   ],
   "source": [
    "print(x_train.shape,x_test.shape)"
   ]
  },
  {
   "cell_type": "code",
   "execution_count": 8,
   "metadata": {},
   "outputs": [],
   "source": [
    "fashion_mnist_labels =[\"T-shirt/top\",#0\n",
    "                       \"Trouser\",#1\n",
    "                       \"Pullover\",#2\n",
    "                       \"Dress\",#3\n",
    "                       \"Coat\",#4\n",
    "                       \"Sandal\",#5\n",
    "                       \"Shirt\",#6\n",
    "                       \"Sneaker\",#7\n",
    "                       \"Bag\",#8\n",
    "                       \"Ankle Boot\"#9\n",
    "                      ]"
   ]
  },
  {
   "cell_type": "code",
   "execution_count": 9,
   "metadata": {
    "scrolled": true
   },
   "outputs": [
    {
     "name": "stdout",
     "output_type": "stream",
     "text": [
      "y =  2 Pullover\n"
     ]
    },
    {
     "data": {
      "text/plain": [
       "<matplotlib.image.AxesImage at 0x283f0d24708>"
      ]
     },
     "execution_count": 9,
     "metadata": {},
     "output_type": "execute_result"
    },
    {
     "data": {
      "image/png": "[encoded data removed]",
      "text/plain": [
       "<Figure size 432x288 with 1 Axes>"
      ]
     },
     "metadata": {
      "needs_background": "light"
     },
     "output_type": "display_data"
    }
   ],
   "source": [
    "img_index = 5b\n",
    "label_index = y_train[img_index]\n",
    "print (\"y = \", str(label_index) + \" \" + (fashion_mnist_labels[label_index]))\n",
    "plt.imshow(x_train[img_index])"
   ]
  },
  {
   "cell_type": "code",
   "execution_count": 12,
   "metadata": {
    "scrolled": false
   },
   "outputs": [
    {
     "name": "stdout",
     "output_type": "stream",
     "text": [
      "[[0.00000000e+00 0.00000000e+00 0.00000000e+00 0.00000000e+00\n",
      "  0.00000000e+00 0.00000000e+00 0.00000000e+00 0.00000000e+00\n",
      "  0.00000000e+00 0.00000000e+00 0.00000000e+00 0.00000000e+00\n",
      "  0.00000000e+00 4.94530786e-06 7.35765298e-06 2.23141933e-06\n",
      "  0.00000000e+00 3.01543167e-07 0.00000000e+00 0.00000000e+00\n",
      "  0.00000000e+00 0.00000000e+00 0.00000000e+00 0.00000000e+00\n",
      "  0.00000000e+00 0.00000000e+00 0.00000000e+00 0.00000000e+00]\n",
      " [0.00000000e+00 0.00000000e+00 0.00000000e+00 0.00000000e+00\n",
      "  0.00000000e+00 0.00000000e+00 0.00000000e+00 0.00000000e+00\n",
      "  0.00000000e+00 0.00000000e+00 1.20617273e-07 0.00000000e+00\n",
      "  2.29172815e-06 6.03086301e-06 1.68864165e-06 7.29734438e-06\n",
      "  0.00000000e+00 6.03086363e-08 0.00000000e+00 0.00000000e+00\n",
      "  0.00000000e+00 0.00000000e+00 0.00000000e+00 0.00000000e+00\n",
      "  0.00000000e+00 0.00000000e+00 0.00000000e+00 0.00000000e+00]\n",
      " [0.00000000e+00 0.00000000e+00 0.00000000e+00 0.00000000e+00\n",
      "  0.00000000e+00 0.00000000e+00 0.00000000e+00 0.00000000e+00\n",
      "  0.00000000e+00 0.00000000e+00 3.01543167e-07 0.00000000e+00\n",
      "  5.18654224e-06 2.59327112e-06 0.00000000e+00 8.20197420e-06\n",
      "  9.04629474e-07 0.00000000e+00 1.20617273e-07 0.00000000e+00\n",
      "  0.00000000e+00 0.00000000e+00 0.00000000e+00 0.00000000e+00\n",
      "  0.00000000e+00 0.00000000e+00 0.00000000e+00 0.00000000e+00]\n",
      " [0.00000000e+00 0.00000000e+00 0.00000000e+00 0.00000000e+00\n",
      "  0.00000000e+00 0.00000000e+00 0.00000000e+00 0.00000000e+00\n",
      "  0.00000000e+00 0.00000000e+00 1.20617273e-07 0.00000000e+00\n",
      "  6.27209738e-06 1.80925895e-06 0.00000000e+00 6.15148019e-06\n",
      "  2.41234534e-06 0.00000000e+00 1.80925895e-07 0.00000000e+00\n",
      "  0.00000000e+00 0.00000000e+00 0.00000000e+00 0.00000000e+00\n",
      "  0.00000000e+00 0.00000000e+00 0.00000000e+00 0.00000000e+00]\n",
      " [0.00000000e+00 0.00000000e+00 0.00000000e+00 0.00000000e+00\n",
      "  0.00000000e+00 0.00000000e+00 0.00000000e+00 0.00000000e+00\n",
      "  0.00000000e+00 1.80925895e-07 0.00000000e+00 0.00000000e+00\n",
      "  6.69425799e-06 1.20617273e-07 0.00000000e+00 4.40253007e-06\n",
      "  4.88499927e-06 0.00000000e+00 2.41234545e-07 0.00000000e+00\n",
      "  0.00000000e+00 0.00000000e+00 0.00000000e+00 0.00000000e+00\n",
      "  0.00000000e+00 0.00000000e+00 0.00000000e+00 0.00000000e+00]\n",
      " [0.00000000e+00 0.00000000e+00 0.00000000e+00 0.00000000e+00\n",
      "  0.00000000e+00 0.00000000e+00 0.00000000e+00 0.00000000e+00\n",
      "  0.00000000e+00 1.20617273e-07 0.00000000e+00 1.02524677e-06\n",
      "  5.24685083e-06 0.00000000e+00 0.00000000e+00 2.71388831e-06\n",
      "  4.88499927e-06 0.00000000e+00 2.41234545e-07 0.00000000e+00\n",
      "  0.00000000e+00 0.00000000e+00 0.00000000e+00 0.00000000e+00\n",
      "  0.00000000e+00 0.00000000e+00 0.00000000e+00 0.00000000e+00]\n",
      " [0.00000000e+00 0.00000000e+00 0.00000000e+00 0.00000000e+00\n",
      "  0.00000000e+00 0.00000000e+00 0.00000000e+00 0.00000000e+00\n",
      "  0.00000000e+00 2.41234545e-07 0.00000000e+00 3.25666610e-06\n",
      "  5.42777661e-06 0.00000000e+00 0.00000000e+00 1.44740716e-06\n",
      "  5.54839380e-06 0.00000000e+00 2.41234545e-07 0.00000000e+00\n",
      "  0.00000000e+00 0.00000000e+00 0.00000000e+00 0.00000000e+00\n",
      "  0.00000000e+00 0.00000000e+00 0.00000000e+00 0.00000000e+00]\n",
      " [0.00000000e+00 0.00000000e+00 0.00000000e+00 0.00000000e+00\n",
      "  0.00000000e+00 0.00000000e+00 0.00000000e+00 0.00000000e+00\n",
      "  0.00000000e+00 1.80925895e-07 0.00000000e+00 4.58345630e-06\n",
      "  1.80925895e-06 0.00000000e+00 0.00000000e+00 0.00000000e+00\n",
      "  5.60870239e-06 0.00000000e+00 0.00000000e+00 0.00000000e+00\n",
      "  0.00000000e+00 0.00000000e+00 0.00000000e+00 0.00000000e+00\n",
      "  0.00000000e+00 0.00000000e+00 0.00000000e+00 0.00000000e+00]\n",
      " [0.00000000e+00 0.00000000e+00 0.00000000e+00 0.00000000e+00\n",
      "  0.00000000e+00 0.00000000e+00 0.00000000e+00 0.00000000e+00\n",
      "  0.00000000e+00 6.03086363e-08 0.00000000e+00 4.46283866e-06\n",
      "  0.00000000e+00 0.00000000e+00 0.00000000e+00 0.00000000e+00\n",
      "  5.18654224e-06 0.00000000e+00 0.00000000e+00 6.03086363e-08\n",
      "  0.00000000e+00 0.00000000e+00 0.00000000e+00 0.00000000e+00\n",
      "  0.00000000e+00 0.00000000e+00 0.00000000e+00 0.00000000e+00]\n",
      " [0.00000000e+00 0.00000000e+00 0.00000000e+00 0.00000000e+00\n",
      "  0.00000000e+00 0.00000000e+00 0.00000000e+00 0.00000000e+00\n",
      "  0.00000000e+00 0.00000000e+00 0.00000000e+00 6.57364080e-06\n",
      "  0.00000000e+00 0.00000000e+00 6.03086363e-08 0.00000000e+00\n",
      "  5.18654224e-06 6.63394928e-07 0.00000000e+00 1.20617273e-07\n",
      "  0.00000000e+00 0.00000000e+00 0.00000000e+00 0.00000000e+00\n",
      "  0.00000000e+00 0.00000000e+00 0.00000000e+00 0.00000000e+00]\n",
      " [0.00000000e+00 0.00000000e+00 0.00000000e+00 0.00000000e+00\n",
      "  0.00000000e+00 0.00000000e+00 0.00000000e+00 0.00000000e+00\n",
      "  1.20617273e-07 0.00000000e+00 1.86956754e-06 4.76438208e-06\n",
      "  0.00000000e+00 1.20617273e-07 1.20617273e-07 0.00000000e+00\n",
      "  6.93549237e-06 2.29172815e-06 0.00000000e+00 2.41234545e-07\n",
      "  0.00000000e+00 0.00000000e+00 0.00000000e+00 0.00000000e+00\n",
      "  0.00000000e+00 0.00000000e+00 0.00000000e+00 0.00000000e+00]\n",
      " [0.00000000e+00 0.00000000e+00 0.00000000e+00 0.00000000e+00\n",
      "  0.00000000e+00 0.00000000e+00 0.00000000e+00 0.00000000e+00\n",
      "  3.01543167e-07 0.00000000e+00 3.98036991e-06 5.42777661e-06\n",
      "  0.00000000e+00 6.03086363e-08 6.03086363e-08 0.00000000e+00\n",
      "  8.20197420e-06 3.49790048e-06 0.00000000e+00 3.01543167e-07\n",
      "  0.00000000e+00 0.00000000e+00 0.00000000e+00 0.00000000e+00\n",
      "  0.00000000e+00 0.00000000e+00 0.00000000e+00 0.00000000e+00]\n",
      " [0.00000000e+00 0.00000000e+00 0.00000000e+00 0.00000000e+00\n",
      "  0.00000000e+00 0.00000000e+00 0.00000000e+00 0.00000000e+00\n",
      "  3.01543167e-07 0.00000000e+00 4.94530786e-06 8.20197420e-06\n",
      "  0.00000000e+00 1.80925895e-07 2.41234545e-07 0.00000000e+00\n",
      "  1.17601830e-05 4.58345630e-06 0.00000000e+00 3.01543167e-07\n",
      "  0.00000000e+00 0.00000000e+00 0.00000000e+00 0.00000000e+00\n",
      "  0.00000000e+00 0.00000000e+00 0.00000000e+00 0.00000000e+00]\n",
      " [0.00000000e+00 0.00000000e+00 0.00000000e+00 0.00000000e+00\n",
      "  0.00000000e+00 0.00000000e+00 0.00000000e+00 0.00000000e+00\n",
      "  0.00000000e+00 0.00000000e+00 5.72931958e-06 1.00112329e-05\n",
      "  0.00000000e+00 0.00000000e+00 0.00000000e+00 0.00000000e+00\n",
      "  8.68444295e-06 4.82469068e-06 0.00000000e+00 0.00000000e+00\n",
      "  0.00000000e+00 0.00000000e+00 0.00000000e+00 0.00000000e+00\n",
      "  0.00000000e+00 0.00000000e+00 0.00000000e+00 0.00000000e+00]\n",
      " [0.00000000e+00 0.00000000e+00 0.00000000e+00 0.00000000e+00\n",
      "  0.00000000e+00 0.00000000e+00 0.00000000e+00 0.00000000e+00\n",
      "  0.00000000e+00 2.71388831e-06 8.74475154e-06 1.15189487e-05\n",
      "  1.20617267e-06 3.92006132e-06 4.10098710e-06 2.41234534e-06\n",
      "  8.92567732e-06 9.58907276e-06 4.76438208e-06 3.61851789e-06\n",
      "  0.00000000e+00 0.00000000e+00 0.00000000e+00 0.00000000e+00\n",
      "  0.00000000e+00 0.00000000e+00 0.00000000e+00 0.00000000e+00]\n",
      " [0.00000000e+00 0.00000000e+00 0.00000000e+00 0.00000000e+00\n",
      "  0.00000000e+00 0.00000000e+00 0.00000000e+00 0.00000000e+00\n",
      "  4.22160429e-06 1.37503675e-05 1.04333931e-05 1.29060472e-05\n",
      "  1.25441948e-05 1.27251205e-05 1.29663558e-05 1.30266644e-05\n",
      "  1.23029604e-05 1.23029604e-05 1.27251205e-05 9.89061573e-06\n",
      "  1.80925895e-07 0.00000000e+00 0.00000000e+00 0.00000000e+00\n",
      "  0.00000000e+00 0.00000000e+00 0.00000000e+00 0.00000000e+00]\n",
      " [0.00000000e+00 0.00000000e+00 0.00000000e+00 0.00000000e+00\n",
      "  0.00000000e+00 0.00000000e+00 0.00000000e+00 0.00000000e+00\n",
      "  3.43759189e-06 1.06143189e-05 1.00715415e-05 1.23632690e-05\n",
      "  1.20014174e-05 1.14586392e-05 1.16395659e-05 1.17601830e-05\n",
      "  1.16395659e-05 1.18204916e-05 1.10364790e-05 1.09761704e-05\n",
      "  0.00000000e+00 0.00000000e+00 0.00000000e+00 0.00000000e+00\n",
      "  0.00000000e+00 0.00000000e+00 0.00000000e+00 0.00000000e+00]\n",
      " [0.00000000e+00 0.00000000e+00 0.00000000e+00 0.00000000e+00\n",
      "  0.00000000e+00 0.00000000e+00 0.00000000e+00 0.00000000e+00\n",
      "  4.82469068e-06 1.20617260e-05 1.12174048e-05 1.32075902e-05\n",
      "  1.23029604e-05 1.15189487e-05 1.23029604e-05 1.26648119e-05\n",
      "  1.23029604e-05 1.23632690e-05 1.13983306e-05 1.10967876e-05\n",
      "  0.00000000e+00 0.00000000e+00 0.00000000e+00 0.00000000e+00\n",
      "  0.00000000e+00 0.00000000e+00 0.00000000e+00 0.00000000e+00]\n",
      " [0.00000000e+00 0.00000000e+00 0.00000000e+00 0.00000000e+00\n",
      "  0.00000000e+00 0.00000000e+00 0.00000000e+00 0.00000000e+00\n",
      "  8.74475154e-06 1.02524673e-05 1.04333931e-05 1.13380220e-05\n",
      "  1.21823432e-05 1.21823432e-05 1.32075902e-05 1.27251205e-05\n",
      "  1.23029604e-05 1.27854291e-05 1.19411088e-05 1.32678988e-05\n",
      "  0.00000000e+00 0.00000000e+00 0.00000000e+00 0.00000000e+00\n",
      "  0.00000000e+00 0.00000000e+00 0.00000000e+00 0.00000000e+00]\n",
      " [0.00000000e+00 0.00000000e+00 0.00000000e+00 0.00000000e+00\n",
      "  0.00000000e+00 0.00000000e+00 0.00000000e+00 0.00000000e+00\n",
      "  1.04937017e-05 1.04937017e-05 1.13380220e-05 1.15792573e-05\n",
      "  1.27251205e-05 1.26648119e-05 1.29663558e-05 1.30869730e-05\n",
      "  1.29060472e-05 1.32075902e-05 1.15792573e-05 1.49565403e-05\n",
      "  0.00000000e+00 0.00000000e+00 0.00000000e+00 0.00000000e+00\n",
      "  0.00000000e+00 0.00000000e+00 0.00000000e+00 0.00000000e+00]\n",
      " [0.00000000e+00 0.00000000e+00 0.00000000e+00 0.00000000e+00\n",
      "  0.00000000e+00 0.00000000e+00 0.00000000e+00 0.00000000e+00\n",
      "  1.08555532e-05 1.14586392e-05 1.05540103e-05 9.52876417e-06\n",
      "  1.26045034e-05 1.26045034e-05 1.27251205e-05 1.30869730e-05\n",
      "  1.29663558e-05 1.29060472e-05 1.14586392e-05 1.50168489e-05\n",
      "  2.41234545e-07 0.00000000e+00 0.00000000e+00 0.00000000e+00\n",
      "  0.00000000e+00 0.00000000e+00 0.00000000e+00 0.00000000e+00]\n",
      " [0.00000000e+00 0.00000000e+00 0.00000000e+00 0.00000000e+00\n",
      "  0.00000000e+00 0.00000000e+00 0.00000000e+00 0.00000000e+00\n",
      "  1.10967876e-05 1.13380220e-05 1.08555532e-05 1.26648119e-05\n",
      "  1.26045034e-05 1.23632690e-05 1.31472816e-05 1.30266644e-05\n",
      "  1.27854291e-05 1.25441948e-05 1.17601830e-05 1.52580833e-05\n",
      "  9.64938181e-07 0.00000000e+00 0.00000000e+00 0.00000000e+00\n",
      "  0.00000000e+00 0.00000000e+00 0.00000000e+00 0.00000000e+00]\n",
      " [0.00000000e+00 0.00000000e+00 0.00000000e+00 0.00000000e+00\n",
      "  0.00000000e+00 0.00000000e+00 0.00000000e+00 0.00000000e+00\n",
      "  1.10364790e-05 1.21220346e-05 1.03730845e-05 1.22426518e-05\n",
      "  1.24235776e-05 1.25441948e-05 1.30266644e-05 1.29663558e-05\n",
      "  1.28457386e-05 1.28457386e-05 1.18204916e-05 1.53787023e-05\n",
      "  1.56802435e-06 0.00000000e+00 0.00000000e+00 0.00000000e+00\n",
      "  0.00000000e+00 0.00000000e+00 0.00000000e+00 0.00000000e+00]\n",
      " [0.00000000e+00 0.00000000e+00 0.00000000e+00 0.00000000e+00\n",
      "  0.00000000e+00 0.00000000e+00 0.00000000e+00 0.00000000e+00\n",
      "  1.08555532e-05 1.29663558e-05 1.10967876e-05 1.20014174e-05\n",
      "  1.29060472e-05 1.32075902e-05 1.36900589e-05 1.31472816e-05\n",
      "  1.32075902e-05 1.34488246e-05 1.20617260e-05 1.37503675e-05\n",
      "  2.41234534e-06 0.00000000e+00 0.00000000e+00 0.00000000e+00\n",
      "  0.00000000e+00 0.00000000e+00 0.00000000e+00 0.00000000e+00]\n",
      " [0.00000000e+00 0.00000000e+00 0.00000000e+00 0.00000000e+00\n",
      "  0.00000000e+00 0.00000000e+00 0.00000000e+00 0.00000000e+00\n",
      "  1.12777134e-05 1.31472816e-05 1.11570962e-05 1.24235776e-05\n",
      "  1.30266644e-05 1.29663558e-05 1.33282074e-05 1.38106761e-05\n",
      "  1.32075902e-05 1.31472816e-05 1.20617260e-05 1.39916019e-05\n",
      "  3.19635728e-06 0.00000000e+00 0.00000000e+00 0.00000000e+00\n",
      "  0.00000000e+00 0.00000000e+00 0.00000000e+00 0.00000000e+00]\n",
      " [0.00000000e+00 0.00000000e+00 0.00000000e+00 0.00000000e+00\n",
      "  0.00000000e+00 0.00000000e+00 0.00000000e+00 0.00000000e+00\n",
      "  1.10967876e-05 1.24838862e-05 1.13380220e-05 1.19411088e-05\n",
      "  1.30869730e-05 9.95092432e-06 8.80506013e-06 1.29060472e-05\n",
      "  1.29060472e-05 1.29060472e-05 1.20617260e-05 1.39312933e-05\n",
      "  3.43759189e-06 0.00000000e+00 0.00000000e+00 0.00000000e+00\n",
      "  0.00000000e+00 0.00000000e+00 0.00000000e+00 0.00000000e+00]\n",
      " [0.00000000e+00 0.00000000e+00 0.00000000e+00 0.00000000e+00\n",
      "  0.00000000e+00 0.00000000e+00 0.00000000e+00 0.00000000e+00\n",
      "  1.27251205e-05 1.51977747e-05 1.38106761e-05 1.44740716e-05\n",
      "  1.47153060e-05 1.51977747e-05 1.52580833e-05 1.52580833e-05\n",
      "  1.50771575e-05 1.39312933e-05 1.36900589e-05 1.47756145e-05\n",
      "  4.04067850e-06 0.00000000e+00 0.00000000e+00 0.00000000e+00\n",
      "  0.00000000e+00 0.00000000e+00 0.00000000e+00 0.00000000e+00]\n",
      " [0.00000000e+00 0.00000000e+00 0.00000000e+00 0.00000000e+00\n",
      "  0.00000000e+00 0.00000000e+00 0.00000000e+00 0.00000000e+00\n",
      "  6.57364080e-06 1.03127759e-05 9.46845557e-06 9.83030714e-06\n",
      "  9.70968995e-06 1.00715415e-05 9.64938135e-06 8.98598682e-06\n",
      "  8.56382576e-06 8.74475154e-06 8.74475154e-06 8.98598682e-06\n",
      "  6.63394928e-07 0.00000000e+00 0.00000000e+00 0.00000000e+00\n",
      "  0.00000000e+00 0.00000000e+00 0.00000000e+00 0.00000000e+00]]\n"
     ]
    }
   ],
   "source": [
    "x_train = x_train.astype('float32')/255\n",
    "x_test = x_test.astype('float32')/255\n",
    "\n",
    "print(x_train[200])"
   ]
  },
  {
   "cell_type": "code",
   "execution_count": 13,
   "metadata": {},
   "outputs": [],
   "source": [
    "(x_train, x_valid) = x_train[5000:],x_train[:5000]\n",
    "(y_train, y_valid) = y_train[5000:],y_train[:5000]"
   ]
  },
  {
   "cell_type": "code",
   "execution_count": 14,
   "metadata": {},
   "outputs": [
    {
     "name": "stdout",
     "output_type": "stream",
     "text": [
      "(55000, 28, 28)\n"
     ]
    }
   ],
   "source": [
    "print(x_train.shape)"
   ]
  },
  {
   "cell_type": "code",
   "execution_count": 15,
   "metadata": {},
   "outputs": [],
   "source": [
    "# apparently the shape neeeds to be 28 28 1"
   ]
  },
  {
   "cell_type": "code",
   "execution_count": 16,
   "metadata": {},
   "outputs": [
    {
     "name": "stdout",
     "output_type": "stream",
     "text": [
      "X train shape:  (55000, 28, 28, 1)  Y train shape:  (55000, 10)\n",
      "55000 train set\n",
      "5000 validation set\n",
      "10000 test set\n"
     ]
    }
   ],
   "source": [
    "w, h = 28,28\n",
    "x_train = x_train.reshape(x_train.shape[0], w, h, 1)\n",
    "x_valid = x_valid.reshape(x_valid.shape[0], w, h, 1)\n",
    "x_test = x_test.reshape(x_test.shape[0], w, h, 1)\n",
    "\n",
    "y_train = tf.keras.utils.to_categorical(y_train, 10)\n",
    "y_valid = tf.keras.utils.to_categorical(y_valid, 10)\n",
    "y_test = tf.keras.utils.to_categorical(y_test, 10)\n",
    "\n",
    "print(\"X train shape: \", x_train.shape , \" Y train shape: \", y_train.shape)\n",
    "\n",
    "print(x_train.shape[0], 'train set')\n",
    "print(x_valid.shape[0], 'validation set')\n",
    "print(x_test.shape[0], 'test set')\n"
   ]
  },
  {
   "cell_type": "code",
   "execution_count": 21,
   "metadata": {},
   "outputs": [],
   "source": [
    "#model\n",
    "\n",
    "model = tf.keras.Sequential()\n",
    "\n",
    "model.add(tf.keras.layers.Conv2D(filters=64, kernel_size=2, padding='same', activation='relu', input_shape=(28,28,1)))\n",
    "model.add(tf.keras.layers.MaxPooling2D(pool_size=2))\n",
    "model.add(tf.keras.layers.Dropout(0.3))\n",
    "\n"
   ]
  },
  {
   "cell_type": "code",
   "execution_count": 22,
   "metadata": {},
   "outputs": [],
   "source": [
    "model.add(tf.keras.layers.Conv2D(filters=32, kernel_size=2, padding='same', activation='relu' ))\n",
    "model.add(tf.keras.layers.MaxPooling2D(pool_size=2))\n",
    "model.add(tf.keras.layers.Dropout(0.3))"
   ]
  },
  {
   "cell_type": "code",
   "execution_count": 23,
   "metadata": {},
   "outputs": [
    {
     "name": "stdout",
     "output_type": "stream",
     "text": [
      "Model: \"sequential_2\"\n",
      "_________________________________________________________________\n",
      "Layer (type)                 Output Shape              Param #   \n",
      "=================================================================\n",
      "conv2d_2 (Conv2D)            (None, 28, 28, 64)        320       \n",
      "_________________________________________________________________\n",
      "max_pooling2d_2 (MaxPooling2 (None, 14, 14, 64)        0         \n",
      "_________________________________________________________________\n",
      "dropout_3 (Dropout)          (None, 14, 14, 64)        0         \n",
      "_________________________________________________________________\n",
      "conv2d_3 (Conv2D)            (None, 14, 14, 32)        8224      \n",
      "_________________________________________________________________\n",
      "max_pooling2d_3 (MaxPooling2 (None, 7, 7, 32)          0         \n",
      "_________________________________________________________________\n",
      "dropout_4 (Dropout)          (None, 7, 7, 32)          0         \n",
      "_________________________________________________________________\n",
      "flatten_1 (Flatten)          (None, 1568)              0         \n",
      "_________________________________________________________________\n",
      "dense_2 (Dense)              (None, 256)               401664    \n",
      "_________________________________________________________________\n",
      "dropout_5 (Dropout)          (None, 256)               0         \n",
      "_________________________________________________________________\n",
      "dense_3 (Dense)              (None, 10)                2570      \n",
      "=================================================================\n",
      "Total params: 412,778\n",
      "Trainable params: 412,778\n",
      "Non-trainable params: 0\n",
      "_________________________________________________________________\n"
     ]
    }
   ],
   "source": [
    "model.add(tf.keras.layers.Flatten())\n",
    "model.add(tf.keras.layers.Dense(256, activation='relu'))\n",
    "model.add(tf.keras.layers.Dropout(0.5))\n",
    "model.add(tf.keras.layers.Dense(10, activation='softmax'))\n",
    "\n",
    "model.summary()"
   ]
  },
  {
   "cell_type": "code",
   "execution_count": 25,
   "metadata": {},
   "outputs": [],
   "source": [
    "model.compile(loss='categorical_crossentropy', optimizer='adam', metrics=['accuracy'])"
   ]
  },
  {
   "cell_type": "code",
   "execution_count": 26,
   "metadata": {},
   "outputs": [
    {
     "name": "stderr",
     "output_type": "stream",
     "text": [
      "Using TensorFlow backend.\n"
     ]
    }
   ],
   "source": [
    "# modelcheckpoint saves the model after every epoch\n",
    "\n",
    "from keras.callbacks import ModelCheckpoint"
   ]
  },
  {
   "cell_type": "code",
   "execution_count": 28,
   "metadata": {},
   "outputs": [
    {
     "name": "stdout",
     "output_type": "stream",
     "text": [
      "Train on 55000 samples, validate on 5000 samples\n",
      "Epoch 1/10\n",
      "54912/55000 [============================>.] - ETA: 0s - loss: 2.3028 - acc: 0.1009\n",
      "Epoch 00001: val_loss improved from inf to 2.30260, saving model to model.weights.best.hdf5\n",
      "55000/55000 [==============================] - 13s 239us/sample - loss: 2.3028 - acc: 0.1009 - val_loss: 2.3026 - val_acc: 0.1002\n",
      "Epoch 2/10\n",
      "54976/55000 [============================>.] - ETA: 0s - loss: 2.3027 - acc: 0.1007\n",
      "Epoch 00002: val_loss did not improve from 2.30260\n",
      "55000/55000 [==============================] - 8s 148us/sample - loss: 2.3027 - acc: 0.1007 - val_loss: 2.3031 - val_acc: 0.0986\n",
      "Epoch 3/10\n",
      "54784/55000 [============================>.] - ETA: 0s - loss: 2.3028 - acc: 0.0977\n",
      "Epoch 00003: val_loss did not improve from 2.30260\n",
      "55000/55000 [==============================] - 9s 158us/sample - loss: 2.3028 - acc: 0.0976 - val_loss: 2.3029 - val_acc: 0.1012\n",
      "Epoch 4/10\n",
      "54848/55000 [============================>.] - ETA: 0s - loss: 2.3027 - acc: 0.0991\n",
      "Epoch 00004: val_loss did not improve from 2.30260\n",
      "55000/55000 [==============================] - 8s 149us/sample - loss: 2.3027 - acc: 0.0991 - val_loss: 2.3027 - val_acc: 0.0914\n",
      "Epoch 5/10\n",
      "54656/55000 [============================>.] - ETA: 0s - loss: 2.3027 - acc: 0.0981\n",
      "Epoch 00005: val_loss did not improve from 2.30260\n",
      "55000/55000 [==============================] - 8s 142us/sample - loss: 2.3027 - acc: 0.0981 - val_loss: 2.3027 - val_acc: 0.0914\n",
      "Epoch 6/10\n",
      "54784/55000 [============================>.] - ETA: 0s - loss: 2.3027 - acc: 0.0971\n",
      "Epoch 00006: val_loss did not improve from 2.30260\n",
      "55000/55000 [==============================] - 8s 142us/sample - loss: 2.3027 - acc: 0.0972 - val_loss: 2.3027 - val_acc: 0.0986\n",
      "Epoch 7/10\n",
      "54656/55000 [============================>.] - ETA: 0s - loss: 2.3027 - acc: 0.0998\n",
      "Epoch 00007: val_loss did not improve from 2.30260\n",
      "55000/55000 [==============================] - 8s 146us/sample - loss: 2.3027 - acc: 0.0998 - val_loss: 2.3029 - val_acc: 0.1008\n",
      "Epoch 8/10\n",
      "54912/55000 [============================>.] - ETA: 0s - loss: 2.3027 - acc: 0.0979\n",
      "Epoch 00008: val_loss did not improve from 2.30260\n",
      "55000/55000 [==============================] - 8s 149us/sample - loss: 2.3027 - acc: 0.0979 - val_loss: 2.3028 - val_acc: 0.0976\n",
      "Epoch 9/10\n",
      "54656/55000 [============================>.] - ETA: 0s - loss: 2.3027 - acc: 0.0984\n",
      "Epoch 00009: val_loss did not improve from 2.30260\n",
      "55000/55000 [==============================] - 8s 141us/sample - loss: 2.3027 - acc: 0.0983 - val_loss: 2.3028 - val_acc: 0.0976\n",
      "Epoch 10/10\n",
      "54720/55000 [============================>.] - ETA: 0s - loss: 2.3027 - acc: 0.0997\n",
      "Epoch 00010: val_loss did not improve from 2.30260\n",
      "55000/55000 [==============================] - 8s 150us/sample - loss: 2.3027 - acc: 0.0997 - val_loss: 2.3028 - val_acc: 0.1002\n"
     ]
    },
    {
     "data": {
      "text/plain": [
       "<tensorflow.python.keras.callbacks.History at 0x28380c03548>"
      ]
     },
     "execution_count": 28,
     "metadata": {},
     "output_type": "execute_result"
    }
   ],
   "source": [
    "checkpointer = ModelCheckpoint(filepath='model.weights.best.hdf5', verbose = 1, save_best_only=True)\n",
    "model.fit(x_train,\n",
    "          y_train,\n",
    "          batch_size=64,\n",
    "          epochs=10,\n",
    "          validation_data=(x_valid,y_valid),\n",
    "          callbacks=[checkpointer]\n",
    "         )"
   ]
  },
  {
   "cell_type": "code",
   "execution_count": 29,
   "metadata": {},
   "outputs": [],
   "source": [
    "model.load_weights('model.weights.best.hdf5')"
   ]
  },
  {
   "cell_type": "code",
   "execution_count": 31,
   "metadata": {
    "scrolled": true
   },
   "outputs": [
    {
     "name": "stdout",
     "output_type": "stream",
     "text": [
      "\n",
      " Test accuracy:  0.1\n"
     ]
    }
   ],
   "source": [
    "score = model.evaluate(x_test, y_test, verbose=0)\n",
    "\n",
    "print('\\n','Test accuracy: ', score[1])"
   ]
  },
  {
   "cell_type": "code",
   "execution_count": 40,
   "metadata": {},
   "outputs": [
    {
     "data": {
      "image/png": "[encoded data removed]",
      "text/plain": [
       "<Figure size 1440x576 with 15 Axes>"
      ]
     },
     "metadata": {},
     "output_type": "display_data"
    }
   ],
   "source": [
    "y_hat = model.predict(x_test)\n",
    "\n",
    "figure = plt.figure(figsize=(20,8))\n",
    "\n",
    "for i, index in enumerate(np.random.choice(x_test.shape[0], size=15, replace=False)):\n",
    "        ax = figure.add_subplot(3,5, i+1, xticks=[], yticks=[])\n",
    "        \n",
    "        ax.imshow(np.squeeze(x_test[index]))\n",
    "        predict_index = np.argmax(y_hat[index])\n",
    "        true_index = np.argmax(y_test[index])\n",
    "        \n",
    "        ax.set_title(\"{} ({})\".format(fashion_mnist_labels[predict_index], fashion_mnist_labels[true_index], color =(\"green\" if predict_index == true_index else \"red\")))"
   ]
  }
 ],
 "metadata": {
  "kernelspec": {
   "display_name": "Python (tf_gpu)",
   "language": "python",
   "name": "tf_gpu"
  },
  "language_info": {
   "codemirror_mode": {
    "name": "ipython",
    "version": 3
   },
   "file_extension": ".py",
   "mimetype": "text/x-python",
   "name": "python",
   "nbconvert_exporter": "python",
   "pygments_lexer": "ipython3",
   "version": "3.7.4"
  }
 },
 "nbformat": 4,
 "nbformat_minor": 2
}
