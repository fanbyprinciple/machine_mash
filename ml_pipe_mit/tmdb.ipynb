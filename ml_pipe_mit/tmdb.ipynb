{
 "cells": [
  {
   "cell_type": "code",
   "execution_count": 1,
   "metadata": {},
   "outputs": [],
   "source": [
    "#https://spandan-madan.github.io/DeepLearningProject/"
   ]
  },
  {
   "cell_type": "code",
   "execution_count": 13,
   "metadata": {},
   "outputs": [
    {
     "name": "stdout",
     "output_type": "stream",
     "text": [
      "Collecting seaborn\n",
      "  Downloading https://files.pythonhosted.org/packages/70/bd/5e6bf595fe6ee0f257ae49336dd180768c1ed3d7c7155b2fdf894c1c808a/seaborn-0.10.0-py3-none-any.whl (215kB)\n",
      "Requirement already satisfied: scipy>=1.0.1 in c:\\installs\\anaconda\\envs\\tf_gpu\\lib\\site-packages (from seaborn) (1.3.1)\n",
      "Requirement already satisfied: matplotlib>=2.1.2 in c:\\installs\\anaconda\\envs\\tf_gpu\\lib\\site-packages (from seaborn) (3.1.1)\n",
      "Requirement already satisfied: numpy>=1.13.3 in c:\\installs\\anaconda\\envs\\tf_gpu\\lib\\site-packages (from seaborn) (1.16.5)\n",
      "Requirement already satisfied: pandas>=0.22.0 in c:\\installs\\anaconda\\envs\\tf_gpu\\lib\\site-packages (from seaborn) (0.25.3)\n",
      "Requirement already satisfied: pyparsing!=2.0.4,!=2.1.2,!=2.1.6,>=2.0.1 in c:\\installs\\anaconda\\envs\\tf_gpu\\lib\\site-packages (from matplotlib>=2.1.2->seaborn) (2.4.2)\n",
      "Requirement already satisfied: kiwisolver>=1.0.1 in c:\\installs\\anaconda\\envs\\tf_gpu\\lib\\site-packages (from matplotlib>=2.1.2->seaborn) (1.1.0)\n",
      "Requirement already satisfied: python-dateutil>=2.1 in c:\\installs\\anaconda\\envs\\tf_gpu\\lib\\site-packages (from matplotlib>=2.1.2->seaborn) (2.8.0)\n",
      "Requirement already satisfied: cycler>=0.10 in c:\\installs\\anaconda\\envs\\tf_gpu\\lib\\site-packages (from matplotlib>=2.1.2->seaborn) (0.10.0)\n",
      "Requirement already satisfied: pytz>=2017.2 in c:\\installs\\anaconda\\envs\\tf_gpu\\lib\\site-packages (from pandas>=0.22.0->seaborn) (2019.3)\n",
      "Requirement already satisfied: setuptools in c:\\installs\\anaconda\\envs\\tf_gpu\\lib\\site-packages (from kiwisolver>=1.0.1->matplotlib>=2.1.2->seaborn) (41.0.1)\n",
      "Requirement already satisfied: six>=1.5 in c:\\installs\\anaconda\\envs\\tf_gpu\\lib\\site-packages (from python-dateutil>=2.1->matplotlib>=2.1.2->seaborn) (1.12.0)\n",
      "Installing collected packages: seaborn\n",
      "Successfully installed seaborn-0.10.0\n"
     ]
    }
   ],
   "source": [
    "#multi modal classification means multi media\n",
    "!pip install seaborn"
   ]
  },
  {
   "cell_type": "code",
   "execution_count": 2,
   "metadata": {},
   "outputs": [],
   "source": [
    "import urllib.request as request\n",
    "import requests\n",
    "import json\n",
    "import imdb\n",
    "import time\n",
    "import itertools\n",
    "import wget\n",
    "import os\n",
    "import tmdbsimple as tmdb\n",
    "import numpy as np\n",
    "import random\n",
    "import matplotlib\n",
    "import matplotlib.pyplot as plt\n",
    "%matplotlib inline\n",
    "import seaborn as sns\n",
    "import pickle"
   ]
  },
  {
   "cell_type": "code",
   "execution_count": 3,
   "metadata": {},
   "outputs": [
    {
     "name": "stdout",
     "output_type": "stream",
     "text": [
      "Folder already exists\n"
     ]
    }
   ],
   "source": [
    "poster_folder='posters_final/'\n",
    "if poster_folder.split('/')[0] in os.listdir('./'):\n",
    "    print('Folder already exists')\n",
    "else:\n",
    "    os.mkdir('./'+poster_folder)"
   ]
  },
  {
   "cell_type": "code",
   "execution_count": 16,
   "metadata": {},
   "outputs": [
    {
     "data": {
      "text/plain": [
       "'posters_final/'"
      ]
     },
     "execution_count": 16,
     "metadata": {},
     "output_type": "execute_result"
    }
   ],
   "source": [
    "poster_folder"
   ]
  },
  {
   "cell_type": "code",
   "execution_count": 4,
   "metadata": {},
   "outputs": [],
   "source": [
    "api_key = 'c769e5077c9ef3c8e17a34aef32bfe7c'\n",
    "tmdb.API_KEY = api_key\n",
    "search = tmdb.Search()\n",
    "\n",
    "def grab_poster_tmdb(movie):\n",
    "    response = search.movie(query=movie)\n",
    "    id = response['results'][0]['id']\n",
    "    movie = tmdb.Movies(id)\n",
    "    posterp = movie.info()['poster_path']\n",
    "    title = movie.info()['original_title']\n",
    "    url = 'image.tmdb.org/t/p/original'+ posterp\n",
    "    title = '_'.join(title.split(' '))\n",
    "    strcmd = 'wget -O'+ poster_folder+title+'.jpg '+url\n",
    "    os.system(strcmd)\n"
   ]
  },
  {
   "cell_type": "code",
   "execution_count": 5,
   "metadata": {},
   "outputs": [],
   "source": [
    "def get_movie_id_tmdb(movie):\n",
    "    response = search.movie(query=movie)\n",
    "    movie_id=response['results'][0]['id']\n",
    "    return movie_id"
   ]
  },
  {
   "cell_type": "code",
   "execution_count": 6,
   "metadata": {},
   "outputs": [],
   "source": [
    "def get_movie_info_tmdb(movie):\n",
    "    response=search.movie(query=movie)\n",
    "    id=response['results'][0]['id']\n",
    "    movie = tmdb.Movies(id)\n",
    "    info = movie.info()\n",
    "    return info\n",
    "    "
   ]
  },
  {
   "cell_type": "code",
   "execution_count": 7,
   "metadata": {},
   "outputs": [],
   "source": [
    "def get_movie_genres_tmdb(movie):\n",
    "    response = search.movie(query=movie)\n",
    "    id=response['results'][0]['id']\n",
    "    movie = tmdb.Movies(id)\n",
    "    genres=movie.info()['genres']\n",
    "    return genres"
   ]
  },
  {
   "cell_type": "code",
   "execution_count": 8,
   "metadata": {},
   "outputs": [
    {
     "name": "stdout",
     "output_type": "stream",
     "text": [
      "[{'id': 12, 'name': 'Adventure'}, {'id': 18, 'name': 'Drama'}, {'id': 878, 'name': 'Science Fiction'}]\n"
     ]
    }
   ],
   "source": [
    "print(get_movie_genres_tmdb(\"Interstellar\"))"
   ]
  },
  {
   "cell_type": "code",
   "execution_count": 9,
   "metadata": {},
   "outputs": [],
   "source": [
    "info=get_movie_info_tmdb(\"The Matrix\")"
   ]
  },
  {
   "cell_type": "code",
   "execution_count": 10,
   "metadata": {},
   "outputs": [],
   "source": [
    "def get_adult(movie):\n",
    "    response = search.movie(query=movie)\n",
    "    id = response['results'][0]['id']\n",
    "    movie = tmdb.Movies(id)\n",
    "    adult=movie.info()['adult']\n",
    "    return adult"
   ]
  },
  {
   "cell_type": "code",
   "execution_count": 12,
   "metadata": {},
   "outputs": [
    {
     "name": "stdout",
     "output_type": "stream",
     "text": [
      "False\n"
     ]
    }
   ],
   "source": [
    "print(get_adult(\"Interstellar\"))"
   ]
  },
  {
   "cell_type": "code",
   "execution_count": 11,
   "metadata": {},
   "outputs": [
    {
     "name": "stdout",
     "output_type": "stream",
     "text": [
      "{'adult': False, 'backdrop_path': '/xu9zaAevzQ5nnrsXN6JcahLnG4i.jpg', 'belongs_to_collection': None, 'budget': 165000000, 'genres': [{'id': 12, 'name': 'Adventure'}, {'id': 18, 'name': 'Drama'}, {'id': 878, 'name': 'Science Fiction'}], 'homepage': 'http://www.interstellarmovie.net/', 'id': 157336, 'imdb_id': 'tt0816692', 'original_language': 'en', 'original_title': 'Interstellar', 'overview': 'Interstellar chronicles the adventures of a group of explorers who make use of a newly discovered wormhole to surpass the limitations on human space travel and conquer the vast distances involved in an interstellar voyage.', 'popularity': 53.448, 'poster_path': '/nBNZadXqJSdt05SHLqgT0HuC5Gm.jpg', 'production_companies': [{'id': 923, 'logo_path': '/5UQsZrfbfG2dYJbx8DxfoTr2Bvu.png', 'name': 'Legendary Entertainment', 'origin_country': 'US'}, {'id': 9996, 'logo_path': '/3tvBqYsBhxWeHlu62SIJ1el93O7.png', 'name': 'Syncopy', 'origin_country': 'GB'}, {'id': 13769, 'logo_path': None, 'name': 'Lynda Obst Productions', 'origin_country': ''}], 'production_countries': [{'iso_3166_1': 'GB', 'name': 'United Kingdom'}, {'iso_3166_1': 'US', 'name': 'United States of America'}], 'release_date': '2014-11-05', 'revenue': 675120017, 'runtime': 169, 'spoken_languages': [{'iso_639_1': 'en', 'name': 'English'}], 'status': 'Released', 'tagline': 'Mankind was born on Earth. It was never meant to die here.', 'title': 'Interstellar', 'video': False, 'vote_average': 8.3, 'vote_count': 20682}\n"
     ]
    }
   ],
   "source": [
    "print(get_movie_info_tmdb(\"Interstellar\"))"
   ]
  },
  {
   "cell_type": "code",
   "execution_count": 13,
   "metadata": {},
   "outputs": [
    {
     "name": "stdout",
     "output_type": "stream",
     "text": [
      "All the information we can get about this movie from IMDb\n"
     ]
    },
    {
     "data": {
      "text/plain": [
       "['title',\n",
       " 'kind',\n",
       " 'year',\n",
       " 'cover url',\n",
       " 'cast',\n",
       " 'genres',\n",
       " 'runtimes',\n",
       " 'countries',\n",
       " 'country codes',\n",
       " 'language codes',\n",
       " 'color info',\n",
       " 'aspect ratio',\n",
       " 'sound mix',\n",
       " 'box office',\n",
       " 'certificates',\n",
       " 'original air date',\n",
       " 'rating',\n",
       " 'votes',\n",
       " 'plot outline',\n",
       " 'languages',\n",
       " 'directors',\n",
       " 'writers',\n",
       " 'producers',\n",
       " 'composers',\n",
       " 'cinematographers',\n",
       " 'editors',\n",
       " 'editorial department',\n",
       " 'casting directors',\n",
       " 'production designers',\n",
       " 'art directors',\n",
       " 'set decorators',\n",
       " 'costume designers',\n",
       " 'make up department',\n",
       " 'production managers',\n",
       " 'assistant directors',\n",
       " 'art department',\n",
       " 'sound department',\n",
       " 'special effects',\n",
       " 'visual effects',\n",
       " 'stunts',\n",
       " 'camera department',\n",
       " 'animation department',\n",
       " 'casting department',\n",
       " 'costume departmen',\n",
       " 'location management',\n",
       " 'music department',\n",
       " 'script department',\n",
       " 'transportation department',\n",
       " 'miscellaneous',\n",
       " 'akas',\n",
       " 'writer',\n",
       " 'director',\n",
       " 'top 250 rank',\n",
       " 'production companies',\n",
       " 'distributors',\n",
       " 'special effects companies',\n",
       " 'other companies',\n",
       " 'plot',\n",
       " 'synopsis',\n",
       " 'canonical title',\n",
       " 'long imdb title',\n",
       " 'long imdb canonical title',\n",
       " 'smart canonical title',\n",
       " 'smart long imdb canonical title',\n",
       " 'full-size cover url']"
      ]
     },
     "execution_count": 13,
     "metadata": {},
     "output_type": "execute_result"
    }
   ],
   "source": [
    "# getting information from imdb\n",
    "\n",
    "imdb_object = imdb.IMDb()\n",
    "\n",
    "results = imdb_object.search_movie('The Matrix')\n",
    "\n",
    "movie = results[0]\n",
    "\n",
    "imdb_object.update(movie)\n",
    "\n",
    "print(\"All the information we can get about this movie from IMDb\")\n",
    "movie.keys()"
   ]
  },
  {
   "cell_type": "code",
   "execution_count": 14,
   "metadata": {},
   "outputs": [
    {
     "name": "stdout",
     "output_type": "stream",
     "text": [
      "[{'id': 12, 'name': 'Adventure'}, {'id': 18, 'name': 'Drama'}, {'id': 878, 'name': 'Science Fiction'}]\n",
      "['Action', 'Sci-Fi']\n"
     ]
    }
   ],
   "source": [
    "#small comparison withimdb and tmdb\n",
    "print(get_movie_genres_tmdb(\"Interstellar\"))\n",
    "print(movie['genres'])"
   ]
  },
  {
   "cell_type": "code",
   "execution_count": 15,
   "metadata": {},
   "outputs": [
    {
     "name": "stdout",
     "output_type": "stream",
     "text": [
      "4\n"
     ]
    }
   ],
   "source": [
    "all_movies = tmdb.Movies()\n",
    "top_movies = all_movies.popular()\n",
    "\n",
    "print(len(top_movies))\n",
    "\n",
    "top20_movs=top_movies['results']"
   ]
  },
  {
   "cell_type": "code",
   "execution_count": 16,
   "metadata": {
    "scrolled": true
   },
   "outputs": [
    {
     "name": "stdout",
     "output_type": "stream",
     "text": [
      "Here is all the information you can get on this movie - \n",
      "{'popularity': 379.049, 'vote_count': 2099, 'video': False, 'poster_path': '/xBHvZcjRiWyobQ9kxBhO6B2dtRI.jpg', 'id': 419704, 'adult': False, 'backdrop_path': '/5BwqwxMEjeFtdknRV792Svo0K1v.jpg', 'original_language': 'en', 'original_title': 'Ad Astra', 'genre_ids': [12, 18, 9648, 878, 53], 'title': 'Ad Astra', 'vote_average': 6, 'overview': 'The near future, a time when both hope and hardships drive humanity to look to the stars and beyond. While a mysterious phenomenon menaces to destroy life on planet Earth, astronaut Roy McBride undertakes a mission across the immensity of space and its many perils to uncover the truth about a lost expedition that decades before boldly faced emptiness and silence in search of the unknown.', 'release_date': '2019-09-17'}\n",
      "\n",
      "\n",
      "The title of first movie is  Ad Astra\n"
     ]
    }
   ],
   "source": [
    "first_movie = top20_movs[0]\n",
    "print(\"Here is all the information you can get on this movie - \")\n",
    "print(first_movie)\n",
    "print(\"\\n\\nThe title of first movie is \", first_movie['title'])"
   ]
  },
  {
   "cell_type": "code",
   "execution_count": 17,
   "metadata": {},
   "outputs": [
    {
     "name": "stdout",
     "output_type": "stream",
     "text": [
      "[12, 18, 9648, 878, 53]\n",
      "[28, 18, 36, 10752]\n",
      "[28, 80, 53]\n",
      "[80, 18, 53]\n",
      "[18, 14, 27]\n"
     ]
    }
   ],
   "source": [
    "for i in range(len(top20_movs)):\n",
    "    mov = top20_movs[i]\n",
    "    genres = mov['genre_ids']\n",
    "    print(genres)\n",
    "    if i == 4:\n",
    "        break"
   ]
  },
  {
   "cell_type": "code",
   "execution_count": 47,
   "metadata": {
    "scrolled": false
   },
   "outputs": [
    {
     "name": "stdout",
     "output_type": "stream",
     "text": [
      "__name__\n",
      "__doc__\n",
      "__package__\n",
      "__loader__\n",
      "__spec__\n",
      "__path__\n",
      "__file__\n",
      "__cached__\n",
      "__builtins__\n",
      "__title__\n",
      "__version__\n",
      "__author__\n",
      "__copyright__\n",
      "__license__\n",
      "os\n",
      "base\n",
      "account\n",
      "Account\n",
      "Authentication\n",
      "GuestSessions\n",
      "Lists\n",
      "APIKeyError\n",
      "changes\n",
      "Changes\n",
      "configuration\n",
      "Configuration\n",
      "Certifications\n",
      "Timezones\n",
      "discover\n",
      "Discover\n",
      "find\n",
      "Find\n",
      "genres\n",
      "Genres\n",
      "movies\n",
      "Movies\n",
      "Collections\n",
      "Companies\n",
      "Keywords\n",
      "Reviews\n",
      "people\n",
      "People\n",
      "Credits\n",
      "Jobs\n",
      "search\n",
      "Search\n",
      "tv\n",
      "TV\n",
      "TV_Seasons\n",
      "TV_Episodes\n",
      "Networks\n",
      "API_KEY\n",
      "API_VERSION\n",
      "{'base_uri': 'https://api.themoviedb.org/3', 'id': 0}\n"
     ]
    }
   ],
   "source": [
    "#genres functionality has been changed\n",
    "\n",
    "genres = tmdb.Genres()\n",
    "for i in tmdb.__dict__:\n",
    "    print(i)\n",
    "#list_of_genres = genres.list()['genres']\n",
    "\n",
    "print(genres.__dict__)"
   ]
  },
  {
   "cell_type": "code",
   "execution_count": 46,
   "metadata": {},
   "outputs": [],
   "source": [
    "\n",
    "\n",
    "Genre_ID_to_name={}\n",
    "# for i in range(len(list_of_genres)):\n",
    "#     genre_id=list_of_genres[i]['id']\n",
    "#     genre_name=list_of_genres[i]['name']\n",
    "#     Genre_ID_to_name[genre_id]=genre_name\n",
    "\n"
   ]
  },
  {
   "cell_type": "code",
   "execution_count": 37,
   "metadata": {},
   "outputs": [
    {
     "name": "stdout",
     "output_type": "stream",
     "text": [
      "20\n"
     ]
    }
   ],
   "source": [
    "all_movies = tmdb.Movies()\n",
    "top_movies = all_movies.popular()\n",
    "\n",
    "print(len(top_movies['results']))\n",
    "top20_movs = top_movies['results']"
   ]
  },
  {
   "cell_type": "markdown",
   "metadata": {},
   "source": [
    "all_movies = tmdb.Movies()\n",
    "top1000_movies = []\n",
    "print(\"Pulling movie list, please wait ... \")\n",
    "for i in range(1,51):\n",
    "    if(i%15 == 0):\n",
    "        time.sleep(7)\n",
    "    movies_on_this_page = all_movies.popular(page=i)['results']\n",
    "    top1000_movies.extend(movies_on_this_page)\n",
    "\n",
    "len(top1000_movies)\n",
    "f3 = open('movie_list.pckl','wb')\n",
    "pickle.dump(top1000_movies, f3)\n",
    "f3.close()\n",
    "print('Done !')"
   ]
  },
  {
   "cell_type": "code",
   "execution_count": 39,
   "metadata": {},
   "outputs": [],
   "source": [
    "f3 = open('movie_list.pckl', 'rb')\n",
    "top1000_movies = pickle.load(f3)"
   ]
  },
  {
   "cell_type": "code",
   "execution_count": 40,
   "metadata": {},
   "outputs": [],
   "source": [
    "def list2pairs(l):\n",
    "    pairs = list(itertools.combinations(l,2))\n",
    "    \n",
    "    for i in l:\n",
    "        pairs.append([i,i])\n",
    "    return pairs"
   ]
  },
  {
   "cell_type": "code",
   "execution_count": 42,
   "metadata": {},
   "outputs": [],
   "source": [
    "allPairs = []\n",
    "\n",
    "for movie in top1000_movies:\n",
    "    allPairs.extend(list2pairs(movie['genre_ids']))\n",
    "    \n",
    "nr_ids = np.unique(allPairs)\n",
    "visGrid = np.zeros((len(nr_ids), len(nr_ids)))\n",
    "\n",
    "for p in allPairs:\n",
    "    visGrid[np.argwhere(nr_ids == p[0]), np.argwhere(nr_ids == p[1])] += 1\n",
    "    if p[1] != p[0]:\n",
    "        visGrid[np.argwhere(nr_ids==p[1]), np.argwhere(nr_ids == p[0])] += 1"
   ]
  },
  {
   "cell_type": "code",
   "execution_count": 43,
   "metadata": {},
   "outputs": [
    {
     "name": "stdout",
     "output_type": "stream",
     "text": [
      "(19, 19)\n",
      "0\n"
     ]
    }
   ],
   "source": [
    "print(visGrid.shape)\n",
    "print(len(Genre_ID_to_name.keys()))"
   ]
  },
  {
   "cell_type": "code",
   "execution_count": 50,
   "metadata": {},
   "outputs": [
    {
     "data": {
      "text/plain": [
       "<matplotlib.axes._subplots.AxesSubplot at 0x2aa522eb608>"
      ]
     },
     "execution_count": 50,
     "metadata": {},
     "output_type": "execute_result"
    },
    {
     "data": {
      "image/png": "[encoded data removed]",
      "text/plain": [
       "<Figure size 432x288 with 2 Axes>"
      ]
     },
     "metadata": {
      "needs_background": "light"
     },
     "output_type": "display_data"
    }
   ],
   "source": [
    "annot_lookup = []\n",
    "# for i in range(len(nr_ids)):\n",
    "#     annot_lookup.append(Genre_ID_to_name[nr_ids[i]])\n",
    "\n",
    "sns.heatmap(visGrid, xticklabels=annot_lookup, yticklabels=annot_lookup)"
   ]
  }
 ],
 "metadata": {
  "kernelspec": {
   "display_name": "Python (tf_gpu)",
   "language": "python",
   "name": "tf_gpu"
  },
  "language_info": {
   "codemirror_mode": {
    "name": "ipython",
    "version": 3
   },
   "file_extension": ".py",
   "mimetype": "text/x-python",
   "name": "python",
   "nbconvert_exporter": "python",
   "pygments_lexer": "ipython3",
   "version": "3.7.4"
  }
 },
 "nbformat": 4,
 "nbformat_minor": 2
}
