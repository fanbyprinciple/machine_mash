{
 "cells": [
  {
   "cell_type": "code",
   "execution_count": 2,
   "metadata": {},
   "outputs": [
    {
     "name": "stderr",
     "output_type": "stream",
     "text": [
      "Using TensorFlow backend.\n"
     ]
    }
   ],
   "source": [
    "import librosa\n",
    "import pandas as pd\n",
    "import numpy as np\n",
    "import matplotlib.pyplot as plt\n",
    "%matplotlib inline\n",
    "import os\n",
    "from PIL import Image\n",
    "import pathlib\n",
    "import csv\n",
    "\n",
    "from sklearn.model_selection import train_test_split\n",
    "from sklearn.preprocessing import LabelEncoder, StandardScaler\n",
    "\n",
    "import keras\n",
    "import warnings\n",
    "warnings.filterwarnings('ignore')"
   ]
  },
  {
   "cell_type": "code",
   "execution_count": 5,
   "metadata": {},
   "outputs": [],
   "source": [
    "# cmap = plt.get_cmap('inferno')\n",
    "\n",
    "# plt.figure(figsize=(10,10))\n",
    "# genres = 'blues classical country disco hiphop jazz metal pop reggae rock'.split()\n",
    "# for g in genres:\n",
    "#     pathlib.Path(f'img_data/{g}').mkdir(parents=True, exist_ok=True)     \n",
    "#     for filename in os.listdir(f'./MIR/genres/{g}'):\n",
    "#         songname = f'./MIR/genres/{g}/{filename}'\n",
    "#         y, sr = librosa.load(songname, mono=True, duration=5)\n",
    "#         plt.specgram(y, NFFT=2048, Fs=2, Fc=0, noverlap=128, cmap=cmap, sides='default', mode='default', scale='dB');\n",
    "#         plt.axis('off');\n",
    "#         plt.savefig(f'img_data/{g}/{filename[:-3].replace(\".\", \"\")}.png')\n",
    "#         plt.clf()"
   ]
  },
  {
   "cell_type": "code",
   "execution_count": 6,
   "metadata": {},
   "outputs": [],
   "source": [
    "# somehow we convert the songs to data format and we get data.csv\n",
    "# don't ask its cery complicated"
   ]
  },
  {
   "cell_type": "code",
   "execution_count": 7,
   "metadata": {},
   "outputs": [
    {
     "data": {
      "text/html": [
       "<div>\n",
       "<style scoped>\n",
       "    .dataframe tbody tr th:only-of-type {\n",
       "        vertical-align: middle;\n",
       "    }\n",
       "\n",
       "    .dataframe tbody tr th {\n",
       "        vertical-align: top;\n",
       "    }\n",
       "\n",
       "    .dataframe thead th {\n",
       "        text-align: right;\n",
       "    }\n",
       "</style>\n",
       "<table border=\"1\" class=\"dataframe\">\n",
       "  <thead>\n",
       "    <tr style=\"text-align: right;\">\n",
       "      <th></th>\n",
       "      <th>filename</th>\n",
       "      <th>chroma_stft</th>\n",
       "      <th>rmse</th>\n",
       "      <th>spectral_centroid</th>\n",
       "      <th>spectral_bandwidth</th>\n",
       "      <th>rolloff</th>\n",
       "      <th>zero_crossing_rate</th>\n",
       "      <th>mfcc1</th>\n",
       "      <th>mfcc2</th>\n",
       "      <th>mfcc3</th>\n",
       "      <th>...</th>\n",
       "      <th>mfcc12</th>\n",
       "      <th>mfcc13</th>\n",
       "      <th>mfcc14</th>\n",
       "      <th>mfcc15</th>\n",
       "      <th>mfcc16</th>\n",
       "      <th>mfcc17</th>\n",
       "      <th>mfcc18</th>\n",
       "      <th>mfcc19</th>\n",
       "      <th>mfcc20</th>\n",
       "      <th>label</th>\n",
       "    </tr>\n",
       "  </thead>\n",
       "  <tbody>\n",
       "    <tr>\n",
       "      <th>0</th>\n",
       "      <td>blues.00081.au</td>\n",
       "      <td>0.380260</td>\n",
       "      <td>0.248262</td>\n",
       "      <td>2116.942959</td>\n",
       "      <td>1956.611056</td>\n",
       "      <td>4196.107960</td>\n",
       "      <td>0.127272</td>\n",
       "      <td>-26.929785</td>\n",
       "      <td>107.334008</td>\n",
       "      <td>-46.809993</td>\n",
       "      <td>...</td>\n",
       "      <td>14.336612</td>\n",
       "      <td>-13.821769</td>\n",
       "      <td>7.562789</td>\n",
       "      <td>-6.181372</td>\n",
       "      <td>0.330165</td>\n",
       "      <td>-6.829571</td>\n",
       "      <td>0.965922</td>\n",
       "      <td>-7.570825</td>\n",
       "      <td>2.918987</td>\n",
       "      <td>blues</td>\n",
       "    </tr>\n",
       "    <tr>\n",
       "      <th>1</th>\n",
       "      <td>blues.00022.au</td>\n",
       "      <td>0.306451</td>\n",
       "      <td>0.113475</td>\n",
       "      <td>1156.070496</td>\n",
       "      <td>1497.668176</td>\n",
       "      <td>2170.053545</td>\n",
       "      <td>0.058613</td>\n",
       "      <td>-233.860772</td>\n",
       "      <td>136.170239</td>\n",
       "      <td>3.289490</td>\n",
       "      <td>...</td>\n",
       "      <td>-2.250578</td>\n",
       "      <td>3.959198</td>\n",
       "      <td>5.322555</td>\n",
       "      <td>0.812028</td>\n",
       "      <td>-1.107202</td>\n",
       "      <td>-4.556555</td>\n",
       "      <td>-2.436490</td>\n",
       "      <td>3.316913</td>\n",
       "      <td>-0.608485</td>\n",
       "      <td>blues</td>\n",
       "    </tr>\n",
       "    <tr>\n",
       "      <th>2</th>\n",
       "      <td>blues.00031.au</td>\n",
       "      <td>0.253487</td>\n",
       "      <td>0.151571</td>\n",
       "      <td>1331.073970</td>\n",
       "      <td>1973.643437</td>\n",
       "      <td>2900.174130</td>\n",
       "      <td>0.042967</td>\n",
       "      <td>-221.802549</td>\n",
       "      <td>110.843071</td>\n",
       "      <td>18.620984</td>\n",
       "      <td>...</td>\n",
       "      <td>-13.037723</td>\n",
       "      <td>-12.652228</td>\n",
       "      <td>-1.821905</td>\n",
       "      <td>-7.260097</td>\n",
       "      <td>-6.660252</td>\n",
       "      <td>-14.682694</td>\n",
       "      <td>-11.719264</td>\n",
       "      <td>-11.025216</td>\n",
       "      <td>-13.387260</td>\n",
       "      <td>blues</td>\n",
       "    </tr>\n",
       "    <tr>\n",
       "      <th>3</th>\n",
       "      <td>blues.00012.au</td>\n",
       "      <td>0.269320</td>\n",
       "      <td>0.119072</td>\n",
       "      <td>1361.045467</td>\n",
       "      <td>1567.804596</td>\n",
       "      <td>2739.625101</td>\n",
       "      <td>0.069124</td>\n",
       "      <td>-207.208080</td>\n",
       "      <td>132.799175</td>\n",
       "      <td>-15.438986</td>\n",
       "      <td>...</td>\n",
       "      <td>-0.613248</td>\n",
       "      <td>0.384877</td>\n",
       "      <td>2.605128</td>\n",
       "      <td>-5.188924</td>\n",
       "      <td>-9.527455</td>\n",
       "      <td>-9.244394</td>\n",
       "      <td>-2.848274</td>\n",
       "      <td>-1.418707</td>\n",
       "      <td>-5.932607</td>\n",
       "      <td>blues</td>\n",
       "    </tr>\n",
       "    <tr>\n",
       "      <th>4</th>\n",
       "      <td>blues.00056.au</td>\n",
       "      <td>0.391059</td>\n",
       "      <td>0.137728</td>\n",
       "      <td>1811.076084</td>\n",
       "      <td>2052.332563</td>\n",
       "      <td>3927.809582</td>\n",
       "      <td>0.075480</td>\n",
       "      <td>-145.434568</td>\n",
       "      <td>102.829023</td>\n",
       "      <td>-12.517677</td>\n",
       "      <td>...</td>\n",
       "      <td>7.457218</td>\n",
       "      <td>-10.470444</td>\n",
       "      <td>-2.360483</td>\n",
       "      <td>-6.783624</td>\n",
       "      <td>2.671134</td>\n",
       "      <td>-4.760879</td>\n",
       "      <td>-0.949005</td>\n",
       "      <td>0.024832</td>\n",
       "      <td>-2.005315</td>\n",
       "      <td>blues</td>\n",
       "    </tr>\n",
       "  </tbody>\n",
       "</table>\n",
       "<p>5 rows × 28 columns</p>\n",
       "</div>"
      ],
      "text/plain": [
       "         filename  chroma_stft      rmse  spectral_centroid  \\\n",
       "0  blues.00081.au     0.380260  0.248262        2116.942959   \n",
       "1  blues.00022.au     0.306451  0.113475        1156.070496   \n",
       "2  blues.00031.au     0.253487  0.151571        1331.073970   \n",
       "3  blues.00012.au     0.269320  0.119072        1361.045467   \n",
       "4  blues.00056.au     0.391059  0.137728        1811.076084   \n",
       "\n",
       "   spectral_bandwidth      rolloff  zero_crossing_rate       mfcc1  \\\n",
       "0         1956.611056  4196.107960            0.127272  -26.929785   \n",
       "1         1497.668176  2170.053545            0.058613 -233.860772   \n",
       "2         1973.643437  2900.174130            0.042967 -221.802549   \n",
       "3         1567.804596  2739.625101            0.069124 -207.208080   \n",
       "4         2052.332563  3927.809582            0.075480 -145.434568   \n",
       "\n",
       "        mfcc2      mfcc3  ...     mfcc12     mfcc13    mfcc14    mfcc15  \\\n",
       "0  107.334008 -46.809993  ...  14.336612 -13.821769  7.562789 -6.181372   \n",
       "1  136.170239   3.289490  ...  -2.250578   3.959198  5.322555  0.812028   \n",
       "2  110.843071  18.620984  ... -13.037723 -12.652228 -1.821905 -7.260097   \n",
       "3  132.799175 -15.438986  ...  -0.613248   0.384877  2.605128 -5.188924   \n",
       "4  102.829023 -12.517677  ...   7.457218 -10.470444 -2.360483 -6.783624   \n",
       "\n",
       "     mfcc16     mfcc17     mfcc18     mfcc19     mfcc20  label  \n",
       "0  0.330165  -6.829571   0.965922  -7.570825   2.918987  blues  \n",
       "1 -1.107202  -4.556555  -2.436490   3.316913  -0.608485  blues  \n",
       "2 -6.660252 -14.682694 -11.719264 -11.025216 -13.387260  blues  \n",
       "3 -9.527455  -9.244394  -2.848274  -1.418707  -5.932607  blues  \n",
       "4  2.671134  -4.760879  -0.949005   0.024832  -2.005315  blues  \n",
       "\n",
       "[5 rows x 28 columns]"
      ]
     },
     "execution_count": 7,
     "metadata": {},
     "output_type": "execute_result"
    }
   ],
   "source": [
    "data = pd.read_csv('data.csv')\n",
    "data.head()"
   ]
  },
  {
   "cell_type": "code",
   "execution_count": 8,
   "metadata": {},
   "outputs": [
    {
     "data": {
      "text/plain": [
       "(1000, 28)"
      ]
     },
     "execution_count": 8,
     "metadata": {},
     "output_type": "execute_result"
    }
   ],
   "source": [
    "data.shape"
   ]
  },
  {
   "cell_type": "code",
   "execution_count": 9,
   "metadata": {},
   "outputs": [],
   "source": [
    "data = data.drop(['filename'], axis=1)"
   ]
  },
  {
   "cell_type": "code",
   "execution_count": 10,
   "metadata": {},
   "outputs": [],
   "source": [
    "# encoding the labels\n",
    "genre_list = data.iloc[:, -1]\n",
    "encoder = LabelEncoder()\n",
    "y = encoder.fit_transform(genre_list)"
   ]
  },
  {
   "cell_type": "code",
   "execution_count": 11,
   "metadata": {},
   "outputs": [],
   "source": [
    "# scaling the feature columns\n",
    "scaler = StandardScaler()\n",
    "X = scaler.fit_transform(np.array(data.iloc[:,:-1], dtype=float))"
   ]
  },
  {
   "cell_type": "code",
   "execution_count": 12,
   "metadata": {},
   "outputs": [],
   "source": [
    "# Dividing data into training and testing set\n",
    "X_train, X_test, y_train, y_test = train_test_split(X, y, test_size=0.2)"
   ]
  },
  {
   "cell_type": "code",
   "execution_count": 13,
   "metadata": {},
   "outputs": [
    {
     "data": {
      "text/plain": [
       "800"
      ]
     },
     "execution_count": 13,
     "metadata": {},
     "output_type": "execute_result"
    }
   ],
   "source": [
    "len(y_train)"
   ]
  },
  {
   "cell_type": "code",
   "execution_count": 14,
   "metadata": {},
   "outputs": [
    {
     "data": {
      "text/plain": [
       "200"
      ]
     },
     "execution_count": 14,
     "metadata": {},
     "output_type": "execute_result"
    }
   ],
   "source": [
    "len(y_test)"
   ]
  },
  {
   "cell_type": "code",
   "execution_count": 15,
   "metadata": {},
   "outputs": [
    {
     "data": {
      "text/plain": [
       "array([ 1.20226572, -0.37578329,  0.56738133,  0.28452656,  0.61219829,\n",
       "        0.56447527,  0.30154957, -0.59691913, -0.42657558,  0.86245738,\n",
       "       -1.12773528,  1.2357794 , -1.50105885,  0.80891715, -1.2908672 ,\n",
       "        1.12623363, -0.79088872,  1.76102346,  0.05356632,  1.75365697,\n",
       "       -0.03979831,  1.74674674,  0.24680884,  0.03238475,  0.08913079,\n",
       "        0.43433621])"
      ]
     },
     "execution_count": 15,
     "metadata": {},
     "output_type": "execute_result"
    }
   ],
   "source": [
    "X_train[10]"
   ]
  },
  {
   "cell_type": "code",
   "execution_count": 16,
   "metadata": {},
   "outputs": [],
   "source": [
    "# classification with keras\n",
    "# building our network\n",
    "\n",
    "from keras import models\n",
    "from keras import layers\n",
    "\n",
    "model= models.Sequential()\n",
    "model.add(layers.Dense(256, activation='relu', input_shape=(X_train.shape[1],)))\n",
    "\n",
    "model.add(layers.Dense(128, activation='relu'))\n",
    "model.add(layers.Dense(64, activation='relu'))\n",
    "model.add(layers.Dense(10, activation='softmax'))"
   ]
  },
  {
   "cell_type": "code",
   "execution_count": 17,
   "metadata": {},
   "outputs": [],
   "source": [
    "model.compile(optimizer='adam', loss= 'sparse_categorical_crossentropy', metrics=['accuracy'])"
   ]
  },
  {
   "cell_type": "code",
   "execution_count": 18,
   "metadata": {},
   "outputs": [
    {
     "name": "stderr",
     "output_type": "stream",
     "text": [
      "WARNING: Logging before flag parsing goes to stderr.\n",
      "W0328 13:22:41.923965  7892 deprecation_wrapper.py:119] From C:\\installs\\Anaconda\\envs\\tf_gpu\\lib\\site-packages\\keras\\backend\\tensorflow_backend.py:422: The name tf.global_variables is deprecated. Please use tf.compat.v1.global_variables instead.\n",
      "\n"
     ]
    },
    {
     "name": "stdout",
     "output_type": "stream",
     "text": [
      "Epoch 1/20\n",
      "800/800 [==============================] - 1s 1ms/step - loss: 2.2099 - accuracy: 0.2450\n",
      "Epoch 2/20\n",
      "800/800 [==============================] - 0s 34us/step - loss: 1.9049 - accuracy: 0.3550\n",
      "Epoch 3/20\n",
      "800/800 [==============================] - 0s 43us/step - loss: 1.6957 - accuracy: 0.4013\n",
      "Epoch 4/20\n",
      "800/800 [==============================] - 0s 33us/step - loss: 1.5072 - accuracy: 0.4588\n",
      "Epoch 5/20\n",
      "800/800 [==============================] - 0s 29us/step - loss: 1.3572 - accuracy: 0.5400\n",
      "Epoch 6/20\n",
      "800/800 [==============================] - 0s 34us/step - loss: 1.2252 - accuracy: 0.6025\n",
      "Epoch 7/20\n",
      "800/800 [==============================] - 0s 32us/step - loss: 1.1242 - accuracy: 0.6350\n",
      "Epoch 8/20\n",
      "800/800 [==============================] - 0s 27us/step - loss: 1.0340 - accuracy: 0.6612\n",
      "Epoch 9/20\n",
      "800/800 [==============================] - 0s 35us/step - loss: 0.9771 - accuracy: 0.6825\n",
      "Epoch 10/20\n",
      "800/800 [==============================] - 0s 31us/step - loss: 0.9095 - accuracy: 0.7138\n",
      "Epoch 11/20\n",
      "800/800 [==============================] - 0s 28us/step - loss: 0.8596 - accuracy: 0.7188\n",
      "Epoch 12/20\n",
      "800/800 [==============================] - 0s 34us/step - loss: 0.8149 - accuracy: 0.7337\n",
      "Epoch 13/20\n",
      "800/800 [==============================] - 0s 32us/step - loss: 0.7662 - accuracy: 0.7625\n",
      "Epoch 14/20\n",
      "800/800 [==============================] - 0s 37us/step - loss: 0.7315 - accuracy: 0.7625\n",
      "Epoch 15/20\n",
      "800/800 [==============================] - 0s 32us/step - loss: 0.6922 - accuracy: 0.7912\n",
      "Epoch 16/20\n",
      "800/800 [==============================] - 0s 53us/step - loss: 0.6531 - accuracy: 0.7875\n",
      "Epoch 17/20\n",
      "800/800 [==============================] - 0s 35us/step - loss: 0.6326 - accuracy: 0.8037\n",
      "Epoch 18/20\n",
      "800/800 [==============================] - 0s 43us/step - loss: 0.6042 - accuracy: 0.8037\n",
      "Epoch 19/20\n",
      "800/800 [==============================] - 0s 34us/step - loss: 0.5815 - accuracy: 0.8100\n",
      "Epoch 20/20\n",
      "800/800 [==============================] - 0s 28us/step - loss: 0.5457 - accuracy: 0.8188\n"
     ]
    }
   ],
   "source": [
    "history = model.fit(X_train, y_train, epochs=20, batch_size=128)"
   ]
  },
  {
   "cell_type": "code",
   "execution_count": 20,
   "metadata": {},
   "outputs": [
    {
     "name": "stdout",
     "output_type": "stream",
     "text": [
      "200/200 [==============================] - 0s 156us/step\n",
      "test-acc:  0.6949999928474426\n"
     ]
    }
   ],
   "source": [
    "test_loss, test_acc = model.evaluate(X_test, y_test)\n",
    "print('test-acc: ', test_acc)"
   ]
  },
  {
   "cell_type": "code",
   "execution_count": 21,
   "metadata": {},
   "outputs": [],
   "source": [
    "# test accuracy is low because of ack of validation set so we would set apart some data for validation"
   ]
  },
  {
   "cell_type": "code",
   "execution_count": 22,
   "metadata": {},
   "outputs": [],
   "source": [
    "# validating by setting apart 200 samples from training data\n",
    "x_val = X_train[:200]\n",
    "partial_x_train = X_train[200:]\n",
    "\n",
    "y_val = y_train[:200]\n",
    "partial_y_train = y_train[200:]"
   ]
  },
  {
   "cell_type": "code",
   "execution_count": 24,
   "metadata": {},
   "outputs": [
    {
     "name": "stdout",
     "output_type": "stream",
     "text": [
      "Train on 600 samples, validate on 200 samples\n",
      "Epoch 1/30\n",
      "600/600 [==============================] - 0s 246us/step - loss: 2.2797 - accuracy: 0.1233 - val_loss: 2.1482 - val_accuracy: 0.3150\n",
      "Epoch 2/30\n",
      "600/600 [==============================] - 0s 18us/step - loss: 2.1001 - accuracy: 0.3317 - val_loss: 2.0362 - val_accuracy: 0.3100\n",
      "Epoch 3/30\n",
      "600/600 [==============================] - 0s 19us/step - loss: 1.9625 - accuracy: 0.3383 - val_loss: 1.9501 - val_accuracy: 0.3400\n",
      "Epoch 4/30\n",
      "600/600 [==============================] - 0s 21us/step - loss: 1.8583 - accuracy: 0.3367 - val_loss: 1.8789 - val_accuracy: 0.3200\n",
      "Epoch 5/30\n",
      "600/600 [==============================] - 0s 20us/step - loss: 1.7678 - accuracy: 0.3350 - val_loss: 1.7810 - val_accuracy: 0.3600\n",
      "Epoch 6/30\n",
      "600/600 [==============================] - 0s 22us/step - loss: 1.6654 - accuracy: 0.3833 - val_loss: 1.6833 - val_accuracy: 0.4550\n",
      "Epoch 7/30\n",
      "600/600 [==============================] - 0s 18us/step - loss: 1.5677 - accuracy: 0.4817 - val_loss: 1.5997 - val_accuracy: 0.4600\n",
      "Epoch 8/30\n",
      "600/600 [==============================] - 0s 21us/step - loss: 1.4716 - accuracy: 0.5217 - val_loss: 1.5252 - val_accuracy: 0.4850\n",
      "Epoch 9/30\n",
      "600/600 [==============================] - 0s 22us/step - loss: 1.3803 - accuracy: 0.5383 - val_loss: 1.4553 - val_accuracy: 0.5000\n",
      "Epoch 10/30\n",
      "600/600 [==============================] - 0s 21us/step - loss: 1.2945 - accuracy: 0.5750 - val_loss: 1.3846 - val_accuracy: 0.5200\n",
      "Epoch 11/30\n",
      "600/600 [==============================] - 0s 21us/step - loss: 1.2169 - accuracy: 0.6217 - val_loss: 1.3426 - val_accuracy: 0.5400\n",
      "Epoch 12/30\n",
      "600/600 [==============================] - 0s 20us/step - loss: 1.1472 - accuracy: 0.6450 - val_loss: 1.3303 - val_accuracy: 0.5500\n",
      "Epoch 13/30\n",
      "600/600 [==============================] - 0s 20us/step - loss: 1.0986 - accuracy: 0.6700 - val_loss: 1.3070 - val_accuracy: 0.5350\n",
      "Epoch 14/30\n",
      "600/600 [==============================] - 0s 21us/step - loss: 1.0556 - accuracy: 0.6617 - val_loss: 1.2161 - val_accuracy: 0.5750\n",
      "Epoch 15/30\n",
      "600/600 [==============================] - 0s 19us/step - loss: 0.9900 - accuracy: 0.6767 - val_loss: 1.1759 - val_accuracy: 0.6200\n",
      "Epoch 16/30\n",
      "600/600 [==============================] - 0s 19us/step - loss: 0.9484 - accuracy: 0.6983 - val_loss: 1.1909 - val_accuracy: 0.5850\n",
      "Epoch 17/30\n",
      "600/600 [==============================] - 0s 23us/step - loss: 0.9193 - accuracy: 0.7000 - val_loss: 1.1781 - val_accuracy: 0.6150\n",
      "Epoch 18/30\n",
      "600/600 [==============================] - 0s 21us/step - loss: 0.8685 - accuracy: 0.7017 - val_loss: 1.1457 - val_accuracy: 0.6250\n",
      "Epoch 19/30\n",
      "600/600 [==============================] - 0s 25us/step - loss: 0.8325 - accuracy: 0.7250 - val_loss: 1.1043 - val_accuracy: 0.6250\n",
      "Epoch 20/30\n",
      "600/600 [==============================] - 0s 20us/step - loss: 0.8101 - accuracy: 0.7317 - val_loss: 1.0643 - val_accuracy: 0.6350\n",
      "Epoch 21/30\n",
      "600/600 [==============================] - 0s 26us/step - loss: 0.7504 - accuracy: 0.7550 - val_loss: 1.1018 - val_accuracy: 0.5950\n",
      "Epoch 22/30\n",
      "600/600 [==============================] - 0s 20us/step - loss: 0.7492 - accuracy: 0.7283 - val_loss: 1.0713 - val_accuracy: 0.6300\n",
      "Epoch 23/30\n",
      "600/600 [==============================] - 0s 33us/step - loss: 0.7041 - accuracy: 0.7750 - val_loss: 1.0371 - val_accuracy: 0.6400\n",
      "Epoch 24/30\n",
      "600/600 [==============================] - 0s 21us/step - loss: 0.6860 - accuracy: 0.7800 - val_loss: 1.0253 - val_accuracy: 0.6600\n",
      "Epoch 25/30\n",
      "600/600 [==============================] - 0s 20us/step - loss: 0.6515 - accuracy: 0.7733 - val_loss: 1.0641 - val_accuracy: 0.6450\n",
      "Epoch 26/30\n",
      "600/600 [==============================] - 0s 21us/step - loss: 0.6366 - accuracy: 0.7783 - val_loss: 1.0753 - val_accuracy: 0.6350\n",
      "Epoch 27/30\n",
      "600/600 [==============================] - 0s 19us/step - loss: 0.6161 - accuracy: 0.7900 - val_loss: 1.0476 - val_accuracy: 0.6200\n",
      "Epoch 28/30\n",
      "600/600 [==============================] - 0s 20us/step - loss: 0.5731 - accuracy: 0.8017 - val_loss: 1.0220 - val_accuracy: 0.6350\n",
      "Epoch 29/30\n",
      "600/600 [==============================] - 0s 18us/step - loss: 0.5543 - accuracy: 0.8217 - val_loss: 1.0044 - val_accuracy: 0.6700\n",
      "Epoch 30/30\n",
      "600/600 [==============================] - 0s 19us/step - loss: 0.5314 - accuracy: 0.8350 - val_loss: 1.0312 - val_accuracy: 0.6550\n",
      "200/200 [==============================] - 0s 57us/step\n"
     ]
    }
   ],
   "source": [
    "model = models.Sequential()\n",
    "model.add(layers.Dense(512, activation='relu', input_shape=(X_train.shape[1],)))\n",
    "model.add(layers.Dense(256, activation='relu'))\n",
    "model.add(layers.Dense(128, activation='relu'))\n",
    "model.add(layers.Dense(64, activation='relu'))\n",
    "model.add(layers.Dense(10, activation='softmax'))\n",
    "\n",
    "model.compile(optimizer='adam', loss='sparse_categorical_crossentropy', metrics=['accuracy'])\n",
    "model.fit(partial_x_train, partial_y_train, epochs=30, batch_size=512,validation_data=(x_val, y_val))\n",
    "results = model.evaluate(X_test, y_test)"
   ]
  },
  {
   "cell_type": "code",
   "execution_count": 25,
   "metadata": {},
   "outputs": [
    {
     "data": {
      "text/plain": [
       "[0.9906969928741455, 0.675000011920929]"
      ]
     },
     "execution_count": 25,
     "metadata": {},
     "output_type": "execute_result"
    }
   ],
   "source": [
    "results"
   ]
  },
  {
   "cell_type": "code",
   "execution_count": 26,
   "metadata": {},
   "outputs": [],
   "source": [
    "predictions = model.predict(X_test)"
   ]
  },
  {
   "cell_type": "code",
   "execution_count": 28,
   "metadata": {},
   "outputs": [
    {
     "data": {
      "text/plain": [
       "(10,)"
      ]
     },
     "execution_count": 28,
     "metadata": {},
     "output_type": "execute_result"
    }
   ],
   "source": [
    "predictions[0].shape"
   ]
  },
  {
   "cell_type": "code",
   "execution_count": 30,
   "metadata": {},
   "outputs": [
    {
     "name": "stdout",
     "output_type": "stream",
     "text": [
      "[[8.3869651e-02 1.0167875e-05 8.9212883e-01 ... 1.2377385e-04\n",
      "  1.1388448e-03 4.9406947e-03]\n",
      " [2.1782271e-03 3.4183080e-07 4.4865028e-05 ... 1.8030749e-05\n",
      "  3.2828026e-04 1.7123594e-03]\n",
      " [3.1700727e-02 6.5950495e-03 2.7629334e-02 ... 1.5663324e-03\n",
      "  3.0447964e-02 6.0170457e-02]\n",
      " ...\n",
      " [9.2790294e-03 3.1246752e-03 5.2448469e-03 ... 1.7961649e-03\n",
      "  9.5393473e-01 3.5338763e-03]\n",
      " [6.1433192e-04 1.3812691e-05 9.2114201e-03 ... 3.4635805e-02\n",
      "  8.3857387e-02 2.2899549e-02]\n",
      " [3.6458281e-01 1.8361963e-03 3.1628039e-01 ... 2.1134419e-02\n",
      "  1.3304234e-01 7.3935397e-02]]\n",
      "1.0\n",
      "2\n"
     ]
    }
   ],
   "source": [
    "print(predictions)\n",
    "print(np.sum(predictions[0]))\n",
    "print(np.argmax(predictions[0]))"
   ]
  }
 ],
 "metadata": {
  "kernelspec": {
   "display_name": "Python (tf_gpu)",
   "language": "python",
   "name": "tf_gpu"
  },
  "language_info": {
   "codemirror_mode": {
    "name": "ipython",
    "version": 3
   },
   "file_extension": ".py",
   "mimetype": "text/x-python",
   "name": "python",
   "nbconvert_exporter": "python",
   "pygments_lexer": "ipython3",
   "version": "3.7.4"
  }
 },
 "nbformat": 4,
 "nbformat_minor": 2
}
