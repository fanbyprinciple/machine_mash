{
 "cells": [
  {
   "cell_type": "code",
   "execution_count": 3,
   "metadata": {},
   "outputs": [
    {
     "name": "stderr",
     "output_type": "stream",
     "text": [
      "c:\\installs\\anaconda\\envs\\tf_gpu\\lib\\site-packages\\sklearn\\externals\\joblib\\__init__.py:15: DeprecationWarning: sklearn.externals.joblib is deprecated in 0.21 and will be removed in 0.23. Please import this functionality directly from joblib, which can be installed with: pip install joblib. If this warning is raised when loading pickled models, you may need to re-serialize those models with scikit-learn 0.21+.\n",
      "  warnings.warn(msg, category=DeprecationWarning)\n"
     ]
    },
    {
     "name": "stdout",
     "output_type": "stream",
     "text": [
      " * Serving Flask app \"__main__\" (lazy loading)\n",
      " * Environment: production\n",
      "   WARNING: This is a development server. Do not use it in a production deployment.\n",
      "   Use a production WSGI server instead.\n",
      " * Debug mode: on\n"
     ]
    },
    {
     "name": "stderr",
     "output_type": "stream",
     "text": [
      " * Restarting with stat\n"
     ]
    },
    {
     "ename": "SystemExit",
     "evalue": "1",
     "output_type": "error",
     "traceback": [
      "An exception has occurred, use %tb to see the full traceback.\n",
      "\u001b[1;31mSystemExit\u001b[0m\u001b[1;31m:\u001b[0m 1\n"
     ]
    },
    {
     "name": "stderr",
     "output_type": "stream",
     "text": [
      "c:\\installs\\anaconda\\envs\\tf_gpu\\lib\\site-packages\\IPython\\core\\interactiveshell.py:3334: UserWarning: To exit: use 'exit', 'quit', or Ctrl-D.\n",
      "  warn(\"To exit: use 'exit', 'quit', or Ctrl-D.\", stacklevel=1)\n"
     ]
    }
   ],
   "source": [
    "from flask import Flask, request, redirect, url_for, render_template\n",
    "import pdb, sys\n",
    "\n",
    "from sklearn.externals import joblib\n",
    "m1 = joblib.load('clickbait.pkl')\n",
    "\n",
    "def score(input_string):\n",
    "    pred_score = m1.predict_proba([input_string])[0]\n",
    "    if((pred_score[1]> .040) and (pred_score[1]< .060)):\n",
    "        flag = \"looks fishy\"\n",
    "        color = \"warn\"\n",
    "    elif(pred_score[1]< .040):\n",
    "        flag = \"clear\"\n",
    "        color = \"safe\"\n",
    "    elif(pred_score[1]> .060):\n",
    "        flag = \"dang it bro\"\n",
    "        color = \"danger\"\n",
    "    \n",
    "    return {'baitprob': pred_score[1], 'nonbaitprob': pred_score[0],'flag': flag, 'color': color}\n",
    "\n",
    "app = Flask(__name__)\n",
    "\n",
    "@app.route('/', methods=['POST', 'GET'])\n",
    "\n",
    "def index():\n",
    "    if request.method == 'POST':\n",
    "        text = request.form['text']\n",
    "        result = score(text)\n",
    "    else:\n",
    "        result = \"\"\n",
    "        headline = \"\"\n",
    "    \n",
    "    print(\"headline = \" + text, file=sys.stderr)\n",
    "    print(\"result = \" + str(result), file=sys.stderr)\n",
    "    \n",
    "    return render_template('index.html', messages={'result': result, 'sentence': text})\n",
    "\n",
    "\n",
    "if __name__ == '__main__':\n",
    "    app.run(host='127.0.0.1', port=8083, debug=True)"
   ]
  }
 ],
 "metadata": {
  "kernelspec": {
   "display_name": "Python 3",
   "language": "python",
   "name": "python3"
  },
  "language_info": {
   "codemirror_mode": {
    "name": "ipython",
    "version": 3
   },
   "file_extension": ".py",
   "mimetype": "text/x-python",
   "name": "python",
   "nbconvert_exporter": "python",
   "pygments_lexer": "ipython3",
   "version": "3.7.4"
  }
 },
 "nbformat": 4,
 "nbformat_minor": 2
}
