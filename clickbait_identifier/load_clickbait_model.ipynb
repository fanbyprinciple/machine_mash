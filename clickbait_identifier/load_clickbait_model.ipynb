{
 "cells": [
  {
   "cell_type": "code",
   "execution_count": 2,
   "metadata": {},
   "outputs": [
    {
     "name": "stderr",
     "output_type": "stream",
     "text": [
      "C:\\installs\\Anaconda\\envs\\tf_gpu\\lib\\site-packages\\sklearn\\externals\\joblib\\__init__.py:15: DeprecationWarning: sklearn.externals.joblib is deprecated in 0.21 and will be removed in 0.23. Please import this functionality directly from joblib, which can be installed with: pip install joblib. If this warning is raised when loading pickled models, you may need to re-serialize those models with scikit-learn 0.21+.\n",
      "  warnings.warn(msg, category=DeprecationWarning)\n"
     ]
    }
   ],
   "source": [
    "from sklearn.externals import joblib # joblib is deprecated\n",
    "\n",
    "m1 = joblib.load('clickbait.pkl')"
   ]
  },
  {
   "cell_type": "code",
   "execution_count": 3,
   "metadata": {},
   "outputs": [],
   "source": [
    "pred_score = m1.predict(['You wont believe how these things work'])[0]"
   ]
  },
  {
   "cell_type": "code",
   "execution_count": 4,
   "metadata": {},
   "outputs": [
    {
     "name": "stdout",
     "output_type": "stream",
     "text": [
      "1\n"
     ]
    }
   ],
   "source": [
    "print(pred_score)"
   ]
  },
  {
   "cell_type": "code",
   "execution_count": 8,
   "metadata": {},
   "outputs": [],
   "source": [
    "def score(input_string):\n",
    "    pred_score = m1.predict_proba([input_string])[0]\n",
    "    if((pred_score[1]> .040) and (pred_score[1]< .060)):\n",
    "        flag = \"looks fishy\"\n",
    "        color = \"warn\"\n",
    "    elif(pred_score[1]< .040):\n",
    "        flag = \"clear\"\n",
    "        color = \"safe\"\n",
    "    elif(pred_score[1]> .060):\n",
    "        flag = \"dang it bro\"\n",
    "        color = \"danger\"\n",
    "    \n",
    "    return {'baitprob': pred_score[1], 'nonbaitprob': pred_score[0],'flag': flag, 'color': color}"
   ]
  },
  {
   "cell_type": "code",
   "execution_count": 9,
   "metadata": {},
   "outputs": [
    {
     "name": "stdout",
     "output_type": "stream",
     "text": [
      "{'baitprob': 0.9962257058921238, 'nonbaitprob': 0.0037742941078765775, 'flag': 'dang it bro', 'color': 'danger'}\n"
     ]
    }
   ],
   "source": [
    "print(score(\"You don't want to know the secret recipe\"))"
   ]
  }
 ],
 "metadata": {
  "kernelspec": {
   "display_name": "Python (tf_gpu)",
   "language": "python",
   "name": "tf_gpu"
  },
  "language_info": {
   "codemirror_mode": {
    "name": "ipython",
    "version": 3
   },
   "file_extension": ".py",
   "mimetype": "text/x-python",
   "name": "python",
   "nbconvert_exporter": "python",
   "pygments_lexer": "ipython3",
   "version": "3.7.4"
  }
 },
 "nbformat": 4,
 "nbformat_minor": 2
}
