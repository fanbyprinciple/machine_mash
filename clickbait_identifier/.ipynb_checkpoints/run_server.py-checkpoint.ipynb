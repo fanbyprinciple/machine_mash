{
 "cells": [
  {
   "cell_type": "code",
   "execution_count": null,
   "metadata": {},
   "outputs": [],
   "source": [
    "from flask import Flask, request, redirect, url_for, render_template\n",
    "import pdb, sys\n",
    "\n",
    "from sklearn.externals import joblib\n",
    "m1 = joblib.load('clickbait.pkl')\n",
    "\n",
    "def score(input_string):\n",
    "    pred_score = m1.predict_proba([input_string])[0]\n",
    "    if((pred_score[1]> .040) and (pred_score[1]< .060)):\n",
    "        flag = \"looks fishy\"\n",
    "        color = \"warn\"\n",
    "    elif(pred_score[1]< .040):\n",
    "        flag = \"clear\"\n",
    "        color = \"safe\"\n",
    "    elif(pred_score[1]> .060):\n",
    "        flag = \"dang it bro\"\n",
    "        color = \"danger\"\n",
    "    \n",
    "    return {'baitprob': pred_score[1], 'nonbaitprob': pred_score[0],'flag': flag, 'color': color\n",
    "\n",
    "app = Flask(__name__)\n",
    "\n",
    "@app.route('/', methods=['POST', 'GET'])\n",
    "\n",
    "def index():\n",
    "    if request.method == 'POST':\n",
    "        text = request.form['text']\n",
    "        result = score(text)\n",
    "    else:\n",
    "        result = \"\"\n",
    "        headline = \"\"\n",
    "    \n",
    "    print(\"headline = \" + text, file=sys.stderr)\n",
    "    print(\"result = \" + str(result), file=sys.stderr)\n",
    "    \n",
    "    return render_template('index.html', messages={'result': result, 'sentence': text})\n",
    "\n",
    "\n",
    "if __name__ == '__main__':\n",
    "    app.run(host='127.0.0.1', port=8083, debug=True)"
   ]
  }
 ],
 "metadata": {
  "kernelspec": {
   "display_name": "Python 3",
   "language": "python",
   "name": "python3"
  },
  "language_info": {
   "codemirror_mode": {
    "name": "ipython",
    "version": 3
   },
   "file_extension": ".py",
   "mimetype": "text/x-python",
   "name": "python",
   "nbconvert_exporter": "python",
   "pygments_lexer": "ipython3",
   "version": "3.7.4"
  }
 },
 "nbformat": 4,
 "nbformat_minor": 2
}
