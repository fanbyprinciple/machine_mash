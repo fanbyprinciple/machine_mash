{
 "cells": [
  {
   "cell_type": "code",
   "execution_count": 1,
   "metadata": {},
   "outputs": [
    {
     "name": "stdout",
     "output_type": "stream",
     "text": [
      "loaded\n"
     ]
    }
   ],
   "source": [
    "import tensorflow as tf\n",
    "from tensorflow.keras.models import Sequential\n",
    "from tensorflow.keras.layers import Dense, Dropout, Activation, Flatten, Conv2D, MaxPooling2D\n",
    "import pickle\n",
    "\n",
    "print(\"loaded\")\n"
   ]
  },
  {
   "cell_type": "code",
   "execution_count": 2,
   "metadata": {},
   "outputs": [],
   "source": [
    "X = pickle.load(open(\"Xmul.pickle\", \"rb\"))\n",
    "y = pickle.load(open(\"ymul.pickle\", \"rb\"))\n",
    "test = pickle.load(open(\"testmul.pickle\", \"rb\"))\n",
    "\n",
    "X = X/255\n",
    "test = test/255"
   ]
  },
  {
   "cell_type": "code",
   "execution_count": 3,
   "metadata": {},
   "outputs": [
    {
     "name": "stderr",
     "output_type": "stream",
     "text": [
      "WARNING: Logging before flag parsing goes to stderr.\n",
      "W0930 13:22:51.532744 11696 deprecation.py:506] From C:\\installs\\Anaconda\\envs\\tf_gpu\\lib\\site-packages\\tensorflow\\python\\ops\\init_ops.py:1251: calling VarianceScaling.__init__ (from tensorflow.python.ops.init_ops) with dtype is deprecated and will be removed in a future version.\n",
      "Instructions for updating:\n",
      "Call initializer instance with the dtype argument instead of passing it to the constructor\n",
      "W0930 13:22:51.655420 11696 deprecation.py:323] From C:\\installs\\Anaconda\\envs\\tf_gpu\\lib\\site-packages\\tensorflow\\python\\ops\\nn_impl.py:180: add_dispatch_support.<locals>.wrapper (from tensorflow.python.ops.array_ops) is deprecated and will be removed in a future version.\n",
      "Instructions for updating:\n",
      "Use tf.where in 2.0, which has the same broadcast rule as np.where\n"
     ]
    }
   ],
   "source": [
    "model = Sequential()\n",
    "\n",
    "model.add(Conv2D(64, (3,3), input_shape= X.shape[1:]))\n",
    "model.add(Activation(\"relu\"))\n",
    "model.add(MaxPooling2D(pool_size=(2,2)))\n",
    "\n",
    "model.add(Conv2D(64, (3,3)))\n",
    "model.add(Activation(\"relu\"))\n",
    "model.add(MaxPooling2D(pool_size=(2,2)))\n",
    "\n",
    "model.add(Flatten())\n",
    "model.add(Dense(64))\n",
    "\n",
    "model.add(Dense(1))\n",
    "model.add(Activation('sigmoid'))\n",
    "\n",
    "model.compile(loss='binary_crossentropy', optimizer='adam', metrics =['accuracy'])"
   ]
  },
  {
   "cell_type": "code",
   "execution_count": 4,
   "metadata": {},
   "outputs": [
    {
     "name": "stdout",
     "output_type": "stream",
     "text": [
      "Train on 1624 samples, validate on 697 samples\n",
      "Epoch 1/10\n",
      "1624/1624 [==============================] - 5s 3ms/sample - loss: -18835.4104 - acc: 0.3122 - val_loss: -125294.8558 - val_acc: 0.3286\n",
      "Epoch 2/10\n",
      "1624/1624 [==============================] - 2s 1ms/sample - loss: -776111.9680 - acc: 0.3128 - val_loss: -2940794.5556 - val_acc: 0.3286\n",
      "Epoch 3/10\n",
      "1624/1624 [==============================] - 2s 1ms/sample - loss: -7327038.4384 - acc: 0.3128 - val_loss: -19970206.6255 - val_acc: 0.3286\n",
      "Epoch 4/10\n",
      "1624/1624 [==============================] - 2s 1ms/sample - loss: -34608869.7340 - acc: 0.3128 - val_loss: -77070895.2080 - val_acc: 0.3286\n",
      "Epoch 5/10\n",
      "1624/1624 [==============================] - 2s 1ms/sample - loss: -108769269.8719 - acc: 0.3128 - val_loss: -216775899.0301 - val_acc: 0.3286\n",
      "Epoch 6/10\n",
      "1624/1624 [==============================] - 2s 1ms/sample - loss: -273517424.7094 - acc: 0.3128 - val_loss: -492549196.8551 - val_acc: 0.3286\n",
      "Epoch 7/10\n",
      "1624/1624 [==============================] - 2s 1ms/sample - loss: -575565801.8522 - acc: 0.3128 - val_loss: -998660330.8809 - val_acc: 0.3286\n",
      "Epoch 8/10\n",
      "1624/1624 [==============================] - 2s 1ms/sample - loss: -1089079502.9754 - acc: 0.3128 - val_loss: -1767509551.7475 - val_acc: 0.3286\n",
      "Epoch 9/10\n",
      "1624/1624 [==============================] - 2s 1ms/sample - loss: -1846698730.5616 - acc: 0.3128 - val_loss: -2904044079.0129 - val_acc: 0.3286\n",
      "Epoch 10/10\n",
      "1624/1624 [==============================] - 2s 1ms/sample - loss: -2939049501.0049 - acc: 0.3128 - val_loss: -4525643167.0359 - val_acc: 0.3286\n"
     ]
    },
    {
     "data": {
      "text/plain": [
       "<tensorflow.python.keras.callbacks.History at 0x2661ef3acc8>"
      ]
     },
     "execution_count": 4,
     "metadata": {},
     "output_type": "execute_result"
    }
   ],
   "source": [
    "model.fit(X, y , batch_size=32, epochs=10, validation_split=0.3)"
   ]
  },
  {
   "cell_type": "code",
   "execution_count": 5,
   "metadata": {},
   "outputs": [
    {
     "data": {
      "text/plain": [
       "array([[1],\n",
       "       [1],\n",
       "       [1],\n",
       "       [1]])"
      ]
     },
     "execution_count": 5,
     "metadata": {},
     "output_type": "execute_result"
    }
   ],
   "source": [
    "model.predict_classes(test)"
   ]
  }
 ],
 "metadata": {
  "kernelspec": {
   "display_name": "Python (tf_gpu)",
   "language": "python",
   "name": "tf_gpu"
  },
  "language_info": {
   "codemirror_mode": {
    "name": "ipython",
    "version": 3
   },
   "file_extension": ".py",
   "mimetype": "text/x-python",
   "name": "python",
   "nbconvert_exporter": "python",
   "pygments_lexer": "ipython3",
   "version": "3.7.4"
  }
 },
 "nbformat": 4,
 "nbformat_minor": 2
}
