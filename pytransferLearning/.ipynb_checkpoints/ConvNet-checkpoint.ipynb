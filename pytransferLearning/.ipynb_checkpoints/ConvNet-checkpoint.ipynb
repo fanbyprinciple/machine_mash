{
 "cells": [
  {
   "cell_type": "code",
   "execution_count": 24,
   "metadata": {},
   "outputs": [
    {
     "name": "stdout",
     "output_type": "stream",
     "text": [
      "loaded\n"
     ]
    }
   ],
   "source": [
    "import tensorflow as tf\n",
    "from tensorflow.keras.models import Sequential\n",
    "from tensorflow.keras.layers import Dense, Dropout, Activation, Flatten, Conv2D, MaxPooling2D\n",
    "import pickle\n",
    "print(\"loaded\")"
   ]
  },
  {
   "cell_type": "code",
   "execution_count": 25,
   "metadata": {},
   "outputs": [],
   "source": [
    "X = pickle.load(open(\"Xnew.pickle\", \"rb\"))\n",
    "y = pickle.load(open(\"ynew.pickle\", \"rb\"))\n",
    "test = pickle.load(open(\"testnew.pickle\", \"rb\"))\n",
    "\n",
    "X = X/255\n",
    "test = test/255"
   ]
  },
  {
   "cell_type": "code",
   "execution_count": 26,
   "metadata": {},
   "outputs": [],
   "source": [
    "\n",
    "model = Sequential()\n",
    "\n",
    "model.add(Conv2D(64, (3,3), input_shape= X.shape[1:]))\n",
    "model.add(Activation(\"relu\"))\n",
    "model.add(MaxPooling2D(pool_size=(2,2)))\n",
    "\n",
    "model.add(Conv2D(64, (3,3)))\n",
    "model.add(Activation(\"relu\"))\n",
    "model.add(MaxPooling2D(pool_size=(2,2)))\n",
    "\n",
    "model.add(Flatten())\n",
    "model.add(Dense(64))\n",
    "\n",
    "model.add(Dense(1))\n",
    "model.add(Activation('sigmoid'))\n",
    "\n",
    "model.compile(loss='binary_crossentropy', optimizer='adam', metrics=['accuracy'])\n",
    "\n"
   ]
  },
  {
   "cell_type": "code",
   "execution_count": 27,
   "metadata": {},
   "outputs": [
    {
     "name": "stdout",
     "output_type": "stream",
     "text": [
      "Train on 786 samples, validate on 338 samples\n",
      "Epoch 1/10\n",
      "786/786 [==============================] - 2s 3ms/sample - loss: 0.9337 - acc: 0.5267 - val_loss: 0.6700 - val_acc: 0.6657\n",
      "Epoch 2/10\n",
      "786/786 [==============================] - 1s 2ms/sample - loss: 0.6095 - acc: 0.6705 - val_loss: 0.5563 - val_acc: 0.7515\n",
      "Epoch 3/10\n",
      "786/786 [==============================] - 1s 2ms/sample - loss: 0.5150 - acc: 0.7799 - val_loss: 0.5477 - val_acc: 0.7692\n",
      "Epoch 4/10\n",
      "786/786 [==============================] - 1s 2ms/sample - loss: 0.4610 - acc: 0.8155 - val_loss: 0.5109 - val_acc: 0.7929\n",
      "Epoch 5/10\n",
      "786/786 [==============================] - 1s 2ms/sample - loss: 0.4196 - acc: 0.8359 - val_loss: 0.5480 - val_acc: 0.7456\n",
      "Epoch 6/10\n",
      "786/786 [==============================] - 1s 2ms/sample - loss: 0.4168 - acc: 0.8257 - val_loss: 0.4600 - val_acc: 0.8077\n",
      "Epoch 7/10\n",
      "786/786 [==============================] - 1s 2ms/sample - loss: 0.3509 - acc: 0.8740 - val_loss: 0.4901 - val_acc: 0.7870\n",
      "Epoch 8/10\n",
      "786/786 [==============================] - 1s 2ms/sample - loss: 0.3311 - acc: 0.8791 - val_loss: 0.4825 - val_acc: 0.7899\n",
      "Epoch 9/10\n",
      "786/786 [==============================] - 1s 2ms/sample - loss: 0.3204 - acc: 0.8779 - val_loss: 0.5098 - val_acc: 0.7781\n",
      "Epoch 10/10\n",
      "786/786 [==============================] - 1s 2ms/sample - loss: 0.2541 - acc: 0.9160 - val_loss: 0.6129 - val_acc: 0.7574\n"
     ]
    },
    {
     "data": {
      "text/plain": [
       "<tensorflow.python.keras.callbacks.History at 0x18f99327488>"
      ]
     },
     "execution_count": 27,
     "metadata": {},
     "output_type": "execute_result"
    }
   ],
   "source": [
    "model.fit(X, y, batch_size=32, epochs=10, validation_split=0.3)"
   ]
  },
  {
   "cell_type": "code",
   "execution_count": 28,
   "metadata": {},
   "outputs": [
    {
     "name": "stdout",
     "output_type": "stream",
     "text": [
      "0 : fighter\n",
      "1 : fighter\n",
      "2 : fighter\n",
      "3 : fighter\n",
      "4 : fighter\n",
      "5 : fighter\n",
      "6 : fighter\n",
      "7 : fighter\n",
      "8 : fighter\n",
      "9 : Battleship\n",
      "10 : fighter\n",
      "11 : fighter\n",
      "12 : fighter\n",
      "13 : fighter\n",
      "14 : fighter\n",
      "15 : fighter\n",
      "16 : Battleship\n",
      "17 : Battleship\n",
      "18 : Battleship\n",
      "19 : fighter\n",
      "20 : Battleship\n",
      "21 : Battleship\n",
      "22 : fighter\n",
      "23 : Battleship\n",
      "24 : fighter\n",
      "25 : fighter\n",
      "26 : Battleship\n",
      "27 : Battleship\n",
      "28 : Battleship\n",
      "29 : Battleship\n",
      "30 : Battleship\n"
     ]
    }
   ],
   "source": [
    "prediction = model.predict_classes(test)\n",
    "\n",
    "#print(prediction[0])\n",
    "for i in range(0, len(prediction)):\n",
    "    if (prediction[i][0] == 1):\n",
    "            print(i, \": fighter\")\n",
    "    else:\n",
    "        print(i, \": Battleship\")\n",
    "    \n",
    "    "
   ]
  },
  {
   "cell_type": "markdown",
   "metadata": {},
   "source": [
    "model.predict()"
   ]
  }
 ],
 "metadata": {
  "kernelspec": {
   "display_name": "Python (tf_gpu)",
   "language": "python",
   "name": "tf_gpu"
  },
  "language_info": {
   "codemirror_mode": {
    "name": "ipython",
    "version": 3
   },
   "file_extension": ".py",
   "mimetype": "text/x-python",
   "name": "python",
   "nbconvert_exporter": "python",
   "pygments_lexer": "ipython3",
   "version": "3.7.4"
  }
 },
 "nbformat": 4,
 "nbformat_minor": 2
}
