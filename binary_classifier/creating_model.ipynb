{
 "cells": [
  {
   "cell_type": "code",
   "execution_count": 1,
   "metadata": {},
   "outputs": [],
   "source": [
    "import tensorflow as tf\n",
    "tf.logging.set_verbosity(tf.logging.ERROR)\n",
    "from tensorflow.keras.preprocessing.image import ImageDataGenerator"
   ]
  },
  {
   "cell_type": "code",
   "execution_count": 2,
   "metadata": {},
   "outputs": [
    {
     "name": "stdout",
     "output_type": "stream",
     "text": [
      "Found 600 images belonging to 2 classes.\n",
      "Found 66 images belonging to 2 classes.\n"
     ]
    }
   ],
   "source": [
    "train_datagenerator = ImageDataGenerator(rescale=1./255)\n",
    "test_datagenerator = ImageDataGenerator(rescale=1./255)\n",
    "\n",
    "train_datagenerator = train_datagenerator.flow_from_directory('train', target_size=(128,128), batch_size=40, class_mode='binary')\n",
    "test_datagenerator = test_datagenerator.flow_from_directory('test', target_size=(128,128), batch_size=10,class_mode='binary')"
   ]
  },
  {
   "cell_type": "code",
   "execution_count": 3,
   "metadata": {},
   "outputs": [],
   "source": [
    "import tensorflow.keras.layers as m\n",
    "\n",
    "model = tf.keras.models.Sequential()\n",
    "model.add(m.Conv2D(32, (3,3), padding='same', activation='relu',input_shape=(128,128,3)))\n",
    "model.add(m.MaxPooling2D((2,2),2))\n",
    "\n",
    "model.add(m.Conv2D(64, (3,3), padding='same', activation='relu'))\n",
    "model.add(m.MaxPooling2D((2,2),2))\n",
    "\n",
    "model.add(m.Conv2D(128,(3,3), padding='same', activation='relu'))\n",
    "model.add(m.MaxPooling2D((2,2),2))\n",
    "\n",
    "model.add(m.Flatten())\n",
    "model.add(m.Dense(512, activation='relu'))\n",
    "model.add(m.Dense(1, activation='sigmoid'))"
   ]
  },
  {
   "cell_type": "code",
   "execution_count": 4,
   "metadata": {
    "scrolled": true
   },
   "outputs": [
    {
     "name": "stdout",
     "output_type": "stream",
     "text": [
      "Model: \"sequential\"\n",
      "_________________________________________________________________\n",
      "Layer (type)                 Output Shape              Param #   \n",
      "=================================================================\n",
      "conv2d (Conv2D)              (None, 128, 128, 32)      896       \n",
      "_________________________________________________________________\n",
      "max_pooling2d (MaxPooling2D) (None, 64, 64, 32)        0         \n",
      "_________________________________________________________________\n",
      "conv2d_1 (Conv2D)            (None, 64, 64, 64)        18496     \n",
      "_________________________________________________________________\n",
      "max_pooling2d_1 (MaxPooling2 (None, 32, 32, 64)        0         \n",
      "_________________________________________________________________\n",
      "conv2d_2 (Conv2D)            (None, 32, 32, 128)       73856     \n",
      "_________________________________________________________________\n",
      "max_pooling2d_2 (MaxPooling2 (None, 16, 16, 128)       0         \n",
      "_________________________________________________________________\n",
      "flatten (Flatten)            (None, 32768)             0         \n",
      "_________________________________________________________________\n",
      "dense (Dense)                (None, 512)               16777728  \n",
      "_________________________________________________________________\n",
      "dense_1 (Dense)              (None, 1)                 513       \n",
      "=================================================================\n",
      "Total params: 16,871,489\n",
      "Trainable params: 16,871,489\n",
      "Non-trainable params: 0\n",
      "_________________________________________________________________\n",
      "None\n"
     ]
    }
   ],
   "source": [
    "print(model.summary())"
   ]
  },
  {
   "cell_type": "code",
   "execution_count": 5,
   "metadata": {},
   "outputs": [],
   "source": [
    "model.compile(loss='binary_crossentropy', optimizer=tf.keras.optimizers.Adam(0.001),metrics=['accuracy'])"
   ]
  },
  {
   "cell_type": "code",
   "execution_count": 6,
   "metadata": {},
   "outputs": [],
   "source": [
    "DESIRED_ACC = 0.90\n",
    "\n",
    "class myCallback(tf.keras.callbacks.Callback):\n",
    "    def on_epoch_end(self, epoch, logs={}):\n",
    "        if((logs.get('acc')>DESIRED_ACC)and (logs.get('val_acc')>DESIRED_ACC)):\n",
    "            print(\"Reached 85 %\")\n",
    "            self.model.stop_training = True\n",
    "            \n",
    "        \n",
    "callbacks = myCallback()"
   ]
  },
  {
   "cell_type": "code",
   "execution_count": 8,
   "metadata": {},
   "outputs": [
    {
     "name": "stdout",
     "output_type": "stream",
     "text": [
      "Epoch 1/50\n",
      "15/15 [==============================] - 13s 846ms/step - loss: 0.4156 - acc: 0.8633 - val_loss: 0.2392 - val_acc: 0.9394\n",
      "Epoch 2/50\n",
      "15/15 [==============================] - 8s 552ms/step - loss: 0.3249 - acc: 0.8683 - val_loss: 0.2186 - val_acc: 0.9242\n",
      "Epoch 3/50\n",
      "15/15 [==============================] - 8s 551ms/step - loss: 0.2124 - acc: 0.9250 - val_loss: 0.2306 - val_acc: 0.8939\n",
      "Epoch 4/50\n",
      "15/15 [==============================] - 8s 553ms/step - loss: 0.1773 - acc: 0.9283 - val_loss: 0.1880 - val_acc: 0.9394\n",
      "Epoch 5/50\n",
      "15/15 [==============================] - 8s 561ms/step - loss: 0.1099 - acc: 0.9667 - val_loss: 0.1439 - val_acc: 0.9697\n",
      "Epoch 6/50\n",
      "15/15 [==============================] - 9s 584ms/step - loss: 0.0967 - acc: 0.9667 - val_loss: 0.2371 - val_acc: 0.9091\n",
      "Epoch 7/50\n",
      "15/15 [==============================] - 8s 555ms/step - loss: 0.1008 - acc: 0.9667 - val_loss: 0.1802 - val_acc: 0.9394\n",
      "Epoch 8/50\n",
      "15/15 [==============================] - 8s 552ms/step - loss: 0.0745 - acc: 0.9750 - val_loss: 0.3082 - val_acc: 0.8939\n",
      "Epoch 9/50\n",
      "15/15 [==============================] - 8s 559ms/step - loss: 0.0685 - acc: 0.9800 - val_loss: 0.3346 - val_acc: 0.9394\n",
      "Epoch 10/50\n",
      "15/15 [==============================] - 8s 549ms/step - loss: 0.0644 - acc: 0.9800 - val_loss: 0.2704 - val_acc: 0.9394\n",
      "Epoch 11/50\n",
      "15/15 [==============================] - 8s 558ms/step - loss: 0.0401 - acc: 0.9867 - val_loss: 0.2271 - val_acc: 0.9394\n",
      "Epoch 12/50\n",
      "15/15 [==============================] - 8s 549ms/step - loss: 0.0271 - acc: 0.9933 - val_loss: 0.2488 - val_acc: 0.9242\n",
      "Epoch 13/50\n",
      "15/15 [==============================] - 8s 552ms/step - loss: 0.0203 - acc: 0.9967 - val_loss: 0.2319 - val_acc: 0.9242\n",
      "Epoch 14/50\n",
      "15/15 [==============================] - 8s 553ms/step - loss: 0.0201 - acc: 0.9933 - val_loss: 0.2531 - val_acc: 0.9242\n",
      "Epoch 15/50\n",
      "15/15 [==============================] - 8s 562ms/step - loss: 0.0159 - acc: 0.9967 - val_loss: 0.3469 - val_acc: 0.8939\n",
      "Epoch 16/50\n",
      "15/15 [==============================] - 8s 555ms/step - loss: 0.0205 - acc: 0.9933 - val_loss: 0.2928 - val_acc: 0.9242\n",
      "Epoch 17/50\n",
      "15/15 [==============================] - 8s 550ms/step - loss: 0.0125 - acc: 0.9950 - val_loss: 0.5658 - val_acc: 0.8636\n",
      "Epoch 18/50\n",
      "15/15 [==============================] - 8s 545ms/step - loss: 0.0371 - acc: 0.9867 - val_loss: 0.6994 - val_acc: 0.8939\n",
      "Epoch 19/50\n",
      "15/15 [==============================] - 9s 573ms/step - loss: 0.0490 - acc: 0.9817 - val_loss: 0.5230 - val_acc: 0.8333\n",
      "Epoch 20/50\n",
      "15/15 [==============================] - 10s 644ms/step - loss: 0.0230 - acc: 0.9900 - val_loss: 0.4368 - val_acc: 0.8939\n",
      "Epoch 21/50\n",
      "15/15 [==============================] - 9s 567ms/step - loss: 0.0252 - acc: 0.9900 - val_loss: 0.6497 - val_acc: 0.8485\n",
      "Epoch 22/50\n",
      "15/15 [==============================] - 9s 578ms/step - loss: 0.0222 - acc: 0.9917 - val_loss: 0.4923 - val_acc: 0.8333\n",
      "Epoch 23/50\n",
      "15/15 [==============================] - 9s 620ms/step - loss: 0.0260 - acc: 0.9967 - val_loss: 0.4529 - val_acc: 0.8636\n",
      "Epoch 24/50\n",
      "15/15 [==============================] - 8s 562ms/step - loss: 0.0120 - acc: 1.0000 - val_loss: 0.4004 - val_acc: 0.9242\n",
      "Epoch 25/50\n",
      "15/15 [==============================] - 9s 573ms/step - loss: 0.0104 - acc: 0.9950 - val_loss: 0.4504 - val_acc: 0.9091\n",
      "Epoch 26/50\n",
      "15/15 [==============================] - 9s 573ms/step - loss: 0.0061 - acc: 0.9983 - val_loss: 0.3328 - val_acc: 0.9242\n",
      "Epoch 27/50\n",
      "15/15 [==============================] - 9s 571ms/step - loss: 0.0019 - acc: 1.0000 - val_loss: 0.2871 - val_acc: 0.9091\n",
      "Epoch 28/50\n",
      "15/15 [==============================] - 8s 564ms/step - loss: 6.9184e-04 - acc: 1.0000 - val_loss: 0.3157 - val_acc: 0.9091\n",
      "Epoch 29/50\n",
      "15/15 [==============================] - 8s 558ms/step - loss: 3.9439e-04 - acc: 1.0000 - val_loss: 0.3297 - val_acc: 0.9242\n",
      "Epoch 30/50\n",
      "15/15 [==============================] - 8s 565ms/step - loss: 3.2019e-04 - acc: 1.0000 - val_loss: 0.3307 - val_acc: 0.9242\n",
      "Epoch 31/50\n",
      "15/15 [==============================] - 8s 558ms/step - loss: 2.6964e-04 - acc: 1.0000 - val_loss: 0.3310 - val_acc: 0.9242\n",
      "Epoch 32/50\n",
      "15/15 [==============================] - 8s 561ms/step - loss: 2.6501e-04 - acc: 1.0000 - val_loss: 0.3324 - val_acc: 0.9242\n",
      "Epoch 33/50\n",
      "15/15 [==============================] - 9s 573ms/step - loss: 2.1668e-04 - acc: 1.0000 - val_loss: 0.3335 - val_acc: 0.9242\n",
      "Epoch 34/50\n",
      "15/15 [==============================] - 9s 571ms/step - loss: 2.0179e-04 - acc: 1.0000 - val_loss: 0.3320 - val_acc: 0.9242\n",
      "Epoch 35/50\n",
      "15/15 [==============================] - 8s 564ms/step - loss: 1.9403e-04 - acc: 1.0000 - val_loss: 0.3335 - val_acc: 0.9242\n",
      "Epoch 36/50\n",
      "15/15 [==============================] - 8s 560ms/step - loss: 1.7918e-04 - acc: 1.0000 - val_loss: 0.3320 - val_acc: 0.9242\n",
      "Epoch 37/50\n",
      "15/15 [==============================] - 8s 563ms/step - loss: 1.6056e-04 - acc: 1.0000 - val_loss: 0.3347 - val_acc: 0.9242\n",
      "Epoch 38/50\n",
      "15/15 [==============================] - 9s 574ms/step - loss: 1.5082e-04 - acc: 1.0000 - val_loss: 0.3358 - val_acc: 0.9242\n",
      "Epoch 39/50\n",
      "15/15 [==============================] - 9s 578ms/step - loss: 1.4139e-04 - acc: 1.0000 - val_loss: 0.3336 - val_acc: 0.9242\n",
      "Epoch 40/50\n",
      "15/15 [==============================] - 8s 563ms/step - loss: 1.3136e-04 - acc: 1.0000 - val_loss: 0.3368 - val_acc: 0.9242\n",
      "Epoch 41/50\n",
      "15/15 [==============================] - 8s 558ms/step - loss: 1.2347e-04 - acc: 1.0000 - val_loss: 0.3375 - val_acc: 0.9242\n",
      "Epoch 42/50\n",
      "15/15 [==============================] - 9s 582ms/step - loss: 1.2052e-04 - acc: 1.0000 - val_loss: 0.3368 - val_acc: 0.9242\n",
      "Epoch 43/50\n",
      "15/15 [==============================] - 8s 562ms/step - loss: 1.2301e-04 - acc: 1.0000 - val_loss: 0.3371 - val_acc: 0.9242\n",
      "Epoch 44/50\n",
      "15/15 [==============================] - 9s 576ms/step - loss: 1.0800e-04 - acc: 1.0000 - val_loss: 0.3424 - val_acc: 0.9242\n",
      "Epoch 45/50\n",
      "15/15 [==============================] - 8s 564ms/step - loss: 1.0162e-04 - acc: 1.0000 - val_loss: 0.3425 - val_acc: 0.9242\n",
      "Epoch 46/50\n",
      "15/15 [==============================] - 8s 555ms/step - loss: 9.6718e-05 - acc: 1.0000 - val_loss: 0.3430 - val_acc: 0.9242\n",
      "Epoch 47/50\n",
      "15/15 [==============================] - 9s 576ms/step - loss: 8.9027e-05 - acc: 1.0000 - val_loss: 0.3437 - val_acc: 0.9242\n",
      "Epoch 48/50\n",
      "15/15 [==============================] - 8s 552ms/step - loss: 8.5874e-05 - acc: 1.0000 - val_loss: 0.3438 - val_acc: 0.9242\n",
      "Epoch 49/50\n",
      "15/15 [==============================] - 8s 549ms/step - loss: 8.0986e-05 - acc: 1.0000 - val_loss: 0.3444 - val_acc: 0.9242\n",
      "Epoch 50/50\n",
      "15/15 [==============================] - 8s 547ms/step - loss: 8.0163e-05 - acc: 1.0000 - val_loss: 0.3447 - val_acc: 0.9242\n"
     ]
    },
    {
     "data": {
      "text/plain": [
       "<tensorflow.python.keras.callbacks.History at 0x210bba17d88>"
      ]
     },
     "execution_count": 8,
     "metadata": {},
     "output_type": "execute_result"
    }
   ],
   "source": [
    "model.fit_generator(train_datagenerator, epochs=50, validation_data = test_datagenerator)"
   ]
  },
  {
   "cell_type": "code",
   "execution_count": 9,
   "metadata": {},
   "outputs": [],
   "source": [
    "model.save('spamham.h5')"
   ]
  }
 ],
 "metadata": {
  "kernelspec": {
   "display_name": "Python (tf_gpu)",
   "language": "python",
   "name": "tf_gpu"
  },
  "language_info": {
   "codemirror_mode": {
    "name": "ipython",
    "version": 3
   },
   "file_extension": ".py",
   "mimetype": "text/x-python",
   "name": "python",
   "nbconvert_exporter": "python",
   "pygments_lexer": "ipython3",
   "version": "3.7.4"
  }
 },
 "nbformat": 4,
 "nbformat_minor": 2
}
