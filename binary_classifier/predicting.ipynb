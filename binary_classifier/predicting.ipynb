{
 "cells": [
  {
   "cell_type": "code",
   "execution_count": 3,
   "metadata": {},
   "outputs": [],
   "source": [
    "import tensorflow as tf\n",
    "import numpy as np\n",
    "from tensorflow.keras.preprocessing import image"
   ]
  },
  {
   "cell_type": "code",
   "execution_count": 4,
   "metadata": {},
   "outputs": [
    {
     "name": "stderr",
     "output_type": "stream",
     "text": [
      "WARNING: Logging before flag parsing goes to stderr.\n",
      "W0121 20:40:25.907573  7124 deprecation.py:506] From C:\\installs\\Anaconda\\envs\\tf_gpu\\lib\\site-packages\\tensorflow\\python\\ops\\init_ops.py:97: calling GlorotUniform.__init__ (from tensorflow.python.ops.init_ops) with dtype is deprecated and will be removed in a future version.\n",
      "Instructions for updating:\n",
      "Call initializer instance with the dtype argument instead of passing it to the constructor\n",
      "W0121 20:40:25.909523  7124 deprecation.py:506] From C:\\installs\\Anaconda\\envs\\tf_gpu\\lib\\site-packages\\tensorflow\\python\\ops\\init_ops.py:1251: calling VarianceScaling.__init__ (from tensorflow.python.ops.init_ops) with dtype is deprecated and will be removed in a future version.\n",
      "Instructions for updating:\n",
      "Call initializer instance with the dtype argument instead of passing it to the constructor\n",
      "W0121 20:40:25.909523  7124 deprecation.py:506] From C:\\installs\\Anaconda\\envs\\tf_gpu\\lib\\site-packages\\tensorflow\\python\\ops\\init_ops.py:97: calling Zeros.__init__ (from tensorflow.python.ops.init_ops) with dtype is deprecated and will be removed in a future version.\n",
      "Instructions for updating:\n",
      "Call initializer instance with the dtype argument instead of passing it to the constructor\n",
      "W0121 20:40:30.716740  7124 deprecation.py:323] From C:\\installs\\Anaconda\\envs\\tf_gpu\\lib\\site-packages\\tensorflow\\python\\ops\\nn_impl.py:180: add_dispatch_support.<locals>.wrapper (from tensorflow.python.ops.array_ops) is deprecated and will be removed in a future version.\n",
      "Instructions for updating:\n",
      "Use tf.where in 2.0, which has the same broadcast rule as np.where\n"
     ]
    }
   ],
   "source": [
    "model = tf.keras.models.load_model('spamham.h5')"
   ]
  },
  {
   "cell_type": "code",
   "execution_count": 5,
   "metadata": {},
   "outputs": [
    {
     "ename": "FileNotFoundError",
     "evalue": "[Errno 2] No such file or directory: 'test/tennisball/tennis-3619107_640.jpg'",
     "output_type": "error",
     "traceback": [
      "\u001b[1;31m---------------------------------------------------------------------------\u001b[0m",
      "\u001b[1;31mFileNotFoundError\u001b[0m                         Traceback (most recent call last)",
      "\u001b[1;32m<ipython-input-5-6774195469b2>\u001b[0m in \u001b[0;36m<module>\u001b[1;34m\u001b[0m\n\u001b[0;32m      1\u001b[0m \u001b[0mpath\u001b[0m \u001b[1;33m=\u001b[0m \u001b[1;34m'test/tennisball/tennis-3619107_640.jpg'\u001b[0m\u001b[1;33m\u001b[0m\u001b[1;33m\u001b[0m\u001b[0m\n\u001b[1;32m----> 2\u001b[1;33m \u001b[0mimg\u001b[0m \u001b[1;33m=\u001b[0m \u001b[0mimage\u001b[0m\u001b[1;33m.\u001b[0m\u001b[0mload_img\u001b[0m\u001b[1;33m(\u001b[0m\u001b[0mpath\u001b[0m\u001b[1;33m,\u001b[0m \u001b[0mtarget_size\u001b[0m\u001b[1;33m=\u001b[0m\u001b[1;33m(\u001b[0m\u001b[1;36m128\u001b[0m\u001b[1;33m,\u001b[0m \u001b[1;36m128\u001b[0m\u001b[1;33m)\u001b[0m\u001b[1;33m)\u001b[0m\u001b[1;33m\u001b[0m\u001b[1;33m\u001b[0m\u001b[0m\n\u001b[0m\u001b[0;32m      3\u001b[0m \u001b[0mx\u001b[0m \u001b[1;33m=\u001b[0m \u001b[0mimage\u001b[0m\u001b[1;33m.\u001b[0m\u001b[0mimg_to_array\u001b[0m\u001b[1;33m(\u001b[0m\u001b[0mimg\u001b[0m\u001b[1;33m)\u001b[0m\u001b[1;33m\u001b[0m\u001b[1;33m\u001b[0m\u001b[0m\n\u001b[0;32m      4\u001b[0m \u001b[0mx\u001b[0m \u001b[1;33m=\u001b[0m \u001b[0mnp\u001b[0m\u001b[1;33m.\u001b[0m\u001b[0mexpand_dims\u001b[0m\u001b[1;33m(\u001b[0m\u001b[0mx\u001b[0m\u001b[1;33m,\u001b[0m \u001b[0maxis\u001b[0m\u001b[1;33m=\u001b[0m\u001b[1;36m0\u001b[0m\u001b[1;33m)\u001b[0m\u001b[1;33m\u001b[0m\u001b[1;33m\u001b[0m\u001b[0m\n\u001b[0;32m      5\u001b[0m \u001b[1;33m\u001b[0m\u001b[0m\n",
      "\u001b[1;32mC:\\installs\\Anaconda\\envs\\tf_gpu\\lib\\site-packages\\keras_preprocessing\\image\\utils.py\u001b[0m in \u001b[0;36mload_img\u001b[1;34m(path, grayscale, color_mode, target_size, interpolation)\u001b[0m\n\u001b[0;32m    108\u001b[0m         raise ImportError('Could not import PIL.Image. '\n\u001b[0;32m    109\u001b[0m                           'The use of `load_img` requires PIL.')\n\u001b[1;32m--> 110\u001b[1;33m     \u001b[0mimg\u001b[0m \u001b[1;33m=\u001b[0m \u001b[0mpil_image\u001b[0m\u001b[1;33m.\u001b[0m\u001b[0mopen\u001b[0m\u001b[1;33m(\u001b[0m\u001b[0mpath\u001b[0m\u001b[1;33m)\u001b[0m\u001b[1;33m\u001b[0m\u001b[1;33m\u001b[0m\u001b[0m\n\u001b[0m\u001b[0;32m    111\u001b[0m     \u001b[1;32mif\u001b[0m \u001b[0mcolor_mode\u001b[0m \u001b[1;33m==\u001b[0m \u001b[1;34m'grayscale'\u001b[0m\u001b[1;33m:\u001b[0m\u001b[1;33m\u001b[0m\u001b[1;33m\u001b[0m\u001b[0m\n\u001b[0;32m    112\u001b[0m         \u001b[1;32mif\u001b[0m \u001b[0mimg\u001b[0m\u001b[1;33m.\u001b[0m\u001b[0mmode\u001b[0m \u001b[1;33m!=\u001b[0m \u001b[1;34m'L'\u001b[0m\u001b[1;33m:\u001b[0m\u001b[1;33m\u001b[0m\u001b[1;33m\u001b[0m\u001b[0m\n",
      "\u001b[1;32mC:\\installs\\Anaconda\\envs\\tf_gpu\\lib\\site-packages\\PIL\\Image.py\u001b[0m in \u001b[0;36mopen\u001b[1;34m(fp, mode)\u001b[0m\n\u001b[0;32m   2768\u001b[0m \u001b[1;33m\u001b[0m\u001b[0m\n\u001b[0;32m   2769\u001b[0m     \u001b[1;32mif\u001b[0m \u001b[0mfilename\u001b[0m\u001b[1;33m:\u001b[0m\u001b[1;33m\u001b[0m\u001b[1;33m\u001b[0m\u001b[0m\n\u001b[1;32m-> 2770\u001b[1;33m         \u001b[0mfp\u001b[0m \u001b[1;33m=\u001b[0m \u001b[0mbuiltins\u001b[0m\u001b[1;33m.\u001b[0m\u001b[0mopen\u001b[0m\u001b[1;33m(\u001b[0m\u001b[0mfilename\u001b[0m\u001b[1;33m,\u001b[0m \u001b[1;34m\"rb\"\u001b[0m\u001b[1;33m)\u001b[0m\u001b[1;33m\u001b[0m\u001b[1;33m\u001b[0m\u001b[0m\n\u001b[0m\u001b[0;32m   2771\u001b[0m         \u001b[0mexclusive_fp\u001b[0m \u001b[1;33m=\u001b[0m \u001b[1;32mTrue\u001b[0m\u001b[1;33m\u001b[0m\u001b[1;33m\u001b[0m\u001b[0m\n\u001b[0;32m   2772\u001b[0m \u001b[1;33m\u001b[0m\u001b[0m\n",
      "\u001b[1;31mFileNotFoundError\u001b[0m: [Errno 2] No such file or directory: 'test/tennisball/tennis-3619107_640.jpg'"
     ]
    }
   ],
   "source": [
    "path = 'test/tennisball/tennis-3619107_640.jpg'\n",
    "img = image.load_img(path, target_size=(128, 128))\n",
    "x = image.img_to_array(img)\n",
    "x = np.expand_dims(x, axis=0)\n",
    "\n",
    "images = np.vstack([x])\n",
    "classes = model.predict(images)\n",
    "print(classes[0])\n",
    "if classes[0]<0.5:\n",
    "    print(\"Given image contains a Baseball\")\n",
    "else:\n",
    "    print(\"Given image contains a Tennis Ball\")"
   ]
  },
  {
   "cell_type": "code",
   "execution_count": 7,
   "metadata": {},
   "outputs": [
    {
     "name": "stdout",
     "output_type": "stream",
     "text": [
      "['IMG-20200108-WA0008.jpg', 'IMG-20200108-WA0026.jpg', 'IMG-20200108-WA0027.jpg', 'IMG-20200108-WA0028.jpg', 'IMG-20200108-WA0029.jpg', 'IMG-20200108-WA0030.jpg', 'IMG-20200108-WA0031.jpg', 'IMG-20200108-WA0033.jpg', 'IMG-20200108-WA0034.jpg', 'IMG-20200108-WA0035.jpg', 'IMG-20200108-WA0036.jpg', 'IMG-20200108-WA0037.jpg', 'IMG-20200108-WA0038.jpg', 'IMG-20200109-WA0001.jpg', 'IMG-20200109-WA0003.jpg', 'IMG-20200109-WA0007.jpeg', 'IMG-20200109-WA0010.jpeg', 'IMG-20200109-WA0013.jpg', 'IMG-20200109-WA0014.jpg', 'IMG-20200109-WA0015.jpg', 'IMG-20200109-WA0016.jpg', 'IMG-20200109-WA0017.jpg', 'IMG-20200109-WA0019.jpg', 'IMG-20200109-WA0020.jpg', 'IMG-20200109-WA0021.jpg', 'IMG-20200109-WA0022.jpg', 'IMG_20191228_193819_1.jpg', 'IMG_20191228_193821.jpg', 'IMG_20191228_193838.jpg', 'IMG_20191228_193849.jpg', 'IMG_20191228_193855.jpg', 'IMG_20191228_193858.jpg', 'IMG_20191228_193859.jpg', 'IMG_20191228_193937.jpg', 'IMG_20191228_193938.jpg', 'IMG_20191228_194039.jpg', 'IMG_20191228_194049.jpg', 'IMG_20191228_194053.jpg', 'IMG_20191228_194057.jpg', 'IMG_20191228_194102.jpg', 'IMG_20191228_194105.jpg', 'IMG_20191228_194117.jpg', 'IMG_20191228_194122.jpg', 'IMG_20191228_194125.jpg', 'IMG_20191228_194128.jpg', 'IMG_20191228_194526.jpg', 'IMG_20191228_194529.jpg', 'IMG_20191228_194535.jpg', 'IMG_20191228_194604.jpg', 'IMG_20191228_194608.jpg', 'IMG_20191228_213431.jpg', 'IMG_20191228_213809.jpg', 'IMG_20191228_213825.jpg', 'IMG_20191228_213921.jpg', 'IMG_20191228_213922.jpg', 'IMG_20191229_194951.jpg', 'IMG_20191229_195103.jpg', 'IMG_20191229_195127.jpg', 'IMG_20191229_195129.jpg', 'IMG_20200114_092923.jpg', 'IMG_20200114_093045.jpg', 'IMG_20200114_123626.jpg', 'IMG_20200116_212030.jpg', 'IMG_20200116_225555.jpg', 'IMG_20200116_225603.jpg', 'IMG_20200116_225639.jpg']\n",
      "sorting_folder\n",
      "tennisball\n",
      "tennisball\n",
      "tennisball\n",
      "tennisball\n",
      "tennisball\n",
      "tennisball\n",
      "tennisball\n",
      "tennisball\n",
      "tennisball\n",
      "tennisball\n",
      "tennisball\n",
      "tennisball\n",
      "tennisball\n",
      "tennisball\n",
      "tennisball\n",
      "tennisball\n",
      "tennisball\n",
      "tennisball\n",
      "tennisball\n",
      "tennisball\n",
      "tennisball\n",
      "baseball\n",
      "tennisball\n",
      "tennisball\n",
      "tennisball\n",
      "tennisball\n",
      "tennisball\n",
      "tennisball\n",
      "tennisball\n",
      "tennisball\n",
      "baseball\n",
      "baseball\n",
      "baseball\n",
      "baseball\n",
      "baseball\n",
      "baseball\n",
      "baseball\n",
      "tennisball\n",
      "tennisball\n",
      "tennisball\n",
      "baseball\n",
      "baseball\n",
      "baseball\n",
      "baseball\n",
      "baseball\n",
      "tennisball\n",
      "tennisball\n",
      "tennisball\n",
      "baseball\n",
      "baseball\n",
      "tennisball\n",
      "baseball\n",
      "tennisball\n",
      "tennisball\n",
      "tennisball\n",
      "baseball\n",
      "baseball\n",
      "baseball\n",
      "baseball\n",
      "tennisball\n",
      "tennisball\n",
      "tennisball\n",
      "tennisball\n",
      "tennisball\n",
      "tennisball\n",
      "tennisball\n"
     ]
    }
   ],
   "source": [
    "import os\n",
    "import shutil\n",
    "\n",
    "for root, dirs, files in os.walk('sorting_folder'):\n",
    "    pass\n",
    "print(files)\n",
    "print(root)\n",
    "\n",
    "spam = os.path.join(root, \"spam\")\n",
    "ham = os.path.join(root, \"ham\")\n",
    "\n",
    "root = 'sorting_folder'\n",
    "\n",
    "if not os.path.exists(spam):\n",
    "    os.mkdir(spam)\n",
    "if not os.path.exists(ham):\n",
    "    os.mkdir(ham)\n",
    "\n",
    "\n",
    "\n",
    "for i in files:\n",
    "    path = os.path.join(root,i)\n",
    "    img = image.load_img(path, target_size=(128,128))\n",
    "    x = image.img_to_array(img)\n",
    "    x = np.expand_dims(x, axis=0)\n",
    "    \n",
    "    images = np.vstack([x])\n",
    "    classes = model.predict(images)\n",
    "    if classes[0] < 0.5:\n",
    "        print(\"baseball\")\n",
    "        shutil.move(path, os.path.join(ham,i))\n",
    "    else:\n",
    "        print(\"tennisball\")\n",
    "        shutil.move(path, os.path.join(spam,i))\n",
    "        "
   ]
  }
 ],
 "metadata": {
  "kernelspec": {
   "display_name": "Python (tf_gpu)",
   "language": "python",
   "name": "tf_gpu"
  },
  "language_info": {
   "codemirror_mode": {
    "name": "ipython",
    "version": 3
   },
   "file_extension": ".py",
   "mimetype": "text/x-python",
   "name": "python",
   "nbconvert_exporter": "python",
   "pygments_lexer": "ipython3",
   "version": "3.7.4"
  }
 },
 "nbformat": 4,
 "nbformat_minor": 2
}
