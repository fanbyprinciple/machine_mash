{
  "nbformat": 4,
  "nbformat_minor": 0,
  "metadata": {
    "colab": {
      "name": "gpt-2_sun_tzu.ipynb",
      "provenance": [],
      "mount_file_id": "1S5avQjp60GhJU0koojC3JCwuXjZ9pbi2",
      "authorship_tag": "ABX9TyMXHU1OBQMGgTq3HM81sggF",
      "include_colab_link": true
    },
    "kernelspec": {
      "name": "python3",
      "display_name": "Python 3"
    },
    "accelerator": "GPU"
  },
  "cells": [
    {
      "cell_type": "markdown",
      "metadata": {
        "id": "view-in-github",
        "colab_type": "text"
      },
      "source": [
        "<a href=\"https://colab.research.google.com/github/fanbyprinciple/machine_mash/blob/master/gpt_2_sun_tzu.ipynb\" target=\"_parent\"><img src=\"https://colab.research.google.com/assets/colab-badge.svg\" alt=\"Open In Colab\"/></a>"
      ]
    },
    {
      "cell_type": "code",
      "metadata": {
        "id": "Tk6fd1jTxp-q",
        "colab_type": "code",
        "colab": {
          "base_uri": "https://localhost:8080/",
          "height": 202
        },
        "outputId": "28ae89ac-e137-4dd2-da17-3df07e6e174c"
      },
      "source": [
        "%tensorflow_version 1.x\n",
        "!pip install -q gpt-2-simple\n",
        "import gpt_2_simple as gpt2\n",
        "from datetime import datetime\n",
        "from google.colab import files"
      ],
      "execution_count": 1,
      "outputs": [
        {
          "output_type": "stream",
          "text": [
            "TensorFlow 1.x selected.\n",
            "WARNING:tensorflow:\n",
            "The TensorFlow contrib module will not be included in TensorFlow 2.0.\n",
            "For more information, please see:\n",
            "  * https://github.com/tensorflow/community/blob/master/rfcs/20180907-contrib-sunset.md\n",
            "  * https://github.com/tensorflow/addons\n",
            "  * https://github.com/tensorflow/io (for I/O related ops)\n",
            "If you depend on functionality not listed there, please file an issue.\n",
            "\n"
          ],
          "name": "stdout"
        }
      ]
    },
    {
      "cell_type": "markdown",
      "metadata": {
        "id": "mHeNAY87I1H0",
        "colab_type": "text"
      },
      "source": [
        "Reference: https://colab.research.google.com/drive/1VLG8e7YSEwypxU-noRNhsv5dW4NfTGce#scrollTo=0-LRex8lfv1g&forceEdit=true&sandboxMode=true\n"
      ]
    },
    {
      "cell_type": "code",
      "metadata": {
        "id": "l_GdcpjNxzmm",
        "colab_type": "code",
        "colab": {
          "base_uri": "https://localhost:8080/",
          "height": 329
        },
        "outputId": "9ab39389-af19-4cb9-bb5b-26890a7b1b16"
      },
      "source": [
        "!nvidia-smi"
      ],
      "execution_count": 2,
      "outputs": [
        {
          "output_type": "stream",
          "text": [
            "Sat Jun  6 14:26:22 2020       \n",
            "+-----------------------------------------------------------------------------+\n",
            "| NVIDIA-SMI 440.82       Driver Version: 418.67       CUDA Version: 10.1     |\n",
            "|-------------------------------+----------------------+----------------------+\n",
            "| GPU  Name        Persistence-M| Bus-Id        Disp.A | Volatile Uncorr. ECC |\n",
            "| Fan  Temp  Perf  Pwr:Usage/Cap|         Memory-Usage | GPU-Util  Compute M. |\n",
            "|===============================+======================+======================|\n",
            "|   0  Tesla P100-PCIE...  Off  | 00000000:00:04.0 Off |                    0 |\n",
            "| N/A   40C    P0    26W / 250W |      0MiB / 16280MiB |      0%      Default |\n",
            "+-------------------------------+----------------------+----------------------+\n",
            "                                                                               \n",
            "+-----------------------------------------------------------------------------+\n",
            "| Processes:                                                       GPU Memory |\n",
            "|  GPU       PID   Type   Process name                             Usage      |\n",
            "|=============================================================================|\n",
            "|  No running processes found                                                 |\n",
            "+-----------------------------------------------------------------------------+\n"
          ],
          "name": "stdout"
        }
      ]
    },
    {
      "cell_type": "code",
      "metadata": {
        "id": "opSHRgzYx4Pd",
        "colab_type": "code",
        "colab": {
          "base_uri": "https://localhost:8080/",
          "height": 166
        },
        "outputId": "ee37dc33-9eda-416e-988f-fa02fc60721f"
      },
      "source": [
        "gpt2.download_gpt2(model_name=\"355M\")"
      ],
      "execution_count": 3,
      "outputs": [
        {
          "output_type": "stream",
          "text": [
            "Fetching checkpoint: 1.05Mit [00:00, 310Mit/s]                                                      \n",
            "Fetching encoder.json: 1.05Mit [00:00, 122Mit/s]                                                    \n",
            "Fetching hparams.json: 1.05Mit [00:00, 370Mit/s]                                                    \n",
            "Fetching model.ckpt.data-00000-of-00001: 1.42Git [00:05, 257Mit/s]                                  \n",
            "Fetching model.ckpt.index: 1.05Mit [00:00, 277Mit/s]                                                \n",
            "Fetching model.ckpt.meta: 1.05Mit [00:00, 145Mit/s]                                                 \n",
            "Fetching vocab.bpe: 1.05Mit [00:00, 21.8Mit/s]                                                      \n"
          ],
          "name": "stderr"
        }
      ]
    },
    {
      "cell_type": "code",
      "metadata": {
        "id": "UF91KQTuyFZM",
        "colab_type": "code",
        "colab": {
          "base_uri": "https://localhost:8080/",
          "height": 55
        },
        "outputId": "d845d74b-ecfb-407b-87b8-b6b10573dcbc"
      },
      "source": [
        "gpt2.mount_gdrive()"
      ],
      "execution_count": 4,
      "outputs": [
        {
          "output_type": "stream",
          "text": [
            "Drive already mounted at /content/drive; to attempt to forcibly remount, call drive.mount(\"/content/drive\", force_remount=True).\n"
          ],
          "name": "stdout"
        }
      ]
    },
    {
      "cell_type": "code",
      "metadata": {
        "id": "0a26XHZWyVCv",
        "colab_type": "code",
        "colab": {}
      },
      "source": [
        "file_name = \"suntzu_2.txt\""
      ],
      "execution_count": 0,
      "outputs": []
    },
    {
      "cell_type": "code",
      "metadata": {
        "id": "wnNnapKb0Gxg",
        "colab_type": "code",
        "colab": {}
      },
      "source": [
        "gpt2.copy_file_from_gdrive(file_name)"
      ],
      "execution_count": 0,
      "outputs": []
    },
    {
      "cell_type": "code",
      "metadata": {
        "id": "hF9XJd_C016x",
        "colab_type": "code",
        "colab": {
          "base_uri": "https://localhost:8080/",
          "height": 1000
        },
        "outputId": "409cd16e-add8-4459-b845-207b9a5ed865"
      },
      "source": [
        "sess = gpt2.start_tf_sess()\n",
        "\n",
        "gpt2.finetune(sess,\n",
        "              dataset=file_name,\n",
        "              model_name='355M',\n",
        "              steps=1000,\n",
        "              restore_from='fresh',\n",
        "              run_name='run1',\n",
        "              print_every=10,\n",
        "              sample_every=200,\n",
        "              save_every=500\n",
        "              )"
      ],
      "execution_count": 7,
      "outputs": [
        {
          "output_type": "stream",
          "text": [
            "WARNING:tensorflow:From /usr/local/lib/python3.6/dist-packages/gpt_2_simple/src/sample.py:17: where (from tensorflow.python.ops.array_ops) is deprecated and will be removed in a future version.\n",
            "Instructions for updating:\n",
            "Use tf.where in 2.0, which has the same broadcast rule as np.where\n",
            "WARNING:tensorflow:From /usr/local/lib/python3.6/dist-packages/gpt_2_simple/src/memory_saving_gradients.py:62: get_backward_walk_ops (from tensorflow.contrib.graph_editor.select) is deprecated and will be removed after 2019-06-06.\n",
            "Instructions for updating:\n",
            "Please use tensorflow.python.ops.op_selector.get_backward_walk_ops.\n",
            "Loading checkpoint models/355M/model.ckpt\n",
            "INFO:tensorflow:Restoring parameters from models/355M/model.ckpt\n"
          ],
          "name": "stdout"
        },
        {
          "output_type": "stream",
          "text": [
            "\r  0%|          | 0/1 [00:00<?, ?it/s]"
          ],
          "name": "stderr"
        },
        {
          "output_type": "stream",
          "text": [
            "Loading dataset...\n"
          ],
          "name": "stdout"
        },
        {
          "output_type": "stream",
          "text": [
            "100%|██████████| 1/1 [00:00<00:00,  4.24it/s]\n"
          ],
          "name": "stderr"
        },
        {
          "output_type": "stream",
          "text": [
            "dataset has 35176 tokens\n",
            "Training...\n",
            "[10 | 17.77] loss=1.96 avg=1.96\n",
            "[20 | 26.62] loss=1.99 avg=1.98\n",
            "[30 | 35.47] loss=0.98 avg=1.64\n",
            "[40 | 44.30] loss=0.25 avg=1.29\n",
            "[50 | 53.14] loss=1.12 avg=1.25\n",
            "[60 | 62.00] loss=0.31 avg=1.09\n",
            "[70 | 70.85] loss=0.32 avg=0.98\n",
            "[80 | 79.69] loss=0.11 avg=0.87\n",
            "[90 | 88.53] loss=0.13 avg=0.78\n",
            "[100 | 97.37] loss=0.07 avg=0.71\n",
            "[110 | 106.21] loss=0.05 avg=0.64\n",
            "[120 | 115.06] loss=0.03 avg=0.59\n",
            "[130 | 123.91] loss=0.06 avg=0.55\n",
            "[140 | 132.75] loss=0.07 avg=0.51\n",
            "[150 | 141.57] loss=0.08 avg=0.48\n",
            "[160 | 150.42] loss=0.11 avg=0.45\n",
            "[170 | 159.25] loss=0.03 avg=0.43\n",
            "[180 | 168.08] loss=0.03 avg=0.40\n",
            "[190 | 176.91] loss=0.04 avg=0.38\n",
            "[200 | 185.74] loss=0.03 avg=0.36\n",
            "======== SAMPLE 1 ========\n",
            " and it is an excellent read. It is practical, it is it- or-there-for-there-be-anyone-else-who-can-make-a-difference-in-the-battle-and-win-the-battle-that-you-are-in. It isaside-’face’‑to‑face, where you are on the offensive, on the defensive, and maneuvering around/fighting‑and/around‑being-coached/disciplined. It isaside‑face‑to‑face’’’’’ strategy, where you are on the offensive, on the defensive, and/or running‑around‑looking-for‑opportunity/failing‑to‑find‑your‑opponent. It isaside‑face‑to‑face’’’’’ strategy, where you are on the offensive, on the defensive, and/or hiding‑yourself‑from‑yourself‑the‑enemy‑is-going-to‑get‑you-and‑your-vehicle. It isaside‑face‑to‐face’’’’’ strategy, where you are on the offensive, on the defensive, and/or hiding‑yourself‑from‑yourself‑the‑enemy’s/yours/yours/yours/yours/yours/yours/yours/yours/yours/yours/yours/yours/yours/yours/yours/yours/yours/yours/yours/yours/yours/yours/yours/yours/yours/yours/yours/yours/yours/yours/yours/yours/yours/yours/yours/yours/yours/yours/yours/yours/yours/yours/yours/yours/yours/yours/yours/yours/yours/yours/yours/yours/yours/yours/yours/yours/yours/yours/yours/yours/yours/yours/yours/yours/yours/yours/yours/yours/yours/yours/yours/yours/yours/yours/yours/yours/yours/yours/yours/yours/yours/yours/yours/yours/yours/yours/yours/yours/yours/yours/yours/yours/yours/yours/yours/yours/yours/yours/yours/yours/yours/yours/yours/yours/yours/yours/yours/yours/yours/ yours/ yours/ yours/ yours/ yours/ yours/ yours/ yours/ yours/ yours/ yours/ yours/ yours/ yours/ yours/ yours/ yours/ yours/ yours/ yours/ yours/ yours/ yours/ yours/ yours/ yours/ yours/ yours/ yours/ yours/ yours/ yours/ yours/ yours/ yours/ yours/ yours/ yours/ yours/ yours/ yours/ yours/ yours/ yours/ yours/ yours/ yours/ yours/ yours/ yours/ yours/ yours/ yours/ yours/ yours/ yours/ yours/ yours/ yours/ yours/ yours/ yours/ yours/ yours/ yours/ yours/ yours/ yours/ yours/ yours/ yours/ yours/ yours/ yours/ yours/ yours/ yours/ yours/ yours/ yours/ yours/ yours/ yours/ yours/ yours/ yours/ yours/ yours/ yours/ yours/ yours/ yours/ yours/ yours/ yours/ yours/ yours/ yours/ yours/ yours/ yours/ yours/ yours/ yours/ yours/ yours/ yours/ yours/ yours/ yours/ yours/ yours/ yours/ yours/ yours/ yours/ yours/ yours/ yours/ yours/ yours/ yours/ yours/ yours/ yours/ yours/ yours/ yours/ yours/ yours/ yours/ yours/ yours/ yours/ yours/ yours/\n",
            "\n",
            "[210 | 213.30] loss=0.04 avg=0.35\n",
            "[220 | 222.13] loss=0.06 avg=0.33\n",
            "[230 | 230.96] loss=0.03 avg=0.32\n",
            "[240 | 239.79] loss=0.03 avg=0.30\n",
            "[250 | 248.62] loss=0.06 avg=0.29\n",
            "[260 | 257.44] loss=0.02 avg=0.28\n",
            "[270 | 266.27] loss=0.06 avg=0.27\n",
            "[280 | 275.10] loss=0.03 avg=0.26\n",
            "[290 | 283.93] loss=0.01 avg=0.25\n",
            "[300 | 292.76] loss=0.07 avg=0.25\n",
            "[310 | 301.58] loss=0.04 avg=0.24\n",
            "[320 | 310.41] loss=0.04 avg=0.23\n",
            "[330 | 319.24] loss=0.03 avg=0.22\n",
            "[340 | 328.07] loss=0.06 avg=0.22\n",
            "[350 | 336.90] loss=0.04 avg=0.21\n",
            "[360 | 345.72] loss=0.03 avg=0.21\n",
            "[370 | 354.55] loss=0.01 avg=0.20\n",
            "[380 | 363.39] loss=0.02 avg=0.19\n",
            "[390 | 372.24] loss=0.03 avg=0.19\n",
            "[400 | 381.09] loss=0.03 avg=0.18\n",
            "======== SAMPLE 1 ========\n",
            " Art. These lessons apply both to war and to life's daily errands or toil.\n",
            "\n",
            "The Art of War has also been applied in sports. National Football League coach Bill Belichick, recorded holder of the most Super Bowl wins in history, has stated on multiple occasions his admiration for The Art of War. Brazilian association football coach Luiz Felipe Scolari actively used The Art of War for Brazil’s successful 2002 World Cup campaign. During the tournament Scolari put passages of The Art of War underneath his players’ doors in the night.\n",
            "\n",
            "The Art of War is often quoted while developing tactics and/or strategy in Electronic Sports. Particularly, one of the fundamental books about e-sports, \"Play To Win\" by Massachusetts Institute of Technology graduate David Sirlin, is actually just an analysis about possible applications of the ideas from The Art of War in modern Electronic Sports. The Art of War was released in 2014 as an e-book companion alongside the Art of War DLC for Europa Universalis IV, a PC strategy game by Paradox Development Studios, with a foreword by Thomas Johansson.\n",
            "The Art of War and Sun Tzu have been referenced and quoted in various movies and television shows. In the 1987 movie Wall Street, Gordon Gekko (Michael Douglas) frequently references The Art of War while dispensing advice to his young protégé Bud Fox (Charlie Sheen). In the latter stages of the movie, Fox mentions Sun Tzu himself when describing his plan on trapping Gekko. The 20th James Bond film, Die Another Day, released in 2002, also references ' ' ' 'The Art of War' ' as the spiritual guide shared by Colonel Moon and his father.\n",
            "\n",
            "In 1972, the Yinqueshan Han slips were discovered in two Han dynasty (206 BC – AD 220) tombs near the city of Linyi in Shandong Province. Among the many bamboo slip writings contained in the tombs, which had been sealed between 134 and 118 BC, respectively were two separate texts, one attributed to \"Sunzi\", corresponding to the received text, and another attributed to Sun Bin, which explains and expands upon the earlier The Art of War by Sunzi. The Sun Bin text's material overlaps with much of the \"Sunzi\" text, and the two may be \"a single, continuously developing intellectual tradition united under the Sun name\". This discovery showed that much of the historical confusion was due to the fact that there were two texts that could have been referred to as \"Master Sun's Art of War\", not one. The content of the earlier text is about one-third of the chapters of the modern The Art of War, and their text matches very closely. It is now generally accepted that the earlier The Art of War was completed sometime between 500 and 430 BC.\n",
            "\n",
            "\n",
            "In the Michael Bay film The Rock, imprisoned British spy John Mason (Sean Connery) has a copy of The Art of War on his bookshelf in his cell.\n",
            "\n",
            "In television, The Art of War was referenced in The Sopranos. In season 3, episode 8 (“He Is Risen”), Dr. Melfi suggests to Tony Soprano that he read the book. Later in the episode Tony tells Dr. Melfi he is impressed with the Sun Tzu, stating “Here’s this guy, a Chinese general, who wrote this thing 2400 years ago, and most of it still applies today!” Immediately following the episode of The Sopranos sales of The Art of War spiked.\n",
            "\n",
            "The Art of War is an ancient Chinese military treatise dating from the Late Spring and Autumn Period (roughly 5th century BC). The work, which is attributed to the ancient Chinese military strategist Sun Tzu (\"Master Sun\", also spelled Sunzi), is composed of 13 chapters. Each one is devoted to an aspect of warfare and how it applies to military strategy and tactics. For almost 1,500 years it was the lead text in an anthology that would be formalised as the Seven Military Classics by Emperor Shenzong of Song in 1080. The Art of War remains the most influential strategy text in East Asian warfare and has influenced both Eastern and Western military thinking, business tactics, legal strategy, lifestyles and beyond.\n",
            "\n",
            "The book contained a detailed explanation and analysis of the Chinese military, from weapons and strategy to rank and discipline. Sun also stressed the importance of intelligence operatives and espionage to the war effort. Because Sun has long been considered to be one of history's finest military tacticians and analysts, his teachings and strategies formed the basis of advanced military training for centuries to come.\n",
            "\n",
            "The book was translated into French and published in 1772 (re-published in 1782) by the French Jesuit Jean Joseph Marie Amiot. A partial translation into English was attempted by British officer Everard Ferguson Calthrop in 1905 under the title The Book of War. The first annotated English translation was completed and published by Lionel Giles in 1910. Military and\n",
            "\n",
            "[410 | 406.18] loss=0.05 avg=0.18\n",
            "[420 | 415.01] loss=0.03 avg=0.18\n",
            "[430 | 423.84] loss=0.05 avg=0.17\n",
            "[440 | 432.69] loss=0.04 avg=0.17\n",
            "[450 | 441.53] loss=0.03 avg=0.16\n",
            "[460 | 450.35] loss=0.04 avg=0.16\n",
            "[470 | 459.17] loss=0.04 avg=0.16\n",
            "[480 | 468.00] loss=0.03 avg=0.15\n",
            "[490 | 476.83] loss=0.02 avg=0.15\n",
            "[500 | 485.65] loss=0.02 avg=0.15\n",
            "Saving checkpoint/run1/model-500\n",
            "[510 | 501.85] loss=0.04 avg=0.14\n",
            "[520 | 510.68] loss=0.02 avg=0.14\n",
            "[530 | 519.51] loss=0.03 avg=0.14\n",
            "[540 | 528.33] loss=0.04 avg=0.14\n",
            "[550 | 537.18] loss=0.01 avg=0.13\n",
            "[560 | 546.00] loss=0.01 avg=0.13\n",
            "[570 | 554.84] loss=0.04 avg=0.13\n",
            "[580 | 563.66] loss=0.02 avg=0.13\n",
            "[590 | 572.48] loss=0.02 avg=0.12\n",
            "[600 | 581.31] loss=0.01 avg=0.12\n",
            "======== SAMPLE 1 ========\n",
            " he made use of the tactics he picked up along the way to become a part of such legendary fighting squads as the modern-day Vietcong, Nguyên Giáp, and they are still the right decisions today. First, however, a bit of a snapshot of the game.\n",
            "\n",
            "The basic idea is that you have a limited number of moves available to you in battle, and they are all based on solid strategy. Strategy comes from what can you do, with what, and via which channels. Without a clear understanding of your own limitations in resources, capabilities, of training, of staff, of human capital, of insight, of experience, of wit, and so on.\n",
            "\n",
            "I guess a good general has a say in when and how he wants to engage his troops, when and where. It is he who determines when to rally his reserves, when to concentrate fire, and so forth.\n",
            "\n",
            "I guess a good general has a say in when and how he wants to engage his troops, when and where. It is he who determines when to rally his reserves, when to concentrate fire, and so forth.\n",
            "\n",
            "This is a very old saying in Chinese military philosophy. It may be ancient or it may be contemporary, but whatever its origin, it is always wise to have a well-informed and diverse enemy.\n",
            "\n",
            "This is a very old saying in Chinese military philosophy. It may be ancient or it may be contemporary, but whatever its origin, it is always wise to have a well-informed and diverse enemy.\n",
            "\n",
            "Sun Tzu’s aphorism reinforces the importance of having a fully-rounded enemy, with a full understanding of his strengths and weaknesses, and a keen ability to exploit those strengths and weaknesses. Without such a foe, you can never hope to win a battle.\n",
            "\n",
            "The way the wisdom can apply to the lives of common civilians in the modern world exemplifies the book as a whole. Sun Tzu’s powerful words are being echoed today in the form of popular culture, in the form of corporate business strategy, in the form of advertising, in the form of sports, and in the everyday workings of our lives.\n",
            "\n",
            "By the way, the content of The Art of War is meant for everyone. If you just want a gentle introduction to the concepts, this is definitely not the book for you. If you are very interested in the Art of War in the larger context of great Asian writing and the history of China, then you need to get this book. It is, by far, the most complete presentation of Sun Tzu’s teachings and how to apply them in battle.\n",
            "\n",
            "Sun Tzu’s classic work is, in short, a fascinating mixture of the poetic and the pragmatic, and every bit as relevant now as when it was written.Whenever I read classics such as The Art of War, The Way of the Samurai and The Book of Five Rings, I always look for metaphors to make the text relevant for today. I often use competition as a metaphor for war.\n",
            "\n",
            "Sun Tzu, a Chinese philosopher, military general, and strategist from 722–481 BC wrote The Art of War, which is one of the earliest books on military strategy. Many military leaders and strategists from all over the world have studied the contents of The Art of War. \n",
            "\n",
            "After much exploring which author’s translation and interpretation of Sun Tzu’s famous classic The Art of War, written around 512 BC, would be a perfect read, Lionel Giles was the obvious answer. A book with a history of his own, written slowly over the years, with tried and tested strategies and learning taken up from various wars and battles Chinese army general Sun Wu Tzu fought during his lifetime.\n",
            "\n",
            "Art of war lists down various methods one would apply to be on a superior side during different stages of a battle. Some of these to-the-point lessons seem so obvious when you read them, but they never really occurred to you in your mind – “Appear weak when you are strong, and strong when you are weak.”\n",
            "\n",
            "These lessons, though written from a battle point of view, for a soldier, can be extrapolated to use in various situations, like in a business, where there are similar entities to deal with, like rivals, competitors, capturing a higher position(in market), keeping your soldiers/employees motivated etc.\n",
            "\n",
            "Lionel Giles adds up his own interpretations and perspectives while translating the text, which helps in clearing out certain points. He pushes in references to physical entities like hills and marshes which have been figuratively mentioned in the book. He also points out sections which he thinks might have been obfuscated through the years.\n",
            "\n",
            "Overall, The Art of War is a book which can be read by anyone as it’s just around 100 pages and is interesting and thought-provoking read even if the reader has no intention to take home any sort of learning from it.\n",
            "\n",
            "\n",
            "[610 | 606.47] loss=0.01 avg=0.12\n",
            "[620 | 615.31] loss=0.02 avg=0.12\n",
            "[630 | 624.13] loss=0.02 avg=0.11\n",
            "[640 | 632.95] loss=0.06 avg=0.11\n",
            "[650 | 641.77] loss=0.06 avg=0.11\n",
            "[660 | 650.60] loss=0.03 avg=0.11\n",
            "[670 | 659.43] loss=0.01 avg=0.11\n",
            "[680 | 668.26] loss=0.03 avg=0.11\n",
            "[690 | 677.09] loss=0.01 avg=0.10\n",
            "[700 | 685.95] loss=0.06 avg=0.10\n",
            "[710 | 694.78] loss=0.03 avg=0.10\n",
            "[720 | 703.60] loss=0.02 avg=0.10\n",
            "[730 | 712.44] loss=0.01 avg=0.10\n",
            "[740 | 721.27] loss=0.03 avg=0.10\n",
            "[750 | 730.11] loss=0.05 avg=0.10\n",
            "[760 | 738.93] loss=0.02 avg=0.10\n",
            "[770 | 747.76] loss=0.04 avg=0.09\n",
            "[780 | 756.58] loss=0.03 avg=0.09\n",
            "[790 | 765.42] loss=0.04 avg=0.09\n",
            "[800 | 774.25] loss=0.01 avg=0.09\n",
            "======== SAMPLE 1 ========\n",
            " expert of Sun Tzu’s Art of War. Many researchers studying ancient Chinese military practice and philosophy, business tactics, legal strategy, marketing practices, and beyond, have turned to The Art of War for inspiration and advice on how to succeed in competitive marketplaces.\n",
            "\n",
            "And while we at MarketWatch have praised the efforts of The Art of War in helping to advance the cause of peace in Asia, we have long found that the organization to be insufficiently effective in advancing the cause of peace in the western world. Particularly when it comes to the wars in Iraq and Afghanistan, which featured substantial urban areas as well as broad deserts, heavily vegetated river valleys, and rugged hills and mountains, respectively, we found that the actions of the Iraqi and Afghan forces were, by and large, duplicative and, if not counterproductive, at best.\n",
            "\n",
            "And at major military events such as the Gulf War, the Rose Garden, and the Battle of Dien Bien Phu, the effects of The Art of War were felt most keenly by the men and women serving in the armed forces. At these occasions, we often observed that the men and women served in uniform shared commonalities with one another. Indeed, when I was privileged to command the International Security Assistance Force in Iraq and Afghanistan, we shared common enemy ideas. And at these gatherings, I asked the honorable to rank and discipline in the Iraqi forces, and to give me the authority to make changes to their mission and capabilities.\n",
            "\n",
            "At these gatherings, each division commander offered two lessons or initiatives he thought would be of relevance to the other commanders present. Fostering a culture of learning in a military unit is hugely important.\n",
            "\n",
            "Sun Tzu also highlighted the importance of concealment and deception, a vital part of his thinking. “The most refined form to give your troops is being without form or invisible. If they are invisible, a well-concealed spy cannot spy on them, and a wise man cannot make plans against them.”\n",
            "\n",
            "Even in the battles in which we were engaged in the post-9/11 campaigns, hiding intentions until the last possible minute often enabled at least tactical surprise, and that awareness very much informed the way our operations were conducted during the Surges in Iraq and Afghanistan.\n",
            "\n",
            "Sun Tzu clearly appreciated the value of wars speedily under-taken and quickly concluded. Prolonged wars are, needless to say, costly and drain soldiers of their staying power.\n",
            "\n",
            "“I have heard of war being waged with foolish haste,” he noted, “but have never seen a war skilfully prolonged. No state has ever gained from protracted war. Given the nature of war, speed is essential.”\n",
            "\n",
            "Those are, again, very wise words, though the experiences of Iraq, Syria, and Afghanistan show how hard it is to “operationalise” them in the contemporary struggle against extremism that appears to be generational in nature, not a fight to be won by taking a particular hill and planting the flag. Perhaps an update of those observations would include a caution to ensure that if a war is to be prolonged, the strategy for it has to be “sustainable” in terms of the expenditure of “blood and treasure”.\n",
            "\n",
            "And it is heartening to see approaches evolve in Iraq, Syria, and Afghanistan in which our forces (modest in size compared to the numbers deployed during the Surge years) are training, equipping, advising, assisting, and enabling host nation forces, but in which the host nation forces are doing the fighting on the front lines. That makes lengthy endeavours much more sustainable than when we have very large deployments and are also on the front lines.\n",
            "\n",
            "Sun Tzu’s emphasis on the importance of the wartime commander is also critical. “A general is the buttress of the state,” he observed. “The general who understands war is master of the people’s fate, and oversees the safe keeping of the state.” Timeless too is Sun Tzu’s appreciation that commanding officers and their forces must see eye to eye. “If your upper and lower ranks want the same things, you will win.”\n",
            "\n",
            "Leaders of the wars of the past sixteen years certainly can underscore the importance of leaders at all levels understanding the intent of the overall commander and being able to translate big ideas at the top level into tactical actions by what we often termed “strategic lieutenants and sergeants”, so identified because tactical actions at their levels could often have strategic con-sequences. It was to facilitate such understanding at all levels, in fact, that I published, and distributed to the entire chain of command, counterinsurgency guidance for both Iraq and Afghanistan when I led the coalitions there, a practice that has typically been continued.\n",
            "\n",
            "Sun Tzu had unusual insight into the potential of combining action by regular and irregular troops and also the conduct\n",
            "\n",
            "[810 | 799.31] loss=0.05 avg=0.09\n",
            "[820 | 808.14] loss=0.02 avg=0.09\n",
            "[830 | 816.96] loss=0.02 avg=0.09\n",
            "[840 | 825.79] loss=0.01 avg=0.09\n",
            "[850 | 834.61] loss=0.02 avg=0.09\n",
            "[860 | 843.43] loss=0.01 avg=0.08\n",
            "[870 | 852.26] loss=0.06 avg=0.08\n",
            "[880 | 861.10] loss=0.02 avg=0.08\n",
            "[890 | 869.93] loss=0.01 avg=0.08\n",
            "[900 | 878.77] loss=0.03 avg=0.08\n",
            "[910 | 887.59] loss=0.05 avg=0.08\n",
            "[920 | 896.41] loss=0.02 avg=0.08\n",
            "[930 | 905.24] loss=0.01 avg=0.08\n",
            "[940 | 914.08] loss=0.07 avg=0.08\n",
            "[950 | 922.92] loss=0.02 avg=0.08\n",
            "[960 | 931.75] loss=0.01 avg=0.08\n",
            "[970 | 940.57] loss=0.02 avg=0.07\n",
            "[980 | 949.39] loss=0.03 avg=0.07\n",
            "[990 | 958.22] loss=0.02 avg=0.07\n",
            "[1000 | 967.05] loss=0.01 avg=0.07\n",
            "Saving checkpoint/run1/model-1000\n",
            "WARNING:tensorflow:From /tensorflow-1.15.2/python3.6/tensorflow_core/python/training/saver.py:963: remove_checkpoint (from tensorflow.python.training.checkpoint_management) is deprecated and will be removed in a future version.\n",
            "Instructions for updating:\n",
            "Use standard file APIs to delete files with this prefix.\n"
          ],
          "name": "stdout"
        }
      ]
    },
    {
      "cell_type": "code",
      "metadata": {
        "id": "_ypgQBNNG5zF",
        "colab_type": "code",
        "colab": {}
      },
      "source": [
        "gpt2.copy_checkpoint_to_gdrive(run_name='run1')"
      ],
      "execution_count": 0,
      "outputs": []
    },
    {
      "cell_type": "code",
      "metadata": {
        "id": "AL1Pgwk2HGwp",
        "colab_type": "code",
        "colab": {}
      },
      "source": [
        "gpt2.copy_checkpoint_from_gdrive(run_name='run1')"
      ],
      "execution_count": 0,
      "outputs": []
    },
    {
      "cell_type": "code",
      "metadata": {
        "id": "1KZIBHJ4HRmq",
        "colab_type": "code",
        "colab": {}
      },
      "source": [
        "sess = gpt2.start_tf_sess()\n"
      ],
      "execution_count": 0,
      "outputs": []
    },
    {
      "cell_type": "code",
      "metadata": {
        "id": "jfjuBNBWIllP",
        "colab_type": "code",
        "colab": {
          "base_uri": "https://localhost:8080/",
          "height": 54
        },
        "outputId": "4c53cd4e-5a0c-4964-88ad-9d2b1e03812b"
      },
      "source": [
        "gpt2.load_gpt2(sess, run_name='run1')"
      ],
      "execution_count": 4,
      "outputs": [
        {
          "output_type": "stream",
          "text": [
            "Loading checkpoint checkpoint/run1/model-1000\n",
            "INFO:tensorflow:Restoring parameters from checkpoint/run1/model-1000\n"
          ],
          "name": "stdout"
        }
      ]
    },
    {
      "cell_type": "code",
      "metadata": {
        "id": "feihXb3EHjVW",
        "colab_type": "code",
        "colab": {
          "base_uri": "https://localhost:8080/",
          "height": 349
        },
        "outputId": "907543fe-c915-48f0-89ec-95eef72ebee0"
      },
      "source": [
        "gpt2.generate(sess, run_name='run1')"
      ],
      "execution_count": 5,
      "outputs": [
        {
          "output_type": "stream",
          "text": [
            "The Art of War is an ancient Chinese military treatise dating from the Late Spring and Autumn Period (roughly 5th century BC). The work, which is attributed to the ancient Chinese military strategist Sun Tzu (\"Master Sun\", also spelled Sunzi), is composed of 13 chapters. Each one is devoted to an aspect of warfare and how it applies to military strategy and tactics. For almost 1,500 years it was the lead text in an anthology that would be formalised as the Seven Military Classics by Emperor Shenzong of Song in 1080. The Art of War remains the most influential strategy text in East Asian warfare and has influenced both Eastern and Western military thinking, business tactics, legal strategy, lifestyles and beyond.\n",
            "\n",
            "The book contained a detailed explanation and analysis of the Chinese military, from weapons and strategy to rank and discipline. Sun also stressed the importance of intelligence operatives and espionage to the war effort. Because Sun has long been considered to be one of history's finest military tacticians and analysts, his teachings and strategies formed the basis of advanced military training for centuries to come.\n",
            "\n",
            "The book was translated into French and published in 1772 (re-published in 1782) by the French Jesuit Jean Joseph Marie Amiot. A partial translation into English was attempted by British officer Everard Ferguson Calthrop in 1905 under the title The Book of War. The first annotated English translation was completed and published by Lionel Giles in 1910. Military and political leaders such as the Chinese communist revolutionary Mao Zedong, Japanese daimyō Takeda Shingen, Vietnamese general Võ Nguyên Giáp, and American military general Norman Schwarzkopf Jr. have drawn inspiration from the book. \n",
            "\n",
            "The Art of War is traditionally attributed to a military general from the late 6th century BC known as \"Master Sun\" (Mandarin: \"Sunzi\", earlier \"Sun Tzu\"), though its earliest parts probably date to at least 100 years later. Sima Qian's 1st century BC work Records of the Grand Historian (Shiji), the first of China's 24 dynastic histories, records an early Chinese tradition that a text on military matters was written by one \"Sun Wu\" (孫武) from the State of Qi, and that this text had been read and studied by King Helü of Wu (r. 514–495 BC). This text was traditionally identified with the received Master Sun's Art of War. The conventional view was that Sun Wu was a military theorist from the end of the Spring and Autumn period (776–471 BC) who fled his home state of Qi to the southeastern kingdom of Wu, where he is said to have impressed the king with his ability to train even dainty palace ladies in warfare and to have made Wu's armies powerful enough to challenge their western rivals in the state of Chu. This view is still widely held in China.\n",
            "\n",
            "The strategist, poet, and warlord Cao Cao in the early 3rd century AD authored the earliest known commentary to the Art of War. Cao's preface makes clear that he edited the text and removed certain passages, but the extent of his changes were unclear historically. The Art of War appears throughout the bibliographical catalogs of the Chinese dynastic histories, but listings of its divisions and size varied widely. In the early 20th century, the Chinese writer and reformer Liang Qichao theorized that the text was actually written in the 4th century BC by Sunzi's purported descendant Sun Bin, as a number of historical sources mention a military treatise he wrote.\n",
            "\n",
            "Across East Asia, The Art of War was part of the syllabus for potential candidates of military service examinations.\n",
            "\n",
            "During the Sengoku period (c. 1467–1568), the Japanese daimyō named Takeda Shingen (1521–1573) is said to have become almost invincible in all battles without relying on guns, because he studied The Art of War. The book even gave him the inspiration for his famous battle standard \"Fūrinkazan\" (Wind, Forest, Fire and Mountain), meaning fast as the wind, silent as a forest, ferocious as fire and immovable as a mountain.\n",
            "\n",
            "The translator Samuel B. Griffith offers a chapter on \"Sun Tzu and Mao Tse-Tung\" where The Art of War is cited as influencing Mao's On Guerrilla Warfare, On the Protracted War and Strategic Problems of China's Revolutionary War, and includes Mao's quote: \"We must not belittle the saying in the book of Sun Wu Tzu, the great military expert of ancient China, 'Know your enemy and know yourself and you can fight a thousand battles without disaster.\"\n",
            "\n",
            "During the Vietnam War, some Vietcong officers extensively studied The Art of War and reportedly could recite entire passages from memory. General Võ Nguyên Giáp successfully implemented tactics described in The Art of War during the Battle of Dien Bien Phu ending\n"
          ],
          "name": "stdout"
        }
      ]
    },
    {
      "cell_type": "code",
      "metadata": {
        "id": "sGGZh1OOHy7o",
        "colab_type": "code",
        "colab": {
          "base_uri": "https://localhost:8080/",
          "height": 533
        },
        "outputId": "51a509fb-da68-46ea-b106-abf7b2d7a976"
      },
      "source": [
        "gpt2.generate(sess,\n",
        "              length=250,\n",
        "              temperature=0.7,\n",
        "              prefix=\"Sun Tzu\",\n",
        "              nsamples=5,\n",
        "              batch_size=5\n",
        "              )"
      ],
      "execution_count": 6,
      "outputs": [
        {
          "output_type": "stream",
          "text": [
            "Sun Tzu’s observation also highlights the importance of constant learning on the battlefield. As we reminded ourselves repeatedly while developing plans for operations in Iraq, Afghanistan, and elsewhere in the Middle East and Central Asia, the enemy does, indeed, “get a vote,” and we always needed to appreciate how he might react to our operations. Preparing for a variety of enemy responses, not just the most likely, has to be a central part of any planning process.\n",
            "\n",
            "Also of great importance to Sun Tzu was understanding the terrain, with all its variations and prospective uses, better than the enemy does. This is a tall order, especially when fighting on foreign soil and perhaps even on the enemy’s own turf. We certainly revalidated this reality in Iraq and Afghanistan, which featured substantial urban areas as well as broad deserts, heavily vegetated river valleys, and rugged hills and mountains. And while we frequently observed that the human terrain was the decisive terrain, the physical terrain and manmade objects often dictated how we and our partners on the ground were able to engage, secure, and serve the people - tasks that were of central importance in the irregular warfare of the post- 9/11 era.\n",
            "\n",
            "Another key observation of\n",
            "====================\n",
            "Sun Tzu has drawn inspiration for his teachings and strategies from various wars and battles Chinese army general Sun Wu Tzu fought during his lifetime. During the Sengoku period (c. 1467–1568), the Japanese daimyō named Takeda Shingen (1521–1573) is said to have become almost invincible in all battles without relying on guns, because he studied The Art of War. The book even gave him the inspiration for his famous battle standard \"Fūrinkazan\" (Wind, Forest, Fire and Mountain), meaning fast as the wind, silent as a forest, ferocious as fire and immovable as a mountain.\n",
            "\n",
            "The translator Samuel B. Griffith offers a chapter on \"Sun Tzu and Mao Tse-Tung\" where The Art of War is cited as influencing Mao's On Guerrilla Warfare, On the Protracted War and Strategic Problems of China's Revolutionary War, and includes Mao's quote: \"We must not belittle the saying in the book of Sun Wu Tzu, the great military expert of ancient China, 'Know your enemy and know yourself and you can fight a thousand battles without disaster.\"\n",
            "\n",
            "During the Vietnam War, some Vietcong officers extensively studied The Art\n",
            "====================\n",
            "Sun Tzu was a Chinese general that specialized in military tactics and strategic warfare. In the late 6th century BC, he was active in the wars of the Three Kingdoms (681–471 BC), and was a major player in the early stages of the Three Kingdoms' War (471–471 BC). During this time, he developed a great deal of insight into the thinking of the military and how it might pan out in war. Here is how he described his process in creating his most recent texts:\n",
            "\n",
            "“In starting a battle,” he says, “you must know your enemy, but also your own strengths and weakness.” This advice echoes in Sun Tzu’s own writings, which often veers into the realm of politics. In the Vietnam War, for example, some Vietcong officers extensively studied The Art of War and reportedly could recite entire passages from memory. General Võ Nguyên Giáp successfully implemented tactics described in The Art of War during the Battle of Dien Bien Phu ending major French involvement in Indochina and leading to the accords which partitioned Vietnam into North and South. General Võ, later the main PVA military commander in the Vietnam War,\n",
            "====================\n",
            "Sun Tzu’s observation also highlights the importance of constant learning on the battlefield. “Know your enemy and know yourself, and fight a hundred battles without danger,” he advised. “Know yourself but not your enemy, and win one battle but lose another.”\n",
            "\n",
            "As we reminded ourselves repeatedly while developing plans for operations in Iraq, Afghanistan, and elsewhere in the Middle East and Central Asia, the enemy does, indeed, “get a vote,” and we always needed to appreciate how he might react to our operations. Preparing for a variety of enemy responses, not just the most likely, has to be a central part of any planning process.\n",
            "\n",
            "Also of great importance to Sun Tzu was understanding the terrain, with all its variations and prospective uses, better than the enemy does. This is a tall order, especially when fighting on foreign soil and perhaps even on the enemy’s own turf. We certainly revalidated this reality in Iraq and Afghanistan, which featured substantial urban areas as well as broad deserts, heavily vegetated river valleys, and rugged hills and mountains. And while we frequently observed that the human terrain was the decisive terrain, the physical terrain and manmade objects often dictated how we\n",
            "====================\n",
            "Sun Tzu is often quoted while developing tactics and/or strategy in Electronic Sports. Particularly, one of the fundamental books about e-sports, \"Play To Win\" by Massachusetts Institute of Technology graduate David Sirlin, is actually just an analysis about possible applications of the ideas from The Art of War in modern Electronic Sports. The Art of War was released in 2014 as an e-book companion alongside the Art of War DLC for Europa Universalis IV, a PC strategy game by Paradox Development Studios, with a foreword by Thomas Johansson.\n",
            "The Art of War and Sun Tzu have been referenced and quoted in various movies and television shows. In the 1987 movie Wall Street, Gordon Gekko (Michael Douglas) frequently references The Art of War while dispensing advice to his young protégé Bud Fox (Charlie Sheen). In the latter stages of the movie, Fox mentions Sun Tzu himself when describing his plan on trapping Gekko. The 20th James Bond film, Die Another Day, released in 2002, also references ' 'The Art of War' ' as the spiritual guide shared by Colonel Moon and his father.\n",
            "\n",
            "In 1972, the Yinqueshan Han slips were discovered in two Han dynasty (206 BC – AD\n",
            "====================\n"
          ],
          "name": "stdout"
        }
      ]
    },
    {
      "cell_type": "code",
      "metadata": {
        "id": "LLMTfXhoH8j3",
        "colab_type": "code",
        "colab": {}
      },
      "source": [
        "# for bulk generation\n",
        "gen_file = 'gpt2_gentext_{:%Y%m%d_%H%M%S}.txt'.format(datetime.utcnow())\n",
        "\n",
        "gpt2.generate_to_file(sess,\n",
        "                      destination_path=gen_file,\n",
        "                      length=500,\n",
        "                      temperature=0.7,\n",
        "                      nsamples=100,\n",
        "                      batch_size=20\n",
        "                      )\n"
      ],
      "execution_count": 0,
      "outputs": []
    },
    {
      "cell_type": "code",
      "metadata": {
        "id": "vgSjfBhWIIqj",
        "colab_type": "code",
        "colab": {}
      },
      "source": [
        "# downloading the file\n",
        "files.download(gen_file)"
      ],
      "execution_count": 0,
      "outputs": []
    },
    {
      "cell_type": "code",
      "metadata": {
        "id": "etRZnfqCINYn",
        "colab_type": "code",
        "colab": {}
      },
      "source": [
        "# we can generate from without finetuning the model too\n",
        "\n",
        "model_name = \"774M\"\n",
        "\n",
        "gpt2.download_gpt2(model_name=model_name)"
      ],
      "execution_count": 0,
      "outputs": []
    },
    {
      "cell_type": "code",
      "metadata": {
        "id": "505e_lieJj2q",
        "colab_type": "code",
        "colab": {}
      },
      "source": [
        "sess = gpt2.start_tf_sess()\n",
        "\n",
        "gpt2.load_gpt2(sess, model_name=model_name)"
      ],
      "execution_count": 0,
      "outputs": []
    },
    {
      "cell_type": "code",
      "metadata": {
        "id": "_7wpoYIpJl4-",
        "colab_type": "code",
        "colab": {}
      },
      "source": [
        "gpt2.generate(sess,\n",
        "              model_name=model_name,\n",
        "              prefix=\"The secret of life is\",\n",
        "              length=100,\n",
        "              temperature=0.7,\n",
        "              top_p=0.9,\n",
        "              nsamples=5,\n",
        "              batch_size=5\n",
        "              )"
      ],
      "execution_count": 0,
      "outputs": []
    },
    {
      "cell_type": "code",
      "metadata": {
        "id": "_UGjNTtcJqYy",
        "colab_type": "code",
        "colab": {}
      },
      "source": [
        "# to kill the vm\n",
        "\n",
        "!kill -9 -1"
      ],
      "execution_count": 0,
      "outputs": []
    }
  ]
}