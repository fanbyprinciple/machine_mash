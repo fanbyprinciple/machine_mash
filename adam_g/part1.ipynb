{
 "cells": [
  {
   "cell_type": "code",
   "execution_count": 1,
   "metadata": {},
   "outputs": [],
   "source": [
    "# not gonnawork\n",
    "def estimate_house_sales_price(num_of_bedrooms, sqft, neighbhorhood):\n",
    "    price = 0\n",
    "    \n",
    "    price_per_sqft = 200\n",
    "    \n",
    "    if neighbhorhood == \"hipsterton\":\n",
    "        price_per_sqft = 400\n",
    "    \n",
    "    elif neighbhorhood == \"skid row\":\n",
    "        price_per_sqft = 100\n",
    "        \n",
    "    price = price_per_sqft * sqft\n",
    "    \n",
    "    if num_of_bedrooms == 0:\n",
    "        price = price - 20000\n",
    "    \n",
    "    else:\n",
    "        price = price + (num_of_bedrooms * 1000)\n",
    "    \n",
    "    return price"
   ]
  }
 ],
 "metadata": {
  "kernelspec": {
   "display_name": "Python (tf_gpu)",
   "language": "python",
   "name": "tf_gpu"
  },
  "language_info": {
   "codemirror_mode": {
    "name": "ipython",
    "version": 3
   },
   "file_extension": ".py",
   "mimetype": "text/x-python",
   "name": "python",
   "nbconvert_exporter": "python",
   "pygments_lexer": "ipython3",
   "version": "3.7.4"
  }
 },
 "nbformat": 4,
 "nbformat_minor": 2
}
